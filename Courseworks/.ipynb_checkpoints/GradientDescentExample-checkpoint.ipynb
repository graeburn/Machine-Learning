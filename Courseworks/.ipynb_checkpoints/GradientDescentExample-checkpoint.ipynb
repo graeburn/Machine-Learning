{
 "cells": [
  {
   "cell_type": "code",
   "execution_count": 1,
   "metadata": {},
   "outputs": [],
   "source": [
    "import numpy as np"
   ]
  },
  {
   "cell_type": "code",
   "execution_count": 1,
   "metadata": {},
   "outputs": [],
   "source": [
    "def square(x):\n",
    "    return x**2\n",
    "\n",
    "def square_gradient(x):\n",
    "    return 2*x\n",
    "\n",
    "# Could be logistic regression function as in project"
   ]
  },
  {
   "cell_type": "markdown",
   "metadata": {},
   "source": [
    "$$ x^{k + 1} = x^k -\\tau \\nabla f(x^k) $$\n",
    "$$ f(x) = x^2 $$\n",
    "$$ \\nabla f(x) = f^\\prime(x) = 2 x $$\n",
    "$$ | f^\\prime(x) - f^\\prime(y) | \\leq \\frac{1}{\\tau} | x - y | $$\n",
    "$$ | f^\\prime(x) - f^\\prime(y) | = \\underbrace{2}_{=L} | x - y | $$\n",
    "$$ \\tau \\leq \\frac1L $$"
   ]
  },
  {
   "cell_type": "code",
   "execution_count": 5,
   "metadata": {},
   "outputs": [
    {
     "name": "stdout",
     "output_type": "stream",
     "text": [
      "Iteration no. 1, objective: 0.039999999999999716\n",
      "Iteration no. 2, objective: 1.5999999999999806e-05\n",
      "Iteration no. 3, objective: 6.399999999999895e-09\n",
      "Iteration no. 4, objective: 2.559999999999951e-12\n",
      "Iteration no. 5, objective: 1.0239999999999776e-15\n",
      "Iteration no. 6, objective: 4.095999999999887e-19\n",
      "Iteration no. 7, objective: 1.6383999999999462e-22\n",
      "Iteration no. 8, objective: 6.553599999999779e-26\n",
      "Iteration no. 9, objective: 2.6214399999999303e-29\n",
      "Iteration no. 10, objective: 1.0485759999999727e-32\n",
      "Iteration no. 11, objective: 4.1943039999998745e-36\n",
      "Iteration no. 12, objective: 1.67772159999996e-39\n",
      "Iteration no. 13, objective: 6.710886399999863e-43\n",
      "Iteration no. 14, objective: 2.6843545599999538e-46\n",
      "Iteration no. 15, objective: 1.0737418239999786e-49\n",
      "Iteration no. 16, objective: 4.294967295999941e-53\n",
      "Iteration no. 17, objective: 1.7179869183999837e-56\n",
      "Iteration no. 18, objective: 6.871947673599972e-60\n",
      "Iteration no. 19, objective: 2.748779069439983e-63\n",
      "Iteration no. 20, objective: 1.0995116277759988e-66\n",
      "Iteration no. 21, objective: 4.398046511103992e-70\n",
      "Iteration no. 22, objective: 1.7592186044415995e-73\n",
      "Iteration no. 23, objective: 7.036874417766415e-77\n",
      "Iteration no. 24, objective: 2.81474976710655e-80\n",
      "Iteration no. 25, objective: 1.1258999068426157e-83\n",
      "Iteration no. 26, objective: 4.50359962737048e-87\n",
      "Iteration no. 27, objective: 1.801439850948193e-90\n",
      "Iteration no. 28, objective: 7.205759403792785e-94\n",
      "Iteration no. 29, objective: 2.8823037615171165e-97\n",
      "Iteration no. 30, objective: 1.152921504606851e-100\n",
      "Iteration no. 31, objective: 4.6116860184274105e-104\n",
      "Iteration no. 32, objective: 1.8446744073709808e-107\n",
      "Iteration no. 33, objective: 7.378697629483947e-111\n",
      "Iteration no. 34, objective: 2.9514790517935637e-114\n",
      "Iteration no. 35, objective: 1.1805916207174295e-117\n",
      "Iteration no. 36, objective: 4.722366482869747e-121\n",
      "Iteration no. 37, objective: 1.8889465931478835e-124\n",
      "Iteration no. 38, objective: 7.555786372591506e-128\n",
      "Iteration no. 39, objective: 3.0223145490366144e-131\n",
      "Iteration no. 40, objective: 1.2089258196146363e-134\n",
      "Iteration no. 41, objective: 4.8357032784585254e-138\n",
      "Iteration no. 42, objective: 1.934281311383411e-141\n",
      "Iteration no. 43, objective: 7.737125245533683e-145\n",
      "Iteration no. 44, objective: 3.094850098213461e-148\n",
      "Iteration no. 45, objective: 1.2379400392853894e-151\n",
      "Iteration no. 46, objective: 4.951760157141558e-155\n",
      "Iteration no. 47, objective: 1.98070406285662e-158\n",
      "Iteration no. 48, objective: 7.922816251426546e-162\n",
      "Iteration no. 49, objective: 3.1691265005706126e-165\n",
      "Iteration no. 50, objective: 1.267650600228247e-168\n"
     ]
    }
   ],
   "source": [
    "# Step size tau, try values or choose tau for Lipschitz continuity\n",
    "x = 10\n",
    "# Doesn't converge if tau too large like tau = 10 or far too slow if tau small like tau = 0.01\n",
    "tau = 0.49\n",
    "maximum_no_iteration = 50\n",
    "objectives=[]\n",
    "objectives.append(square(x))\n",
    "\n",
    "for k in range(maximum_no_iteration):\n",
    "    x = x - tau * square_gradient(x)\n",
    "    objectives.append(square(x))\n",
    "    print(\"Iteration no. {it}, objective: {ob}\".format(it=k+1, ob=objectives[k+1]))"
   ]
  },
  {
   "cell_type": "code",
   "execution_count": 7,
   "metadata": {},
   "outputs": [
    {
     "data": {
      "text/plain": [
       "[<matplotlib.lines.Line2D at 0x11afa1b70>]"
      ]
     },
     "execution_count": 7,
     "metadata": {},
     "output_type": "execute_result"
    },
    {
     "data": {
      "image/png": "[encoded data removed]",
      "text/plain": [
       "<Figure size 432x288 with 1 Axes>"
      ]
     },
     "metadata": {
      "needs_background": "light"
     },
     "output_type": "display_data"
    }
   ],
   "source": [
    "import matplotlib.pyplot as plt\n",
    "plt.plot(objectives)"
   ]
  },
  {
   "cell_type": "code",
   "execution_count": null,
   "metadata": {},
   "outputs": [],
   "source": []
  }
 ],
 "metadata": {
  "kernelspec": {
   "display_name": "Python 3",
   "language": "python",
   "name": "python3"
  },
  "language_info": {
   "codemirror_mode": {
    "name": "ipython",
    "version": 3
   },
   "file_extension": ".py",
   "mimetype": "text/x-python",
   "name": "python",
   "nbconvert_exporter": "python",
   "pygments_lexer": "ipython3",
   "version": "3.7.3"
  }
 },
 "nbformat": 4,
 "nbformat_minor": 2
}
