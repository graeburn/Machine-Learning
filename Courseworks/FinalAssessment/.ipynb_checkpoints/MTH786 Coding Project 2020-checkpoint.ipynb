{
 "cells": [
  {
   "cell_type": "markdown",
   "metadata": {},
   "source": [
    "Before you turn this problem in, make sure everything runs as expected. First, **restart the kernel** (in the menubar, select Kernel$\\rightarrow$Restart) and then **run all cells** (in the menubar, select Cell$\\rightarrow$Run All).\n",
    "\n",
    "Make sure you fill in any place that says `YOUR CODE HERE` and that you delete any **raise NotImplementedError()** once you have filled in your code. Enter your student identifier below:"
   ]
  },
  {
   "cell_type": "code",
   "execution_count": 2,
   "metadata": {},
   "outputs": [],
   "source": [
    "STUDENT ID = \"\""
   ]
  },
  {
   "cell_type": "markdown",
   "metadata": {},
   "source": [
    "---"
   ]
  },
  {
   "cell_type": "markdown",
   "metadata": {
    "deletable": false,
    "editable": false,
    "nbgrader": {
     "cell_type": "markdown",
     "checksum": "fdd840b9ab44a389a644d4ff41790a9a",
     "grade": false,
     "grade_id": "cell-6ded9e10fb35754f",
     "locked": true,
     "schema_version": 3,
     "solution": false,
     "task": false
    }
   },
   "source": [
    "# MTH786U/P final assessment template\n",
    "\n",
    "This is the coding template for the final assessment of MTH786U/P in 2020/2021.\n",
    "\n",
    "The goal of this assessment is to classify hand-written digits from the [MNIST database](https://en.wikipedia.org/wiki/MNIST_database) and to present your results in a written report (at most 8 pages). The assessment is formed of three parts: 1) filling in the missing parts of this Jupyter notebook, 2) applying learned concepts from this notebook and the module MTH786 in general to the MNIST classification problem, and 3) presenting your results in a written report (written in $\\LaTeX$). \n",
    "\n",
    "Author: [Martin Benning](mailto:m.benning@qmul.ac.uk)\n",
    "\n",
    "Date: 18.11.2020\n",
    "\n",
    "Follow the instructions in this template in order to complete the first part of your assessment. Please only modify cells where you are instructed to do so. Failure to comply may result in unexpected errors that can lead to mark deductions. We load the Numpy and Matplotlib libraries. Please do not add any additional libraries here but at a later stage if required."
   ]
  },
  {
   "cell_type": "code",
   "execution_count": 1,
   "metadata": {
    "deletable": false,
    "editable": false,
    "nbgrader": {
     "cell_type": "code",
     "checksum": "5bd7074d1695e70e8c0a936b29704da2",
     "grade": false,
     "grade_id": "cell-a633ccf06b277795",
     "locked": true,
     "schema_version": 3,
     "solution": false,
     "task": false
    }
   },
   "outputs": [],
   "source": [
    "import numpy as np\n",
    "import matplotlib.pyplot as plt"
   ]
  },
  {
   "cell_type": "markdown",
   "metadata": {
    "deletable": false,
    "editable": false,
    "nbgrader": {
     "cell_type": "markdown",
     "checksum": "8b8af802f1a0231178e470649ea44639",
     "grade": false,
     "grade_id": "cell-1521ab82136c8e27",
     "locked": true,
     "schema_version": 3,
     "solution": false,
     "task": false
    }
   },
   "source": [
    "## Binary logistic regression\n",
    "\n",
    "For the first part of your final assessment you are required to implement the logistic regression model for binary classification problems as introduced in the lectures. Following up on what you have learned in the lectures and tutorials, complete the following tasks.\n",
    "\n",
    "Write a function ***logistic_function*** that takes an argument named _inputs_ and returns the output of the logistic function, i.e.\n",
    "\n",
    "\\begin{align*}\n",
    "\\frac{1}{1 + \\exp(-x)} \\, ,\n",
    "\\end{align*}\n",
    "\n",
    "applied to the input. Here $x$ is the mathematical notation for the argument _inputs_."
   ]
  },
  {
   "cell_type": "code",
   "execution_count": 2,
   "metadata": {
    "deletable": false,
    "nbgrader": {
     "cell_type": "code",
     "checksum": "f7a31ab463bfd733a5550c57433d06c3",
     "grade": false,
     "grade_id": "logistic-function",
     "locked": false,
     "schema_version": 3,
     "solution": true,
     "task": false
    }
   },
   "outputs": [],
   "source": [
    "def logistic_function(inputs):\n",
    "    outputs = 1/(1+np.exp(-inputs))\n",
    "    return outputs\n",
    "    "
   ]
  },
  {
   "cell_type": "markdown",
   "metadata": {
    "deletable": false,
    "editable": false,
    "nbgrader": {
     "cell_type": "markdown",
     "checksum": "9d4000621fded3ac2c0b5634489af1d6",
     "grade": false,
     "grade_id": "cell-002e14c765e68b53",
     "locked": true,
     "schema_version": 3,
     "solution": false,
     "task": false
    }
   },
   "source": [
    "Test your function with the following unit tests. Passing this test will be awarded with **2 marks**. Please note that not all unit tests are visible to you."
   ]
  },
  {
   "cell_type": "code",
   "execution_count": 3,
   "metadata": {
    "deletable": false,
    "editable": false,
    "nbgrader": {
     "cell_type": "code",
     "checksum": "ade774ac5cf141a9edbb4f46f707c70d",
     "grade": true,
     "grade_id": "logistic-function-test",
     "locked": true,
     "points": 2,
     "schema_version": 3,
     "solution": false,
     "task": false
    }
   },
   "outputs": [],
   "source": [
    "from numpy.testing import assert_array_almost_equal, assert_array_equal\n",
    "test_inputs = np.array([[0], [np.log(5)], [-3], [np.log(3)], [1]])\n",
    "assert_array_almost_equal(logistic_function(test_inputs), np.array([[1/2], [5/6], [0.04742587317756], \\\n",
    "                            [3/4], [np.exp(1)/(1 + np.exp(1))]]))"
   ]
  },
  {
   "cell_type": "markdown",
   "metadata": {
    "deletable": false,
    "editable": false,
    "nbgrader": {
     "cell_type": "markdown",
     "checksum": "04ff095166cb1042179a534a57f7f5c4",
     "grade": false,
     "grade_id": "cell-8e2b052a692ae3ca",
     "locked": true,
     "schema_version": 3,
     "solution": false,
     "task": false
    }
   },
   "source": [
    "For the next exercise, write two functions that implement the objective function for binary logistic regression as well as its gradient, as defined in the lecture notes. The function for the objective function is named **binary_logistic_regression_cost_function** and should take the NumPy arrays _data_matrix_, _weights_ and _outputs_ as arguments. Here, _data_matrix_ is supposed to be a polynomial basis matrix, while _weights_ denotes the vector of weight parameters and _outputs_ is the vector of binary outputs (with values in $\\{0, 1\\}$). In order to generate a polynomial basis matrix, fill in the function **polynomial_basis**. You can follow the [solution](https://qmplus.qmul.ac.uk/mod/resource/view.php?id=1416413) of [Coursework 4](https://qmplus.qmul.ac.uk/pluginfile.php/2220881/mod_resource/content/4/coursework04.pdf) or use your own version, as long as it is consistent with the function header specified in the next cell and with the requested output. Subsequently, write a method **binary_logistic_regression_gradient** that takes the same inputs as **binary_logistic_regression_cost_function** and computes the gradient of the binary logistic regression cost function as defined in the lecture."
   ]
  },
  {
   "cell_type": "code",
   "execution_count": 4,
   "metadata": {
    "deletable": false,
    "nbgrader": {
     "cell_type": "code",
     "checksum": "32f2b5001d7a1881ffa12451d5133cb8",
     "grade": false,
     "grade_id": "logistic-cost-function",
     "locked": false,
     "schema_version": 3,
     "solution": true,
     "task": false
    }
   },
   "outputs": [],
   "source": [
    "def polynomial_basis(inputs, degree=1):\n",
    "    basis_matrix = np.ones((len(inputs), 1))\n",
    "    for counter in range(1, degree + 1):\n",
    "        basis_matrix = np.c_[basis_matrix, np.power(inputs, counter)]\n",
    "    return basis_matrix\n",
    "\n",
    "def binary_logistic_regression_cost_function(data_matrix, weights, outputs):\n",
    "    objective = np.sum(np.log(1+np.exp(data_matrix @ weights)) - outputs*(data_matrix @ weights))\n",
    "    return objective\n",
    "    \n",
    "def binary_logistic_regression_gradient(data_matrix, weights, outputs):\n",
    "    gradient = data_matrix.T @ (logistic_function(data_matrix @ weights) - outputs)\n",
    "    return gradient"
   ]
  },
  {
   "cell_type": "markdown",
   "metadata": {
    "deletable": false,
    "editable": false,
    "nbgrader": {
     "cell_type": "markdown",
     "checksum": "766d8951af9708ef7c8c6be80d721575",
     "grade": false,
     "grade_id": "cell-ee5c7e3b09c4f3f4",
     "locked": true,
     "schema_version": 3,
     "solution": false,
     "task": false
    }
   },
   "source": [
    "After writing Python functions for the binary logistic regression cost function and its gradient, fill in the following notebook functions for the implementation of a gradient descent method. For the first function it is acceptable to follow the solution of Coursework 6, or to use your own version if is consistent with function header and output. For the second gradient descent function named **gradient_descent_v2**, modify the gradient descent method to include a stopping criterion that ensures that gradient descent stops once\n",
    "\n",
    "\\begin{align*}\n",
    "\\| \\nabla L(w^k) \\| \\leq \\text{tolerance}\n",
    "\\end{align*}\n",
    "\n",
    "is satisfied. Here $L$ and $w^k$ are the mathematical representations of the objective _objective_ and the weight vector _weights_, at iteration $k$. The parameter _tolerance_ is a non-negative threshold that controls the Euclidean norm of the gradient. The function **gradient_descent_v2** takes the arguments _objective_, _gradient_, _initial_weights_, _step_size_, _no_of_iterations_, _print_output_ and _tolerance_. The arguments _objective_ and _gradient_ are functions that can take (weight-)arrays as arguments and return the scalar value of the objective, respectively the array representation of the corresponding gradient. The argument _initial_weights_ specifies the initial value of the variable over which you iterate. The argument _step_size_ is the gradient descent step-size parameter, the argument _no_of_iterations_ specifies the maximum number of iterations, _print_output_ determines after how many iterations the function produces a text output and _tolerance_ controls the norm of the gradient as described in the equation above."
   ]
  },
  {
   "cell_type": "code",
   "execution_count": 5,
   "metadata": {
    "deletable": false,
    "nbgrader": {
     "cell_type": "code",
     "checksum": "0a0df2f9342e9204a48960b5885f38d6",
     "grade": false,
     "grade_id": "gradient_descent",
     "locked": false,
     "schema_version": 3,
     "solution": true,
     "task": false
    }
   },
   "outputs": [],
   "source": [
    "def gradient_descent(objective, gradient, initial_weights, step_size=1, no_of_iterations=100, print_output=10):\n",
    "    objective_values = []\n",
    "    weights = np.copy(initial_weights)\n",
    "    objective_values.append(objective(weights))\n",
    "    for counter in range(no_of_iterations):\n",
    "        weights -= step_size * gradient(weights)\n",
    "        objective_values.append(objective(weights))\n",
    "        if (counter + 1) % print_output == 0:\n",
    "            print(\"Iteration {k}/{m}, objective = {o}.\".format(k=counter+1, \\\n",
    "                    m=no_of_iterations, o=objective_values[counter]))\n",
    "    print(\"Iteration completed after {k}/{m}, objective = {o}.\".format(k=counter + 1, \\\n",
    "                m=no_of_iterations, o=objective_values[counter]))\n",
    "    return weights, objective_values\n",
    "\n",
    "    \n",
    "def gradient_descent_v2(objective, gradient, initial_weights, step_size=1, no_of_iterations=100, \\\n",
    "                        print_output=10, tolerance=1e-6):\n",
    "    objective_values = []\n",
    "    weights = np.copy(initial_weights)\n",
    "    objective_values.append(objective(weights))\n",
    "    for counter in range(no_of_iterations):\n",
    "        weights -= step_size * gradient(weights) \n",
    "        objective_values.append(objective(weights))\n",
    "        if (counter + 1) % print_output == 0:\n",
    "            print(\"Iteration {k}/{m}, objective = {o}.\".format(k=counter+1, \\\n",
    "                    m=no_of_iterations, o=objective_values[counter]))\n",
    "        if np.linalg.norm(gradient(weights),2) <= tolerance:\n",
    "            break\n",
    "    print(\"Iteration completed after {k}/{m}, objective = {o}.\".format(k=counter + 1, \\\n",
    "                m=no_of_iterations, o=objective_values[counter]))\n",
    "    return weights, objective_values\n",
    "    "
   ]
  },
  {
   "cell_type": "markdown",
   "metadata": {
    "deletable": false,
    "editable": false,
    "nbgrader": {
     "cell_type": "markdown",
     "checksum": "90e8d7a7ec95458b09266c3d92aaaec6",
     "grade": false,
     "grade_id": "cell-c3a6dd3a899dcb5c",
     "locked": true,
     "schema_version": 3,
     "solution": false,
     "task": false
    }
   },
   "source": [
    "In the following cell, write a function **standardise** that standardises the columns of a two-dimensional NumPy array _data_matrix_."
   ]
  },
  {
   "cell_type": "code",
   "execution_count": 6,
   "metadata": {
    "deletable": false,
    "nbgrader": {
     "cell_type": "code",
     "checksum": "924547dca886c6e5532970ba42bdb82c",
     "grade": false,
     "grade_id": "standardise",
     "locked": false,
     "schema_version": 3,
     "solution": true,
     "task": false
    }
   },
   "outputs": [],
   "source": [
    "def standardise(data_matrix):\n",
    "    row_of_means = np.mean(data_matrix, axis=0)\n",
    "    standardised_matrix = data_matrix - row_of_means\n",
    "    row_of_stds = np.std(standardised_matrix, axis=0)\n",
    "    return standardised_matrix / row_of_stds\n"
   ]
  },
  {
   "cell_type": "markdown",
   "metadata": {
    "deletable": false,
    "editable": false,
    "nbgrader": {
     "cell_type": "markdown",
     "checksum": "33f3d6517199ac0dd790047f327a3631",
     "grade": false,
     "grade_id": "cell-f74f777a7e81f822",
     "locked": true,
     "schema_version": 3,
     "solution": false,
     "task": false
    }
   },
   "source": [
    "Test your results with the following cell. A total of **3 marks** will be awarded if your function passes the following standard tests. Please note that not all tests are visible to you."
   ]
  },
  {
   "cell_type": "code",
   "execution_count": 7,
   "metadata": {
    "deletable": false,
    "editable": false,
    "nbgrader": {
     "cell_type": "code",
     "checksum": "a0ea50e31317e7e314d2a7d90e46ff41",
     "grade": true,
     "grade_id": "standardisation-test",
     "locked": true,
     "points": 3,
     "schema_version": 3,
     "solution": false,
     "task": false
    }
   },
   "outputs": [],
   "source": [
    "test_matrix = np.array([[1, 2], [3, 4], [5, 6]])\n",
    "assert_array_almost_equal(standardise(test_matrix), np.array([[-1.22474487, -1.22474487], \\\n",
    "                            [0, 0],[1.22474487, 1.22474487]]))"
   ]
  },
  {
   "cell_type": "markdown",
   "metadata": {
    "deletable": false,
    "editable": false,
    "nbgrader": {
     "cell_type": "markdown",
     "checksum": "faa82c0c746059f5e089fd2a8bc80f46",
     "grade": false,
     "grade_id": "cell-4ec03cc4fda49034",
     "locked": true,
     "schema_version": 3,
     "solution": false,
     "task": false
    }
   },
   "source": [
    "To train a simple binary classifier, you require some data. The following cell calls a function that allows you to load the height-weight-gender dataset that you already know from your coursework."
   ]
  },
  {
   "cell_type": "code",
   "execution_count": 8,
   "metadata": {
    "deletable": false,
    "editable": false,
    "nbgrader": {
     "cell_type": "code",
     "checksum": "40ef881fba829b6964f8b1d65fcb6a47",
     "grade": false,
     "grade_id": "cell-d3175e8ccd63fab4",
     "locked": true,
     "schema_version": 3,
     "solution": false,
     "task": false
    }
   },
   "outputs": [
    {
     "data": {
      "image/png": "[encoded data removed]",
      "text/plain": [
       "<Figure size 432x288 with 1 Axes>"
      ]
     },
     "metadata": {
      "needs_background": "light"
     },
     "output_type": "display_data"
    }
   ],
   "source": [
    "from data_loader import load_data\n",
    "height, weight, biological_sex = load_data()\n",
    "biological_sex = np.double(biological_sex).reshape(-1, 1)\n",
    "plt.plot(height, weight, '.', linewidth=3)\n",
    "plt.xlabel('Height in metres', fontsize=16)\n",
    "plt.xticks(fontsize=16)\n",
    "plt.ylabel('Weight in kilogram', fontsize=16)\n",
    "plt.yticks(fontsize=16)\n",
    "plt.tight_layout;"
   ]
  },
  {
   "cell_type": "markdown",
   "metadata": {
    "deletable": false,
    "editable": false,
    "nbgrader": {
     "cell_type": "markdown",
     "checksum": "93ddcbc533969ca2585a24d87b6f10ff",
     "grade": false,
     "grade_id": "cell-1d8cb3da4dac45fa",
     "locked": true,
     "schema_version": 3,
     "solution": false,
     "task": false
    }
   },
   "source": [
    "In the following cell, write code that initialises a polynomial data matrix _data_matrix_ of degree one with the standardised inputs formed from the height and weight arrays of the dataset. Define an objective function _objective_ with argument _weights_ based on the **binary_logistic_regression_cost_function** with fixed arguments _data_matrix_ and _biological_sex_. Repeat the same exercise to create a function _gradient_ based on **binary_logistic_regression_gradient**."
   ]
  },
  {
   "cell_type": "code",
   "execution_count": 9,
   "metadata": {
    "deletable": false,
    "nbgrader": {
     "cell_type": "code",
     "checksum": "c7d63d2842004f750b77a6454bf5006d",
     "grade": false,
     "grade_id": "cell-65673f36b848eab4",
     "locked": false,
     "schema_version": 3,
     "solution": true,
     "task": false
    }
   },
   "outputs": [],
   "source": [
    "inputs = standardise(np.c_[height, weight])\n",
    "data_matrix = polynomial_basis(inputs)\n",
    "objective = lambda weights: binary_logistic_regression_cost_function(data_matrix, weights, biological_sex)\n",
    "gradient = lambda weights: binary_logistic_regression_gradient(data_matrix, weights, biological_sex)\n"
   ]
  },
  {
   "cell_type": "markdown",
   "metadata": {
    "deletable": false,
    "editable": false,
    "nbgrader": {
     "cell_type": "markdown",
     "checksum": "726095861ab7131322e489c8a33d15f5",
     "grade": false,
     "grade_id": "cell-5c25ca5d2e19856b",
     "locked": true,
     "schema_version": 3,
     "solution": false,
     "task": false
    }
   },
   "source": [
    "Call gradient descent with the following cell to compute _optimal_weights_ for your model."
   ]
  },
  {
   "cell_type": "code",
   "execution_count": 10,
   "metadata": {
    "deletable": false,
    "editable": false,
    "nbgrader": {
     "cell_type": "code",
     "checksum": "7753f6ed0ac1f5a4adbb1ef268caae81",
     "grade": false,
     "grade_id": "cell-fb31b6af5bbbcc9a",
     "locked": true,
     "schema_version": 3,
     "solution": false,
     "task": false
    }
   },
   "outputs": [
    {
     "name": "stdout",
     "output_type": "stream",
     "text": [
      "Iteration 1000/7000, objective = 2091.9568591203947.\n",
      "Iteration 2000/7000, objective = 2091.30072155257.\n",
      "Iteration 3000/7000, objective = 2091.297983425523.\n",
      "Iteration 4000/7000, objective = 2091.2979712556394.\n",
      "Iteration 5000/7000, objective = 2091.2979712013266.\n",
      "Iteration 6000/7000, objective = 2091.297971201084.\n",
      "Iteration 7000/7000, objective = 2091.297971201083.\n",
      "Iteration completed after 7000/7000, objective = 2091.297971201083.\n"
     ]
    }
   ],
   "source": [
    "initial_weights = np.zeros((data_matrix.shape[1], 1))\n",
    "optimal_weights, objective_values = gradient_descent(objective, gradient, initial_weights, \\\n",
    "                                    step_size=1.9/(np.linalg.norm(data_matrix, 2) ** 2), \\\n",
    "                                    no_of_iterations=7000, print_output=1000)"
   ]
  },
  {
   "cell_type": "markdown",
   "metadata": {
    "deletable": false,
    "editable": false,
    "nbgrader": {
     "cell_type": "markdown",
     "checksum": "c84469bd2889feaf8a713f0dfb3d716a",
     "grade": false,
     "grade_id": "cell-da55ede3853660cf",
     "locked": true,
     "schema_version": 3,
     "solution": false,
     "task": false
    }
   },
   "source": [
    "A correct result of your gradient-descent-based logistic regression strategy will be awarded **4 marks**."
   ]
  },
  {
   "cell_type": "code",
   "execution_count": 11,
   "metadata": {
    "deletable": false,
    "editable": false,
    "nbgrader": {
     "cell_type": "code",
     "checksum": "0102eed55ffb0f81e5ba3f42cffd9422",
     "grade": true,
     "grade_id": "cell-8090fbc611c0a194",
     "locked": true,
     "points": 4,
     "schema_version": 3,
     "solution": false,
     "task": false
    }
   },
   "outputs": [
    {
     "name": "stdout",
     "output_type": "stream",
     "text": [
      "The optimal weights are w = [[-0.01870311  1.89527459 -6.3680829 ]].T with objective value L(w) = 2091.297971201083.\n"
     ]
    }
   ],
   "source": [
    "print(\"The optimal weights are w = {w}.T with objective value L(w) = {o}.\".format(w = optimal_weights.T, \\\n",
    "        o=objective_values[-1]))"
   ]
  },
  {
   "cell_type": "markdown",
   "metadata": {
    "deletable": false,
    "editable": false,
    "nbgrader": {
     "cell_type": "markdown",
     "checksum": "14f46ce484ad38b6e849796544e9ad6c",
     "grade": false,
     "grade_id": "cell-18f1b30c908aaae8",
     "locked": true,
     "schema_version": 3,
     "solution": false,
     "task": false
    }
   },
   "source": [
    "Write two functions **prediction_function** and **classification_accuracy** that turn your predicitons into classification results and that compare how many labels have been classified correctly. The function **prediction_function** takes the arguments _data_matrix_ and _weights_ as inputs and returns a vector of class labels with binary values in $\\{0, 1\\}$ as its output. The function **classification_accuracy** takes two inputs _true_labels_ and _recovered_labels_ and returns the percentage of correctly classified labels divided by 100."
   ]
  },
  {
   "cell_type": "code",
   "execution_count": 12,
   "metadata": {
    "deletable": false,
    "nbgrader": {
     "cell_type": "code",
     "checksum": "dda3261c6408de6bfac72ee8a2e3d197",
     "grade": false,
     "grade_id": "prediction-and-accuracy",
     "locked": false,
     "schema_version": 3,
     "solution": true,
     "task": false
    }
   },
   "outputs": [],
   "source": [
    "def prediction_function(data_matrix, weights):\n",
    "    probability = logistic_function(data_matrix @ weights)\n",
    "    predicted_values = np.rint(probability)\n",
    "    return predicted_values\n",
    "\n",
    "def classification_accuracy(true_labels, recovered_labels):\n",
    "    equal_labels = recovered_labels == true_labels\n",
    "    return np.mean(equal_labels)\n",
    "    "
   ]
  },
  {
   "cell_type": "markdown",
   "metadata": {
    "deletable": false,
    "editable": false,
    "nbgrader": {
     "cell_type": "markdown",
     "checksum": "cd533efa2d5716dd04fe9c649cb9f0bf",
     "grade": false,
     "grade_id": "cell-747f695d7dde1390",
     "locked": true,
     "schema_version": 3,
     "solution": false,
     "task": false
    }
   },
   "source": [
    "The correct classification accuracy is awarded **4 marks**. The total marks possible in this section are **13 marks**."
   ]
  },
  {
   "cell_type": "code",
   "execution_count": 13,
   "metadata": {
    "deletable": false,
    "editable": false,
    "nbgrader": {
     "cell_type": "code",
     "checksum": "977c57bb1188016adfa151474f8baecf",
     "grade": true,
     "grade_id": "accuracy-test",
     "locked": true,
     "points": 4,
     "schema_version": 3,
     "solution": false,
     "task": false
    }
   },
   "outputs": [
    {
     "name": "stdout",
     "output_type": "stream",
     "text": [
      "The classification accuracy for the training set is 91.94 %.\n"
     ]
    }
   ],
   "source": [
    "print(\"The classification accuracy for the training set is {p} %.\".format(p = 100 * \\\n",
    "        classification_accuracy(biological_sex, prediction_function(data_matrix, optimal_weights))))"
   ]
  },
  {
   "cell_type": "markdown",
   "metadata": {
    "deletable": false,
    "editable": false,
    "nbgrader": {
     "cell_type": "markdown",
     "checksum": "00633505cdd1f8712777a761fbe95961",
     "grade": false,
     "grade_id": "cell-66ec567aec881880",
     "locked": true,
     "schema_version": 3,
     "solution": false,
     "task": false
    }
   },
   "source": [
    "## Multinomial logistic regression\n",
    "\n",
    "This concludes the binary classification part of the first part of the final assessment. We now move on to multinomial logistic regression for multi-class classfication problems. As a first exercise, implement the softmax function **softmax_function** as defined in the lectures. The function takes the NumPy array _argument_ as its main argument, but also has an optional _axis_ argument to determine across which array-dimension you apply the softmax operation. If this argument is not specified (or set to _None_), then the softmax operation is applied to the entire array. Make sure your function works at least for NumPy arrays _argument_ with arbitrary numerical values and dimension one or two."
   ]
  },
  {
   "cell_type": "code",
   "execution_count": 14,
   "metadata": {
    "deletable": false,
    "nbgrader": {
     "cell_type": "code",
     "checksum": "4977cb40c6c166eebb31fe6ef824918a",
     "grade": false,
     "grade_id": "softmax",
     "locked": false,
     "schema_version": 3,
     "solution": true,
     "task": false
    }
   },
   "outputs": [],
   "source": [
    "def softmax_function(argument, axis=None):\n",
    "    outputs = np.exp(argument) / np.sum(np.exp(argument), axis = axis)\n",
    "    return outputs"
   ]
  },
  {
   "cell_type": "markdown",
   "metadata": {
    "deletable": false,
    "editable": false,
    "nbgrader": {
     "cell_type": "markdown",
     "checksum": "d93ee498f6cc2c5167fb18f05b55cb72",
     "grade": false,
     "grade_id": "cell-0bd9e5f6e5931b4e",
     "locked": true,
     "schema_version": 3,
     "solution": false,
     "task": false
    }
   },
   "source": [
    "Test your softmax function with the following cell. Passing this test is awarded with **4 marks**. Please note that, as usual, some tests are hidden."
   ]
  },
  {
   "cell_type": "code",
   "execution_count": 15,
   "metadata": {
    "deletable": false,
    "editable": false,
    "nbgrader": {
     "cell_type": "code",
     "checksum": "92dadfc8cfb35300c37378165909b4a0",
     "grade": true,
     "grade_id": "cell-b7751e0278da3533",
     "locked": true,
     "points": 4,
     "schema_version": 3,
     "solution": false,
     "task": false
    }
   },
   "outputs": [
    {
     "name": "stdout",
     "output_type": "stream",
     "text": [
      "The softmax of [[ 1.5  0.3 -3.7]].T is [[0.76528029 0.23049799 0.00422172]].T.\n"
     ]
    }
   ],
   "source": [
    "argument = np.array([[1.5], [0.3], [-3.7]])\n",
    "print(\"The softmax of {arg}.T is {out}.T.\".format(arg=argument.T, out=softmax_function(argument).T))\n",
    "assert_array_almost_equal(softmax_function(np.array([[1.5], [0.3], [-3.7]])), np.array([[0.76528029], \\\n",
    "                                                        [0.23049799], [0.00422172]]))\n",
    "assert_array_almost_equal(softmax_function(np.array([[1.5, 3], [0.3, -0.7], [-3.7, 2]]), axis=0), \\\n",
    "                          np.array([[0.76528029, 0.71807976], [0.23049799, 0.01775346], \\\n",
    "                                    [0.00422172, 0.26416678]]))"
   ]
  },
  {
   "cell_type": "markdown",
   "metadata": {
    "deletable": false,
    "editable": false,
    "nbgrader": {
     "cell_type": "markdown",
     "checksum": "22c6fcff95effedaa57877d34de89392",
     "grade": false,
     "grade_id": "cell-941464e24613e0a9",
     "locked": true,
     "schema_version": 3,
     "solution": false,
     "task": false
    }
   },
   "source": [
    "Next, write a function **one_hot_vector_encoding** that converts an NumPy array _labels_ with values in the range of $\\{0, K - 1\\}$ into so-called one-hot vector encodings. For example, for $K = 3$ and a label vector $\\text{labels} = \\left( \\begin{matrix} 2 & 0 & 1 & 2\\end{matrix} \\right)^\\top$, the output of **one_hot_vector_encoding(labels)** should be a two-dimensional NumPy array of the form\n",
    "\n",
    "\\begin{align*}\n",
    "\\left( \\begin{matrix} 0 & 0 & 1 \\\\ 1 & 0 & 0 \\\\ 0 & 1 & 0 \\\\ 0 & 0 & 1 \\end{matrix} \\right) \\, . \n",
    "\\end{align*}"
   ]
  },
  {
   "cell_type": "code",
   "execution_count": 16,
   "metadata": {
    "deletable": false,
    "nbgrader": {
     "cell_type": "code",
     "checksum": "94bcefd8f6f2834778c5e510f9797c83",
     "grade": false,
     "grade_id": "one-hot-vector-encoding",
     "locked": false,
     "schema_version": 3,
     "solution": true,
     "task": false
    }
   },
   "outputs": [],
   "source": [
    "def one_hot_vector_encoding(labels):\n",
    "    output = np.zeros((labels.size, labels.max()+1))\n",
    "    output[np.arange(labels.size),labels] = 1\n",
    "    return output\n",
    "    "
   ]
  },
  {
   "cell_type": "markdown",
   "metadata": {
    "deletable": false,
    "editable": false,
    "nbgrader": {
     "cell_type": "markdown",
     "checksum": "740154e524df161eed6ffcb3b6daf01f",
     "grade": false,
     "grade_id": "cell-4d72a85842f6c692",
     "locked": true,
     "schema_version": 3,
     "solution": false,
     "task": false
    }
   },
   "source": [
    "Implement the cost function and gradient for the multinomial logistic regression in terms of two functions **multinomial_logistic_regression_cost_function** and **multinomial_logistic_regression_gradient**. As in the binary classification case, the arguments are the polynomial data matrix _data_matrix_ and weights that are now named _weight_matrix_. Instead of passing on labels as _outputs_ as in the binary case, you pass the one hot vector encoding representation _one_hot_vector_encodings_ as your third argument. Return the cost function value, respectively the gradient, following the mathematical formulas in the lecture notes."
   ]
  },
  {
   "cell_type": "code",
   "execution_count": 17,
   "metadata": {
    "deletable": false,
    "nbgrader": {
     "cell_type": "code",
     "checksum": "6866c7079139fd8a29d4c148a6e2f034",
     "grade": false,
     "grade_id": "multinomial_logistic_regression",
     "locked": false,
     "schema_version": 3,
     "solution": true,
     "task": false
    }
   },
   "outputs": [],
   "source": [
    "def multinomial_logistic_regression_cost_function(data_matrix, weight_matrix, one_hot_vector_encodings):\n",
    "    obj = np.sum(np.log(np.sum(np.exp(data_matrix @ weight_matrix), axis = 1)) - (data_matrix @ weight_matrix)[one_hot_vector_encodings == 1])\n",
    "    return obj \n",
    "    \n",
    "def multinomial_logistic_regression_gradient(data_matrix, weight_matrix, one_hot_vector_encodings):\n",
    "    #grad = data_matrix.T @ (np.apply_along_axis(softmax_function, 1 ,data_matrix @ weight_matrix) - one_hot_vector_encodings) # Slow as hidden loops\n",
    "    grad = data_matrix.T @ ((softmax_function((data_matrix @ weight_matrix).T, 0).T) - one_hot_vector_encodings)\n",
    "    return grad\n"
   ]
  },
  {
   "cell_type": "markdown",
   "metadata": {
    "deletable": false,
    "editable": false,
    "nbgrader": {
     "cell_type": "markdown",
     "checksum": "a034361a28a9e882f7d7ad4328070a9c",
     "grade": false,
     "grade_id": "cell-b810132e15131dc9",
     "locked": true,
     "schema_version": 3,
     "solution": false,
     "task": false
    }
   },
   "source": [
    "Test your implementation on the [UCI wine dataset](https://archive.ics.uci.edu/ml/datasets/wine); the dataset contains 13 attributes from a chemical analysis of Italian wines from three different cultivars. For more information on the dataset visit [this link](https://archive.ics.uci.edu/ml/datasets/wine). The code in the following cell loads the dataset and stores the labels in a NumPy array _labels_ and the attributes in a NumPy array _inputs_."
   ]
  },
  {
   "cell_type": "code",
   "execution_count": 18,
   "metadata": {
    "deletable": false,
    "editable": false,
    "nbgrader": {
     "cell_type": "code",
     "checksum": "c66a8b68f9903af0351c13f30605934f",
     "grade": false,
     "grade_id": "cell-d080a23a2048227b",
     "locked": true,
     "schema_version": 3,
     "solution": false,
     "task": false
    }
   },
   "outputs": [],
   "source": [
    "wines = np.loadtxt('wine.data', delimiter=',')\n",
    "labels = wines[:, 0].astype(int) - 1\n",
    "inputs = wines[:, 1::]"
   ]
  },
  {
   "cell_type": "markdown",
   "metadata": {
    "deletable": false,
    "editable": false,
    "nbgrader": {
     "cell_type": "markdown",
     "checksum": "6a9db194ed9b4c4b458c753d58b0196e",
     "grade": false,
     "grade_id": "cell-d26a44b054d22e4d",
     "locked": true,
     "schema_version": 3,
     "solution": false,
     "task": false
    }
   },
   "source": [
    "Transform the labels _labels_ into a one hot vector representation with your function **one_hot_vector_encoding** and store your results in a NumPy array named _outputs_."
   ]
  },
  {
   "cell_type": "code",
   "execution_count": 19,
   "metadata": {
    "deletable": false,
    "nbgrader": {
     "cell_type": "code",
     "checksum": "9378cf561d0799b518319252eaeb6c87",
     "grade": false,
     "grade_id": "cell-7362e79b5354d63b",
     "locked": false,
     "schema_version": 3,
     "solution": true,
     "task": false
    }
   },
   "outputs": [],
   "source": [
    "outputs = one_hot_vector_encoding(labels)\n"
   ]
  },
  {
   "cell_type": "markdown",
   "metadata": {
    "deletable": false,
    "editable": false,
    "nbgrader": {
     "cell_type": "markdown",
     "checksum": "a365aa01296ecd58f3550a5a83dc403d",
     "grade": false,
     "grade_id": "cell-100a0ea7469b3821",
     "locked": true,
     "schema_version": 3,
     "solution": false,
     "task": false
    }
   },
   "source": [
    "In the following cell, write code that initialises a polynomial data matrix _data_matrix_ of degree one with the standardised inputs _inputs_ from the wine dataset. Define an objective function _objective_ with argument _weight_matrix_ based on the **multinomial_logistic_regression_cost_function** with fixed arguments _data_matrix_ and _one_hot_vector_encodings_. Repeat the same exercise to create a function _gradient_ based on **multinomial_logistic_regression_gradient**."
   ]
  },
  {
   "cell_type": "code",
   "execution_count": 20,
   "metadata": {
    "deletable": false,
    "nbgrader": {
     "cell_type": "code",
     "checksum": "712836b79b8e6389ce84a45f8439a300",
     "grade": false,
     "grade_id": "cell-094a5bddd94a009a",
     "locked": false,
     "schema_version": 3,
     "solution": true,
     "task": false
    }
   },
   "outputs": [],
   "source": [
    "standardised_inputs = standardise(inputs)\n",
    "data_matrix = polynomial_basis(standardised_inputs)\n",
    "objective = lambda weightmatrix_: multinomial_logistic_regression_cost_function(data_matrix, weightmatrix_, outputs)\n",
    "gradient = lambda weightmatrix_:  multinomial_logistic_regression_gradient(data_matrix, weightmatrix_, outputs)\n"
   ]
  },
  {
   "cell_type": "markdown",
   "metadata": {
    "deletable": false,
    "editable": false,
    "nbgrader": {
     "cell_type": "markdown",
     "checksum": "d06a10bf709742803be0723fd183611d",
     "grade": false,
     "grade_id": "cell-901f918df8fdef00",
     "locked": true,
     "schema_version": 3,
     "solution": false,
     "task": false
    }
   },
   "source": [
    "Call gradient descent with the following cell to compute an _optimal_weight_matrix_ for your model."
   ]
  },
  {
   "cell_type": "code",
   "execution_count": 21,
   "metadata": {
    "deletable": false,
    "editable": false,
    "nbgrader": {
     "cell_type": "code",
     "checksum": "acf5d4074e6b0b65252ef485d45d5838",
     "grade": false,
     "grade_id": "cell-175babea73e2db36",
     "locked": true,
     "schema_version": 3,
     "solution": false,
     "task": false
    }
   },
   "outputs": [
    {
     "name": "stdout",
     "output_type": "stream",
     "text": [
      "Iteration 5000/100000, objective = 0.37363264592740286.\n",
      "Iteration 10000/100000, objective = 0.19859836381136198.\n",
      "Iteration 15000/100000, objective = 0.13605627122242003.\n",
      "Iteration 20000/100000, objective = 0.10372479744703211.\n",
      "Iteration 25000/100000, objective = 0.08391801536513377.\n",
      "Iteration 30000/100000, objective = 0.07051872085948974.\n",
      "Iteration 35000/100000, objective = 0.060841386585235746.\n",
      "Iteration 40000/100000, objective = 0.05351961411114958.\n",
      "Iteration 45000/100000, objective = 0.0477840050821432.\n",
      "Iteration 50000/100000, objective = 0.04316789618476147.\n",
      "Iteration 55000/100000, objective = 0.039371645101083264.\n",
      "Iteration 60000/100000, objective = 0.036193967173282715.\n",
      "Iteration 65000/100000, objective = 0.03349459594052018.\n",
      "Iteration 70000/100000, objective = 0.03117276570306604.\n",
      "Iteration 75000/100000, objective = 0.02915420629986709.\n",
      "Iteration 80000/100000, objective = 0.027382962414542966.\n",
      "Iteration 85000/100000, objective = 0.025816069847772738.\n",
      "Iteration 90000/100000, objective = 0.024419988124662062.\n",
      "Iteration 95000/100000, objective = 0.023168148308167602.\n",
      "Iteration 100000/100000, objective = 0.022039229212158062.\n",
      "Iteration completed after 100000/100000, objective = 0.022039229212158062.\n"
     ]
    }
   ],
   "source": [
    "initial_weight_matrix = np.zeros((data_matrix.shape[1], outputs.shape[1]))\n",
    "optimal_weight_matrix, objective_values = gradient_descent(objective, gradient, initial_weight_matrix, \\\n",
    "                                    step_size=1.9/(np.linalg.norm(data_matrix, 2) ** 2), \\\n",
    "                                    no_of_iterations=100000, print_output=5000)"
   ]
  },
  {
   "cell_type": "markdown",
   "metadata": {
    "deletable": false,
    "editable": false,
    "nbgrader": {
     "cell_type": "markdown",
     "checksum": "e5a8d433e17eb215eab8b141e3fa48bd",
     "grade": false,
     "grade_id": "cell-b7bf0daf68390bac",
     "locked": true,
     "schema_version": 3,
     "solution": false,
     "task": false
    }
   },
   "source": [
    "Write a function **multinomial_prediction_function** that turns your predicitons into labels. The function takes the arguments _data_matrix_ and _weight_matrix_ as inputs and returns a vector of labels with values in $\\{0, K - 1 \\}$ as its output."
   ]
  },
  {
   "cell_type": "code",
   "execution_count": 22,
   "metadata": {
    "deletable": false,
    "nbgrader": {
     "cell_type": "code",
     "checksum": "e824634474ea1ee537d80abc1bd092cd",
     "grade": false,
     "grade_id": "cell-2da6bb5a7e17ea5e",
     "locked": false,
     "schema_version": 3,
     "solution": true,
     "task": false
    }
   },
   "outputs": [],
   "source": [
    "def multinomial_prediction_function(data_matrix, weight_matrix):\n",
    "    probs = softmax_function(data_matrix @ weight_matrix)\n",
    "    predicted_class = np.argmax(probs, axis = 1)\n",
    "    return predicted_class\n"
   ]
  },
  {
   "cell_type": "markdown",
   "metadata": {
    "deletable": false,
    "editable": false,
    "nbgrader": {
     "cell_type": "markdown",
     "checksum": "4550fa0d0fcc9f5244cf0ca66c5bf8a5",
     "grade": false,
     "grade_id": "cell-9036bda8b3b0ced4",
     "locked": true,
     "schema_version": 3,
     "solution": false,
     "task": false
    }
   },
   "source": [
    "The correct classification accuracy is awarded **4 marks**. The total number of possible marks in this section is **8 marks**."
   ]
  },
  {
   "cell_type": "code",
   "execution_count": 23,
   "metadata": {
    "deletable": false,
    "editable": false,
    "nbgrader": {
     "cell_type": "code",
     "checksum": "bbf3d6b935f497fab4bd93eeea119319",
     "grade": true,
     "grade_id": "cell-49fe4e66273baf80",
     "locked": true,
     "points": 4,
     "schema_version": 3,
     "solution": false,
     "task": false
    }
   },
   "outputs": [
    {
     "name": "stdout",
     "output_type": "stream",
     "text": [
      "The classification accuracy for the wine training set is 100.0 %.\n"
     ]
    }
   ],
   "source": [
    "print(\"The classification accuracy for the wine training set is {p} %.\".format(p = 100 * \\\n",
    "        classification_accuracy(labels, multinomial_prediction_function(data_matrix, optimal_weight_matrix))))"
   ]
  },
  {
   "cell_type": "markdown",
   "metadata": {
    "deletable": false,
    "editable": false,
    "nbgrader": {
     "cell_type": "markdown",
     "checksum": "ba0705811c857f5094055fbd9f385917",
     "grade": false,
     "grade_id": "cell-45dcd721e2869a9a",
     "locked": true,
     "schema_version": 3,
     "solution": false,
     "task": false
    }
   },
   "source": [
    "## Ridge logistic regression\n",
    "\n",
    "For the next part, modify the multinomial logistic regression problem to include a squared Frobenius norm of the weights as a regularisation term, similar to ridge regression where we added a multiple of the squared Euclidean norm of the weights to the mean squared error. Write two functions **ridge_logistic_regression_cost_function** and **ridge_logistic_regression_gradient** that take the arguments _data_matrix_, _weight_matrix_, _one_hot_vector_encodings_ and _regularisation_parameter_ as inputs. The function **ridge_logistic_regression_cost_function** returns the evulation of the multinomial logistic regression cost function with its linear model being determined by the polynomial basis matrix _data_matrix_ and the weight matrix _weight_matrix_, plus _regularisation_parameter_ times the squared Frobenius norm of _weight_matrix_ divided by two. The function **ridge_logistic_regression_gradient** is supposed to compute the corresponding gradient."
   ]
  },
  {
   "cell_type": "code",
   "execution_count": 24,
   "metadata": {
    "deletable": false,
    "nbgrader": {
     "cell_type": "code",
     "checksum": "acdbb33c938f33ee566b9dee3262d846",
     "grade": false,
     "grade_id": "cell-abadca310df6699f",
     "locked": false,
     "schema_version": 3,
     "solution": true,
     "task": false
    }
   },
   "outputs": [],
   "source": [
    "def ridge_logistic_regression_cost_function(data_matrix, weight_matrix, one_hot_vector_encodings, \\\n",
    "                                            regularisation_parameter):\n",
    "    \n",
    "    obj = np.sum(np.log(np.sum(np.exp(data_matrix @ weight_matrix), axis = 1)) - (data_matrix @ weight_matrix)[one_hot_vector_encodings == 1]) + (regularisation_parameter/2)*np.sum(weight_matrix*weight_matrix)\n",
    "    return obj \n",
    "\n",
    "    \n",
    "def ridge_logistic_regression_gradient(data_matrix, weight_matrix, one_hot_vector_encodings, \\\n",
    "                                       regularisation_parameter):\n",
    "    \n",
    "    grad = data_matrix.T @ ((softmax_function((data_matrix @ weight_matrix).T, 0).T) - one_hot_vector_encodings) + regularisation_parameter*weight_matrix\n",
    "    return grad\n"
   ]
  },
  {
   "cell_type": "markdown",
   "metadata": {
    "deletable": false,
    "editable": false,
    "nbgrader": {
     "cell_type": "markdown",
     "checksum": "c0996e4e5192b31e3a4934a13a883b09",
     "grade": false,
     "grade_id": "cell-1af3c4a5f531e2fa",
     "locked": true,
     "schema_version": 3,
     "solution": false,
     "task": false
    }
   },
   "source": [
    "Set your regularisation parameter _regularisation_parameter_ to the value 15 and define an objective function _objective_ as well as a gradient function _gradient_, both with argument _weight_matrix_, for fixed _data_matrix_ and _outputs_ as from the wine dataset that you have used before."
   ]
  },
  {
   "cell_type": "code",
   "execution_count": 25,
   "metadata": {
    "deletable": false,
    "nbgrader": {
     "cell_type": "code",
     "checksum": "f40622d6042d8793ce03206d450ee648",
     "grade": false,
     "grade_id": "cell-3f1796626df02a88",
     "locked": false,
     "schema_version": 3,
     "solution": true,
     "task": false
    }
   },
   "outputs": [],
   "source": [
    "regularisation_parameter = 15\n",
    "objective = lambda weightmatrix_: ridge_logistic_regression_cost_function(data_matrix, weightmatrix_, outputs, \\\n",
    "                                            regularisation_parameter)\n",
    "gradient = lambda weightmatrix_:  ridge_logistic_regression_gradient(data_matrix, weightmatrix_, outputs, \\\n",
    "                                            regularisation_parameter)\n"
   ]
  },
  {
   "cell_type": "markdown",
   "metadata": {
    "deletable": false,
    "editable": false,
    "nbgrader": {
     "cell_type": "markdown",
     "checksum": "8d13bd2ced951479730e1afad72283eb",
     "grade": false,
     "grade_id": "cell-a0c298f30e585bd6",
     "locked": true,
     "schema_version": 3,
     "solution": false,
     "task": false
    }
   },
   "source": [
    "Test your solution with the following cell."
   ]
  },
  {
   "cell_type": "code",
   "execution_count": 26,
   "metadata": {
    "deletable": false,
    "editable": false,
    "nbgrader": {
     "cell_type": "code",
     "checksum": "4d5eec1441b9057a16855a9953bfe215",
     "grade": false,
     "grade_id": "cell-4ac1dd08e2ba7c80",
     "locked": true,
     "schema_version": 3,
     "solution": false,
     "task": false
    }
   },
   "outputs": [
    {
     "name": "stdout",
     "output_type": "stream",
     "text": [
      "Iteration 10/100, objective = 50.665821892482874.\n",
      "Iteration 20/100, objective = 48.11155251656332.\n",
      "Iteration 30/100, objective = 47.82193349725131.\n",
      "Iteration 40/100, objective = 47.76683784456357.\n",
      "Iteration 50/100, objective = 47.752421479679114.\n",
      "Iteration 60/100, objective = 47.74787929572571.\n",
      "Iteration 70/100, objective = 47.746292310632406.\n",
      "Iteration 80/100, objective = 47.745701101573275.\n",
      "Iteration 90/100, objective = 47.74547049334518.\n",
      "Iteration 100/100, objective = 47.74537725711093.\n",
      "Iteration completed after 100/100, objective = 47.74537725711093.\n"
     ]
    }
   ],
   "source": [
    "initial_weight_matrix = np.zeros((data_matrix.shape[1], outputs.shape[1]))\n",
    "ridge_weight_matrix, ridge_objective_values = gradient_descent(objective, gradient, initial_weight_matrix, \\\n",
    "                                    step_size=1.9/np.linalg.norm(data_matrix.T @ data_matrix + \\\n",
    "                                    regularisation_parameter * np.eye(data_matrix.shape[1]), 2), \\\n",
    "                                    no_of_iterations=100, print_output=10)"
   ]
  },
  {
   "cell_type": "markdown",
   "metadata": {
    "deletable": false,
    "editable": false,
    "nbgrader": {
     "cell_type": "markdown",
     "checksum": "2920f8564006d977e1d1f3cc19c46989",
     "grade": false,
     "grade_id": "cell-ad40701d626892d4",
     "locked": true,
     "schema_version": 3,
     "solution": false,
     "task": false
    }
   },
   "source": [
    "The correct classification accuracy is awarded **4 marks**, which is also the total number of possible points in this section."
   ]
  },
  {
   "cell_type": "code",
   "execution_count": 27,
   "metadata": {
    "deletable": false,
    "editable": false,
    "nbgrader": {
     "cell_type": "code",
     "checksum": "a093e26a90163695684c1f98e8cfd645",
     "grade": true,
     "grade_id": "cell-3d84066ed6f97945",
     "locked": true,
     "points": 4,
     "schema_version": 3,
     "solution": false,
     "task": false
    }
   },
   "outputs": [
    {
     "name": "stdout",
     "output_type": "stream",
     "text": [
      "The ridge regression classification accuracy with regularisation parameter 15 for the wine training set is 99.43820224719101 %.\n"
     ]
    }
   ],
   "source": [
    "print(\"The ridge regression classification accuracy with regularisation parameter {a}\".format(a = \\\n",
    "       regularisation_parameter), \"for the wine training set is {p} %.\".format(p = 100 * \\\n",
    "        classification_accuracy(labels, multinomial_prediction_function(data_matrix, ridge_weight_matrix))))"
   ]
  },
  {
   "cell_type": "markdown",
   "metadata": {
    "deletable": false,
    "editable": false,
    "nbgrader": {
     "cell_type": "markdown",
     "checksum": "3e59581e2eed10dab4a2d0ca63e5e67d",
     "grade": false,
     "grade_id": "cell-681ea7611e1b8d47",
     "locked": true,
     "schema_version": 3,
     "solution": false,
     "task": false
    }
   },
   "source": [
    "## LASSO-type logistic regression\n",
    "\n",
    "As a final exercise before you are left to continue with the main part of your project of classifying handwritten digits, implement a modification of the multinomial logistic regression problem that contains a positive multiple of the one-norm of the weight matrix as regularisation term, and approximate a solution numerically with the proximal gradient descent method as introduced in the lectures. You can make use of computational solutions for coursework 9.\n",
    "\n",
    "Begin by completing the following three functions. The function **soft_thresholding** takes the two arguments _argument_ and _threshold_ and returns the solution of the soft-thresholding operation applied to _argument_ with threshold _threshold_. \n",
    "\n",
    "The function **lasso_logistic_regression_cost_function** is supposed to implement the multinomial logistic regression loss with additional one-norm regularisation for polynomial basis matrix _data_matrix_, weight matrix _weight_matrix_, the one hot vector encoding output _one_hot_vector_encodings_ and the regularisation parameter _regularisation_parameter_.\n",
    "\n",
    "The function **proximal_gradient_descent** takes the same arguments as the function **gradient_descent**, with additional argument _proximal_map_ in order to specify the proximal map to be used. "
   ]
  },
  {
   "cell_type": "code",
   "execution_count": 28,
   "metadata": {
    "deletable": false,
    "nbgrader": {
     "cell_type": "code",
     "checksum": "bdab43cdab7db63c950b7d0a6c06e564",
     "grade": false,
     "grade_id": "cell-b2608195afc72125",
     "locked": false,
     "schema_version": 3,
     "solution": true,
     "task": false
    }
   },
   "outputs": [],
   "source": [
    "def soft_thresholding(argument, threshold):\n",
    "    return np.sign(argument) * np.maximum(0, np.abs(argument) - threshold)\n",
    "    \n",
    "def lasso_logistic_regression_cost_function(data_matrix, weight_matrix, one_hot_vector_encodings, \\\n",
    "                                       regularisation_parameter):\n",
    "    \n",
    "    obj = np.sum(np.log(np.sum(np.exp(data_matrix @ weight_matrix), axis = 1)) - (data_matrix @ weight_matrix)[one_hot_vector_encodings == 1]) + regularisation_parameter \\\n",
    "            * np.sum(np.abs(weight_matrix))\n",
    "    return obj\n",
    "    \n",
    "def proximal_gradient_descent(objective, gradient, proximal_map, initial_weights, step_size=1, \\\n",
    "                              no_of_iterations=100, print_output=100):    \n",
    "    \n",
    "    objective_values = []\n",
    "    weights = np.copy(initial_weights)\n",
    "    objective_values.append(objective(weights))\n",
    "    for counter in range(no_of_iterations):\n",
    "        weights = proximal_map(weights - step_size * gradient(weights))\n",
    "        objective_values.append(objective(weights))\n",
    "        if (counter + 1) % print_output == 0:\n",
    "            print(\"Iteration {k}/{m}, objective = {o}.\".format(k=counter+1, \\\n",
    "                    m=no_of_iterations, o=objective_values[counter]))\n",
    "    print(\"Iteration completed after {k}/{m}, objective = {o}.\".format(k=counter + 1, \\\n",
    "                m=no_of_iterations, o=objective_values[counter]))\n",
    "    return weights, objective_values\n"
   ]
  },
  {
   "cell_type": "markdown",
   "metadata": {
    "deletable": false,
    "editable": false,
    "nbgrader": {
     "cell_type": "markdown",
     "checksum": "2bfbe1872c304938510aeafc7fa10c25",
     "grade": false,
     "grade_id": "cell-e3ac148e879c476f",
     "locked": true,
     "schema_version": 3,
     "solution": false,
     "task": false
    }
   },
   "source": [
    "In the next cell, define a suitable objective function _objective_ and a suitable gradient function _gradient_, both with argument _weight_matrix_ and fixed _data_matrix_ and _outputs_ from the wine dataset that you have used before, as well as a suitable proximal map function _proximal_map_ with correctly chosen threshold."
   ]
  },
  {
   "cell_type": "code",
   "execution_count": 29,
   "metadata": {
    "deletable": false,
    "nbgrader": {
     "cell_type": "code",
     "checksum": "5af740fe918364e9026fad9423073f3d",
     "grade": false,
     "grade_id": "cell-3afeb025acbc0916",
     "locked": false,
     "schema_version": 3,
     "solution": true,
     "task": false
    }
   },
   "outputs": [],
   "source": [
    "regularisation_parameter = 0.5\n",
    "step_size = 1.9/(np.linalg.norm(data_matrix, 2) ** 2)\n",
    "\n",
    "objective = lambda weightmatrix_: lasso_logistic_regression_cost_function(data_matrix, weightmatrix_, outputs, \\\n",
    "                                                regularisation_parameter)\n",
    "gradient = lambda weightmatrix_: multinomial_logistic_regression_gradient(data_matrix, weightmatrix_, outputs)\n",
    "proximal_map = lambda weightmatrix_: soft_thresholding(weightmatrix_, regularisation_parameter * \\\n",
    "                                                 step_size)\n"
   ]
  },
  {
   "cell_type": "markdown",
   "metadata": {
    "deletable": false,
    "editable": false,
    "nbgrader": {
     "cell_type": "markdown",
     "checksum": "8da58316078974a165e9e3fd00369e62",
     "grade": false,
     "grade_id": "cell-59e703fdde6e42f7",
     "locked": true,
     "schema_version": 3,
     "solution": false,
     "task": false
    }
   },
   "source": [
    "Test your solution with the following cell."
   ]
  },
  {
   "cell_type": "code",
   "execution_count": 30,
   "metadata": {
    "deletable": false,
    "editable": false,
    "nbgrader": {
     "cell_type": "code",
     "checksum": "998771495b551e63b22c8b1980b179c9",
     "grade": false,
     "grade_id": "cell-33117d62e5699048",
     "locked": true,
     "schema_version": 3,
     "solution": false,
     "task": false
    }
   },
   "outputs": [
    {
     "name": "stdout",
     "output_type": "stream",
     "text": [
      "Iteration 1000/10000, objective = 13.074447967377079.\n",
      "Iteration 2000/10000, objective = 12.943310921033586.\n",
      "Iteration 3000/10000, objective = 12.906459466190281.\n",
      "Iteration 4000/10000, objective = 12.890509931309047.\n",
      "Iteration 5000/10000, objective = 12.883944653649287.\n",
      "Iteration 6000/10000, objective = 12.880918937601049.\n",
      "Iteration 7000/10000, objective = 12.879447036113785.\n",
      "Iteration 8000/10000, objective = 12.878701779266743.\n",
      "Iteration 9000/10000, objective = 12.878312240220403.\n",
      "Iteration 10000/10000, objective = 12.878103036357162.\n",
      "Iteration completed after 10000/10000, objective = 12.878103036357162.\n"
     ]
    }
   ],
   "source": [
    "initial_weight_matrix = np.zeros((data_matrix.shape[1], outputs.shape[1]))\n",
    "lasso_weight_matrix, lasso_objective_values = proximal_gradient_descent(objective, gradient, proximal_map, \\\n",
    "                                                initial_weight_matrix, step_size, no_of_iterations=10000, \\\n",
    "                                                print_output=1000)"
   ]
  },
  {
   "cell_type": "markdown",
   "metadata": {
    "deletable": false,
    "editable": false,
    "nbgrader": {
     "cell_type": "markdown",
     "checksum": "8e56343b5f34fafa2ed80f9b572b528f",
     "grade": false,
     "grade_id": "cell-69a32c9f26d37f47",
     "locked": true,
     "schema_version": 3,
     "solution": false,
     "task": false
    }
   },
   "source": [
    "The correct classification accuracy is awarded **5 marks**, which is also the total number of points available in this section."
   ]
  },
  {
   "cell_type": "code",
   "execution_count": 31,
   "metadata": {
    "deletable": false,
    "editable": false,
    "nbgrader": {
     "cell_type": "code",
     "checksum": "d0f049b162367cd9d765fb16be5a693e",
     "grade": true,
     "grade_id": "cell-4cd3a07610421486",
     "locked": true,
     "points": 5,
     "schema_version": 3,
     "solution": false,
     "task": false
    }
   },
   "outputs": [
    {
     "name": "stdout",
     "output_type": "stream",
     "text": [
      "The lasso classification accuracy with regularisation parameter 0.5 for the wine training set is 100.0 %.\n"
     ]
    }
   ],
   "source": [
    "print(\"The lasso classification accuracy with regularisation parameter {a}\".format(a = \\\n",
    "       regularisation_parameter), \"for the wine training set is {p} %.\".format(p = 100 * \\\n",
    "        classification_accuracy(labels, multinomial_prediction_function(data_matrix, lasso_weight_matrix))))"
   ]
  },
  {
   "cell_type": "markdown",
   "metadata": {
    "deletable": false,
    "editable": false,
    "nbgrader": {
     "cell_type": "markdown",
     "checksum": "f6ffccf3240508413da555b379ba46e8",
     "grade": false,
     "grade_id": "cell-cf4145537166f52b",
     "locked": true,
     "schema_version": 3,
     "solution": false,
     "task": false
    }
   },
   "source": [
    "## MNIST free-style\n",
    "\n",
    "This completes the first part of the assessment. From now on, you can use all concepts that you have learned throughout this module in order to obtain a classifier that can determine which digit is seen in a $28 \\times 28$ pixel picture. While you are allowed to use different libraries for visualisation purposes, you can only use NumPy to program your classifier; tools from libraries such as SciPy are not allowed. Please note that your classfier will be tested and compared with classifiers from other students. Experimenting with differnt model approaches, regularisation models & parameters and hyperparameter-tuning strategies such cross validation is therefore highly recommended.\n",
    "\n",
    "We begin by loading the MNIST training set that is taken from this [source](http://yann.lecun.com/exdb/mnist/):"
   ]
  },
  {
   "cell_type": "code",
   "execution_count": 37,
   "metadata": {
    "deletable": false,
    "editable": false,
    "nbgrader": {
     "cell_type": "code",
     "checksum": "6f85db745293111420d8bafb5f6dcc87",
     "grade": false,
     "grade_id": "cell-7b42fe502f206f1c",
     "locked": true,
     "schema_version": 3,
     "solution": false,
     "task": false
    }
   },
   "outputs": [
    {
     "name": "stdout",
     "output_type": "stream",
     "text": [
      "The MNIST training set contains 60000 images with 784 pixels each.\n"
     ]
    },
    {
     "data": {
      "image/png": "[encoded data removed]",
      "text/plain": [
       "<Figure size 432x288 with 1 Axes>"
      ]
     },
     "metadata": {
      "needs_background": "light"
     },
     "output_type": "display_data"
    }
   ],
   "source": [
    "from data_loader import load_mnist\n",
    "images, labels = load_mnist('')\n",
    "print(\"The MNIST training set contains {s} images with {p} pixels each.\".format(s = images.shape[0], \\\n",
    "        p = images.shape[1]))\n",
    "plt.imshow(images[13,:].reshape(28, 28))\n",
    "plt.title(\"This is the 13th image of the MNIST training set. The corresponding label is {l}\".format( \\\n",
    "            l=labels[13]))\n",
    "plt.tight_layout;"
   ]
  },
  {
   "cell_type": "markdown",
   "metadata": {
    "deletable": false,
    "editable": false,
    "nbgrader": {
     "cell_type": "markdown",
     "checksum": "2531ffc9734a56b76172c7b9cb54c990",
     "grade": false,
     "grade_id": "cell-60965515b3dfb67b",
     "locked": true,
     "schema_version": 3,
     "solution": false,
     "task": false
    }
   },
   "source": [
    "Use the following space to write your codes. It should be possible to reproduce results that are shown in your report with the codes that are described here. You can outsource functions into separate files if you find that this tidies up your notebook. Any additional libraries that you want to use (e.g. for visualisations etc.) can be loaded here."
   ]
  },
  {
   "cell_type": "code",
   "execution_count": 38,
   "metadata": {
    "deletable": false,
    "editable": false,
    "nbgrader": {
     "cell_type": "code",
     "checksum": "ee2bf797183742fb3d2ae82b79a82e18",
     "grade": false,
     "grade_id": "cell-a57ec7bc4606613e",
     "locked": true,
     "schema_version": 3,
     "solution": false,
     "task": false
    }
   },
   "outputs": [],
   "source": [
    "# Your codes here. Please feel free to create more cells etc."
   ]
  },
  {
   "cell_type": "code",
   "execution_count": 39,
   "metadata": {},
   "outputs": [],
   "source": [
    "# Import seaborn for visualising data and set random seed for result replication\n",
    "import seaborn as sns\n",
    "\n",
    "np.random.seed(13)"
   ]
  },
  {
   "cell_type": "code",
   "execution_count": 40,
   "metadata": {},
   "outputs": [
    {
     "name": "stdout",
     "output_type": "stream",
     "text": [
      "Mean digit count: 6000.0\n",
      "Digit count standard deviation: 322.082908581005\n"
     ]
    },
    {
     "data": {
      "text/plain": [
       "Text(0, 0.5, 'Count')"
      ]
     },
     "execution_count": 40,
     "metadata": {},
     "output_type": "execute_result"
    },
    {
     "data": {
      "image/png": "[encoded data removed]",
      "text/plain": [
       "<Figure size 432x288 with 1 Axes>"
      ]
     },
     "metadata": {
      "needs_background": "light"
     },
     "output_type": "display_data"
    }
   ],
   "source": [
    "# Count number of each digit in dataset including variation and plot results\n",
    "\n",
    "unique, counts = np.unique(labels, return_counts = True)\n",
    "no_each_digit = dict(zip(unique, counts))\n",
    "\n",
    "# mean and std of count of each digit\n",
    "print(\"Mean digit count: {}\".format(np.mean(counts)))\n",
    "print(\"Digit count standard deviation: {}\".format(np.std(counts)))\n",
    "\n",
    "#Plot of number of count of each digit in dataset\n",
    "sns.histplot(x = no_each_digit.keys(), weights = no_each_digit.values(), palette = \"pastel\",hue=no_each_digit.keys(), legend = False, discrete=True)\n",
    "plt.title('Count of each digit in MNIST dataset', fontsize = 16)\n",
    "plt.xticks(np.arange(0,10))\n",
    "plt.xlabel('Digit', fontsize =14)\n",
    "plt.ylabel('Count', fontsize =14)"
   ]
  },
  {
   "cell_type": "code",
   "execution_count": 41,
   "metadata": {},
   "outputs": [
    {
     "name": "stdout",
     "output_type": "stream",
     "text": [
      "Pixels have no information: {False: 717, True: 67}\n"
     ]
    }
   ],
   "source": [
    "# Convert output labels to one hot vector encoded matrix\n",
    "outputs = one_hot_vector_encoding(labels)\n",
    "\n",
    "# Sort indices so digits in order 0-9 in case this is useful later\n",
    "sorted_indices = np.argsort(labels)\n",
    "\n",
    "# Count number of pixels with no information containing 0 on all images in dataset\n",
    "blank_pixels = np.all(images == 0, axis = 0)\n",
    "blank, count = np.unique(blank_pixels, return_counts = True)\n",
    "no_blank_digits = dict(zip(blank, count))\n",
    "print(\"Pixels have no information: {}\".format(no_blank_digits))"
   ]
  },
  {
   "cell_type": "code",
   "execution_count": 42,
   "metadata": {},
   "outputs": [
    {
     "data": {
      "image/png": "[encoded data removed]",
      "text/plain": [
       "<Figure size 432x288 with 10 Axes>"
      ]
     },
     "metadata": {
      "needs_background": "light"
     },
     "output_type": "display_data"
    }
   ],
   "source": [
    "# Plot average pixel value across all images of the same digit to show average pixel pattern per digit\n",
    "f, axes = plt.subplots(nrows=2, ncols=5, sharex=True, sharey=True)\n",
    "f.suptitle('Average pixel values for each digit', fontsize=16, y= 1.05)\n",
    "f.text(0.5, 0.04, 'Pixel number (0-783)', ha='center', fontsize = 14)\n",
    "f.text(0.04, 0.5, 'Average pixel value (0-255)', va='center', rotation='vertical', fontsize = 14)\n",
    "for i in range (len(no_each_digit)):\n",
    "    sns.histplot(x=np.arange(784), y=np.mean(images[np.where(labels == i)], axis =0), bins=784, ax=axes[int(i/5),i%5]) \\\n",
    "    .set(title=str(i),xticklabels=[],yticklabels=[])"
   ]
  },
  {
   "cell_type": "code",
   "execution_count": 43,
   "metadata": {},
   "outputs": [
    {
     "name": "stdout",
     "output_type": "stream",
     "text": [
      "Average sum of pixel values in each image: 26281.35570068647\n",
      "\n",
      "\n",
      "Std of sum of pixel values in each image: 4938.2053044606655\n",
      "\n",
      "\n",
      "Average sum of pixel values for each digit: {0: 34665.99307783218, 1: 15193.648620587363, 2: 29783.10775427996, 3: 28294.706246941772, 4: 24263.40893529613, 5: 25739.57885998893, 6: 27449.37090233187, 7: 22896.377334397446, 8: 30019.183900188003, 9: 24508.181375021013}\n",
      "\n",
      "\n",
      "Average x and y centroid position for each digit: {0: [14.013665907338725, 14.00108146522062], 1: [14.021115746013539, 13.962640601119109], 2: [13.99868005103844, 14.005529970859824], 3: [14.008920610694007, 13.994531944124649], 4: [14.003873797432009, 14.000244508209189], 5: [14.003870875247523, 14.000859137884111], 6: [14.000732345886965, 13.999887093854287], 7: [14.0067150931759, 14.005270669915825], 8: [14.0082803150598, 13.999607042230132], 9: [14.000104114225449, 13.993986447174558]}\n",
      "\n",
      "\n",
      "Mean and std of x centroid for all digits: 14.006820330950088 +/- 0.2908964525272403\n",
      "Mean and std of y centroid for all digits: 13.9959052652878 +/- 0.2891940261955425\n"
     ]
    }
   ],
   "source": [
    "# Check if all handwritten digits are centered in 28x28 grid\n",
    "ndigits = images.shape[0]\n",
    "\n",
    "digits = images.reshape([ndigits,28,28])\n",
    "\n",
    "# Sum of pixel values for rows and columns\n",
    "imagesums = np.sum(np.sum(digits,axis=1),axis=1)\n",
    "mean_digit_pixels = np.mean(imagesums)\n",
    "\n",
    "inds = np.arange(28)\n",
    "X, Y = np.meshgrid(inds, inds)\n",
    "\n",
    "centroidx = np.sum(np.sum(digits*X,axis=1),axis=1)/imagesums\n",
    "centroidy = np.sum(np.sum(digits*Y,axis=1),axis=1)/imagesums;\n",
    "\n",
    "average_pixels = {}\n",
    "digit_centroids = {}\n",
    "for i in range (len(no_each_digit)):\n",
    "    average_pixels[i] = np.mean(imagesums[np.where(labels == i)])\n",
    "    digit_centroids[i] = [np.mean(centroidx[np.where(labels == i)]), np.mean(centroidy[np.where(labels == i)])]\n",
    "\n",
    "    \n",
    "print(\"Average sum of pixel values in each image: {}\".format(np.mean(list(average_pixels.values()))))\n",
    "print(\"\\n\")\n",
    "print(\"Std of sum of pixel values in each image: {}\".format(np.std(list(average_pixels.values()))))\n",
    "print(\"\\n\")\n",
    "print(\"Average sum of pixel values for each digit: {}\".format(average_pixels))\n",
    "print(\"\\n\")\n",
    "print(\"Average x and y centroid position for each digit: {}\".format(digit_centroids))\n",
    "print(\"\\n\")\n",
    "print(\"Mean and std of x centroid for all digits: {} +/- {}\".format(np.mean(centroidx), np.std(centroidx)))\n",
    "print(\"Mean and std of y centroid for all digits: {} +/- {}\".format(np.mean(centroidy), np.std(centroidy)))"
   ]
  },
  {
   "cell_type": "markdown",
   "metadata": {},
   "source": [
    "# Multinomial classification function containing accuracy data for each digit"
   ]
  },
  {
   "cell_type": "code",
   "execution_count": 44,
   "metadata": {},
   "outputs": [],
   "source": [
    "def classification_accuracy_multinomal(true_labels, recovered_labels):\n",
    "    \n",
    "    label_confusion_data = np.zeros((len(no_each_digit.keys()),len(no_each_digit.keys()))).astype('int')\n",
    "    label_accuracy = np.zeros(len(no_each_digit.keys()))\n",
    "    \n",
    "    true_unique, true_counts = np.unique(true_labels, return_counts = True)\n",
    "    number_each_true_digit = dict(zip(true_unique, true_counts))\n",
    "    \n",
    "    for k in no_each_digit.keys():\n",
    "        label_confusion_row_dict = {}\n",
    "        true_indices = np.where(true_labels == k)\n",
    "        predicted, counts = np.unique(recovered_labels[true_indices], return_counts = True)\n",
    "        label_confusion_row_dict = dict(zip(predicted, counts))\n",
    "        \n",
    "        for p in label_confusion_row_dict.keys():\n",
    "            label_confusion_data[k][p] = int(label_confusion_row_dict[p])\n",
    "\n",
    "        label_accuracy[k] = (label_confusion_data[k][k]/number_each_true_digit[k])*100\n",
    "    return label_accuracy, label_confusion_data"
   ]
  },
  {
   "cell_type": "markdown",
   "metadata": {},
   "source": [
    "# Split data 80/20 in training set and a test set only used for comparing accuracy of different models"
   ]
  },
  {
   "cell_type": "code",
   "execution_count": 45,
   "metadata": {},
   "outputs": [],
   "source": [
    "no_samples = len(images)\n",
    "rndm_indices = np.random.permutation(no_samples)\n",
    "\n",
    "no_indices_training = np.rint(0.8 * no_samples).astype(int)\n",
    "\n",
    "training_indices, test_indices = np.sort(rndm_indices[:no_indices_training]), np.sort(rndm_indices[no_indices_training:])\n",
    "training_data_inputs = images[training_indices] \n",
    "training_data_outputs = outputs[training_indices]\n",
    "training_data_labels = labels[training_indices]\n",
    "\n",
    "test_data_inputs = images[test_indices] \n",
    "test_data_labels = labels[test_indices]"
   ]
  },
  {
   "cell_type": "code",
   "execution_count": 249,
   "metadata": {},
   "outputs": [],
   "source": [
    "all_training_data = [training_data_inputs, training_data_outputs]\n",
    "all_test_data = [test_data_inputs, test_data_labels]"
   ]
  },
  {
   "cell_type": "code",
   "execution_count": null,
   "metadata": {},
   "outputs": [],
   "source": [
    "# Define function to see if benefit normalising data range from 0-1 instead of 0-255"
   ]
  },
  {
   "cell_type": "code",
   "execution_count": 33,
   "metadata": {},
   "outputs": [],
   "source": [
    "# Normalize each row so values always lie between 0 and 1\n",
    "def normalize(inputs):\n",
    "    max_value = np.amax(inputs, axis=1)[:, np.newaxis]\n",
    "    min_value = np.amin(inputs, axis=1)[:, np.newaxis]\n",
    "    normalized_matrix = (inputs - min_value)/(max_value-min_value)\n",
    "    return normalized_matrix"
   ]
  },
  {
   "cell_type": "code",
   "execution_count": 53,
   "metadata": {},
   "outputs": [],
   "source": [
    "normal_training_data_inputs = normalize(training_data_inputs)\n",
    "normal_test_data_inputs = normalize(test_data_inputs)\n",
    "\n",
    "# Attempted a cut-off for low pixel values though did not improve classification\n",
    "\n",
    "#normal_training_data_inputs[normal_training_data_inputs < 0.05] = 0\n",
    "#normal_test_data_inputs[normal_test_data_inputs < 0.05] = 0\n",
    "\n",
    "\n",
    "# Attempted normalising each row to 1 though reduced accuracy as some digits have more active pixels which can aid classification\n",
    "\n",
    "#normalized_training_data_inputs = normal_training_data_inputs / (np.mean(np.linalg.norm(normal_training_data_inputs, axis = 1)))\n",
    "#normalized_training_data_inputs[normalized_training_data_inputs < 0.05] = 0\n",
    "\n",
    "#normalized_test_data_inputs = normal_test_data_inputs / (np.mean(np.linalg.norm(normal_training_data_inputs, axis = 1)))\n",
    "#normalized_test_data_inputs[normalized_test_data_inputs < 0.05] = 0"
   ]
  },
  {
   "cell_type": "code",
   "execution_count": 250,
   "metadata": {},
   "outputs": [],
   "source": [
    "all_norm_training_data = [normal_training_data_inputs, training_data_outputs]\n",
    "all_norm_test_data = [normal_test_data_inputs, test_data_labels]"
   ]
  },
  {
   "cell_type": "markdown",
   "metadata": {},
   "source": [
    "# 1. Multinomal logistic regression"
   ]
  },
  {
   "cell_type": "code",
   "execution_count": 83,
   "metadata": {},
   "outputs": [],
   "source": [
    "# Useful functions adapted from earlier courseworks for grid search and cross validation.\n",
    "# Earlier gradient descent function used to optimise weights over 2000 iterations\n",
    "\n",
    "def grid_search_max(function, grid):\n",
    "    no_grid_point = len(grid)\n",
    "    accuracy_values = []\n",
    "    optimal_weight_values = []\n",
    "    for counter in range(no_grid_point):\n",
    "        print(\"parameter = {}\".format(grid[counter]))\n",
    "        accuracy_val, optimal_weight_val = function(grid[counter])\n",
    "        accuracy_values.append(accuracy_val)\n",
    "        optimal_weight_values.append(optimal_weight_val)\n",
    "       \n",
    "    return grid[np.argmax(accuracy_values)], np.max(accuracy_values), optimal_weight_values[np.argmax(accuracy_values)]\n",
    "\n",
    "def validate_multinomial_regression(training_samples, test_samples, degree):\n",
    "    training_matrix = polynomial_basis(training_samples[0], degree)\n",
    "    \n",
    "    objective = lambda weightmatrix_: multinomial_logistic_regression_cost_function(training_matrix, weightmatrix_, training_samples[1])\n",
    "    gradient = lambda weightmatrix_:  multinomial_logistic_regression_gradient(training_matrix, weightmatrix_, training_samples[1])\n",
    "    \n",
    "    initial_weight_matrix = np.zeros((training_matrix.shape[1], training_samples[1].shape[1]))\n",
    "    optimal_weight_matrix, objective_values = gradient_descent(objective, gradient, initial_weight_matrix, \\\n",
    "                                    step_size=50/(np.linalg.norm(training_matrix, 2) ** 2), \\\n",
    "                                    no_of_iterations=2000, print_output=100)\n",
    "    \n",
    "    test_matrix = polynomial_basis(test_samples[0], degree)\n",
    "    \n",
    "    #test_digits_accuracy, test_confusion_data = classification_accuracy_multinomal(test_samples[1], multinomial_prediction_function(test_matrix, optimal_weight_matrix))\n",
    "    test_accuracy = classification_accuracy(test_samples[1], multinomial_prediction_function(test_matrix, optimal_weight_matrix))\n",
    "\n",
    "    return test_accuracy, optimal_weight_matrix\n",
    "\n",
    "def cross_validation_logistic(training_inputs, training_outputs, training_labels, parameters, K):\n",
    "    no_training_samples = len(training_inputs)\n",
    "    \n",
    "    random_indices = np.random.permutation(no_training_samples)\n",
    "    \n",
    "    foldSize = int(no_training_samples/K) \n",
    "    \n",
    "    optimal_degrees = []\n",
    "    validation_results = []\n",
    "    optimised_weights = []\n",
    "    \n",
    "    for i in range(0, no_training_samples, foldSize):        \n",
    "        \n",
    "        val_fold_inputs = training_inputs[i:i + foldSize]\n",
    "        val_fold_labels = training_labels[i:i + foldSize]\n",
    "        training_folds_inputs = np.concatenate((training_inputs[0:i], training_inputs[i + foldSize:]), axis = 0)\n",
    "        training_folds_outputs = np.concatenate((training_outputs[0:i], training_outputs[i + foldSize:]), axis = 0)\n",
    "\n",
    "        training_data = [training_folds_inputs, training_folds_outputs]\n",
    "        val_data = [val_fold_inputs, val_fold_labels]\n",
    "        \n",
    "        validater = lambda degree: validate_multinomial_regression(training_data, val_data, degree)\n",
    "        optimal_degree, validation_accuracy, best_training_weights = grid_search_max(validater, parameters)\n",
    "        optimal_degrees.append(optimal_degree)\n",
    "        validation_results.append(validation_accuracy)\n",
    "        optimised_weights.append(best_training_weights)\n",
    "    return np.mean(optimal_degrees), np.mean(validation_results), optimised_weights[np.argmax(validation_results)]"
   ]
  },
  {
   "cell_type": "code",
   "execution_count": 60,
   "metadata": {},
   "outputs": [
    {
     "name": "stdout",
     "output_type": "stream",
     "text": [
      "degree = 1\n",
      "Iteration 100/2000, objective = 12348.473992100893.\n",
      "Iteration 200/2000, objective = 10933.69397607175.\n",
      "Iteration 300/2000, objective = 10469.951350631845.\n",
      "Iteration 400/2000, objective = 10178.161714968683.\n",
      "Iteration 500/2000, objective = 9966.962974300981.\n",
      "Iteration 600/2000, objective = 9802.679976083231.\n",
      "Iteration 700/2000, objective = 9668.865564598196.\n",
      "Iteration 800/2000, objective = 9556.341789984335.\n",
      "Iteration 900/2000, objective = 9459.49041196536.\n",
      "Iteration 1000/2000, objective = 9374.631622788384.\n",
      "Iteration 1100/2000, objective = 9299.228528463524.\n",
      "Iteration 1200/2000, objective = 9231.460810171513.\n",
      "Iteration 1300/2000, objective = 9169.979811123449.\n",
      "Iteration 1400/2000, objective = 9113.759765822262.\n",
      "Iteration 1500/2000, objective = 9062.003211311714.\n",
      "Iteration 1600/2000, objective = 9014.078529783234.\n",
      "Iteration 1700/2000, objective = 8969.477376926381.\n",
      "Iteration 1800/2000, objective = 8927.784869775745.\n",
      "Iteration 1900/2000, objective = 8888.658217918297.\n",
      "Iteration 2000/2000, objective = 8851.811092545982.\n",
      "Iteration completed after 2000/2000, objective = 8851.811092545982.\n",
      "degree = 2\n",
      "Iteration 100/2000, objective = 11400.587877146541.\n",
      "Iteration 200/2000, objective = 10024.714987334635.\n",
      "Iteration 300/2000, objective = 9417.57561523502.\n",
      "Iteration 400/2000, objective = 9013.569412118733.\n",
      "Iteration 500/2000, objective = 8712.752332391296.\n",
      "Iteration 600/2000, objective = 8473.943986289172.\n",
      "Iteration 700/2000, objective = 8276.398040103286.\n",
      "Iteration 800/2000, objective = 8108.251075890449.\n",
      "Iteration 900/2000, objective = 7962.09573622886.\n",
      "Iteration 1000/2000, objective = 7832.9991599173245.\n",
      "Iteration 1100/2000, objective = 7717.511338544952.\n",
      "Iteration 1200/2000, objective = 7613.124969604199.\n",
      "Iteration 1300/2000, objective = 7517.960913620095.\n",
      "Iteration 1400/2000, objective = 7430.574875957148.\n",
      "Iteration 1500/2000, objective = 7349.833210481007.\n",
      "Iteration 1600/2000, objective = 7274.8301295879.\n",
      "Iteration 1700/2000, objective = 7204.830769228056.\n",
      "Iteration 1800/2000, objective = 7139.2309781049225.\n",
      "Iteration 1900/2000, objective = 7077.528257716106.\n",
      "Iteration 2000/2000, objective = 7019.30033539038.\n",
      "Iteration completed after 2000/2000, objective = 7019.30033539038.\n",
      "degree = 3\n",
      "Iteration 100/2000, objective = 11781.017343820964.\n",
      "Iteration 200/2000, objective = 10324.251677225133.\n",
      "Iteration 300/2000, objective = 9664.80729679433.\n",
      "Iteration 400/2000, objective = 9212.676011310094.\n",
      "Iteration 500/2000, objective = 8866.93292978517.\n",
      "Iteration 600/2000, objective = 8586.43624451797.\n",
      "Iteration 700/2000, objective = 8350.177191350005.\n",
      "Iteration 800/2000, objective = 8145.980023717309.\n",
      "Iteration 900/2000, objective = 7966.142895257603.\n",
      "Iteration 1000/2000, objective = 7805.47321243546.\n",
      "Iteration 1100/2000, objective = 7660.296654709646.\n",
      "Iteration 1200/2000, objective = 7527.9128932138.\n",
      "Iteration 1300/2000, objective = 7406.276151736814.\n",
      "Iteration 1400/2000, objective = 7293.797500652478.\n",
      "Iteration 1500/2000, objective = 7189.217036155749.\n",
      "Iteration 1600/2000, objective = 7091.518162433238.\n",
      "Iteration 1700/2000, objective = 6999.868291937608.\n",
      "Iteration 1800/2000, objective = 6913.576711465474.\n",
      "Iteration 1900/2000, objective = 6832.063945700674.\n",
      "Iteration 2000/2000, objective = 6754.839028102606.\n",
      "Iteration completed after 2000/2000, objective = 6754.839028102606.\n",
      "degree = 1\n",
      "Iteration 100/2000, objective = 12118.74678698533.\n",
      "Iteration 200/2000, objective = 11072.2417976831.\n",
      "Iteration 300/2000, objective = 10607.818486138538.\n",
      "Iteration 400/2000, objective = 10314.197423977754.\n",
      "Iteration 500/2000, objective = 10102.277118892018.\n",
      "Iteration 600/2000, objective = 9937.93984854713.\n",
      "Iteration 700/2000, objective = 9804.449792326197.\n",
      "Iteration 800/2000, objective = 9692.453337120376.\n",
      "Iteration 900/2000, objective = 9596.227764954327.\n",
      "Iteration 1000/2000, objective = 9512.031957857158.\n",
      "Iteration 1100/2000, objective = 9437.293618384912.\n",
      "Iteration 1200/2000, objective = 9370.172521945742.\n",
      "Iteration 1300/2000, objective = 9309.309356034988.\n",
      "Iteration 1400/2000, objective = 9253.673199979363.\n",
      "Iteration 1500/2000, objective = 9202.464682750198.\n",
      "Iteration 1600/2000, objective = 9155.052168480375.\n",
      "Iteration 1700/2000, objective = 9110.928365778742.\n",
      "Iteration 1800/2000, objective = 9069.680020613545.\n",
      "Iteration 1900/2000, objective = 9030.966248691619.\n",
      "Iteration 2000/2000, objective = 8994.50272510117.\n",
      "Iteration completed after 2000/2000, objective = 8994.50272510117.\n",
      "degree = 2\n",
      "Iteration 100/2000, objective = 11411.636552075586.\n",
      "Iteration 200/2000, objective = 10131.774297653803.\n",
      "Iteration 300/2000, objective = 9514.83125911723.\n",
      "Iteration 400/2000, objective = 9103.31978778172.\n",
      "Iteration 500/2000, objective = 8796.67272622461.\n",
      "Iteration 600/2000, objective = 8553.242519718531.\n",
      "Iteration 700/2000, objective = 8351.952928419925.\n",
      "Iteration 800/2000, objective = 8180.71049097746.\n",
      "Iteration 900/2000, objective = 8031.946751137385.\n",
      "Iteration 1000/2000, objective = 7900.6150010613765.\n",
      "Iteration 1100/2000, objective = 7783.183896287553.\n",
      "Iteration 1200/2000, objective = 7677.087300269475.\n",
      "Iteration 1300/2000, objective = 7580.402921266794.\n",
      "Iteration 1400/2000, objective = 7491.654323353995.\n",
      "Iteration 1500/2000, objective = 7409.683507933474.\n",
      "Iteration 1600/2000, objective = 7333.56588070376.\n",
      "Iteration 1700/2000, objective = 7262.551741742249.\n",
      "Iteration 1800/2000, objective = 7196.02496278619.\n",
      "Iteration 1900/2000, objective = 7133.473141675231.\n",
      "Iteration 2000/2000, objective = 7074.46562275543.\n",
      "Iteration completed after 2000/2000, objective = 7074.46562275543.\n",
      "degree = 3\n",
      "Iteration 100/2000, objective = 11879.619878220234.\n",
      "Iteration 200/2000, objective = 10426.356654928997.\n",
      "Iteration 300/2000, objective = 9755.38990863672.\n",
      "Iteration 400/2000, objective = 9293.216851211877.\n",
      "Iteration 500/2000, objective = 8939.60590614363.\n",
      "Iteration 600/2000, objective = 8652.763218581302.\n",
      "Iteration 700/2000, objective = 8411.265013890825.\n",
      "Iteration 800/2000, objective = 8202.663594749982.\n",
      "Iteration 900/2000, objective = 8019.073841682435.\n",
      "Iteration 1000/2000, objective = 7855.175079490806.\n",
      "Iteration 1100/2000, objective = 7707.199984708074.\n",
      "Iteration 1200/2000, objective = 7572.378310456351.\n",
      "Iteration 1300/2000, objective = 7448.610155361152.\n",
      "Iteration 1400/2000, objective = 7334.263671985127.\n",
      "Iteration 1500/2000, objective = 7228.044255537723.\n",
      "Iteration 1600/2000, objective = 7128.90680748085.\n",
      "Iteration 1700/2000, objective = 7035.99502749405.\n",
      "Iteration 1800/2000, objective = 6948.598263715306.\n",
      "Iteration 1900/2000, objective = 6866.120119098506.\n",
      "Iteration 2000/2000, objective = 6788.055141081206.\n",
      "Iteration completed after 2000/2000, objective = 6788.055141081206.\n",
      "degree = 1\n",
      "Iteration 100/2000, objective = 12138.046548918925.\n",
      "Iteration 200/2000, objective = 10837.262721996205.\n",
      "Iteration 300/2000, objective = 10368.98074230835.\n",
      "Iteration 400/2000, objective = 10069.451494106546.\n",
      "Iteration 500/2000, objective = 9852.651660244133.\n",
      "Iteration 600/2000, objective = 9684.15864211533.\n",
      "Iteration 700/2000, objective = 9547.067395124042.\n",
      "Iteration 800/2000, objective = 9431.912852177582.\n",
      "Iteration 900/2000, objective = 9332.88954277337.\n",
      "Iteration 1000/2000, objective = 9246.191252864326.\n",
      "Iteration 1100/2000, objective = 9169.193387676038.\n",
      "Iteration 1200/2000, objective = 9100.013558174474.\n",
      "Iteration 1300/2000, objective = 9037.258565369073.\n",
      "Iteration 1400/2000, objective = 8979.870379663153.\n",
      "Iteration 1500/2000, objective = 8927.028022540038.\n",
      "Iteration 1600/2000, objective = 8878.082668594338.\n",
      "Iteration 1700/2000, objective = 8832.513351080308.\n",
      "Iteration 1800/2000, objective = 8789.895915043055.\n",
      "Iteration 1900/2000, objective = 8749.880753679974.\n",
      "Iteration 2000/2000, objective = 8712.176523603137.\n",
      "Iteration completed after 2000/2000, objective = 8712.176523603137.\n",
      "degree = 2\n",
      "Iteration 100/2000, objective = 11121.665695711783.\n",
      "Iteration 200/2000, objective = 9925.573841648828.\n",
      "Iteration 300/2000, objective = 9303.442417160288.\n",
      "Iteration 400/2000, objective = 8888.792030905764.\n",
      "Iteration 500/2000, objective = 8579.661980039025.\n",
      "Iteration 600/2000, objective = 8333.98486048845.\n",
      "Iteration 700/2000, objective = 8130.5804296515835.\n",
      "Iteration 800/2000, objective = 7957.337538816458.\n",
      "Iteration 900/2000, objective = 7806.688762169827.\n"
     ]
    },
    {
     "name": "stdout",
     "output_type": "stream",
     "text": [
      "Iteration 1000/2000, objective = 7673.58875843022.\n",
      "Iteration 1100/2000, objective = 7554.504220724472.\n",
      "Iteration 1200/2000, objective = 7446.8640271708455.\n",
      "Iteration 1300/2000, objective = 7348.7389349225405.\n",
      "Iteration 1400/2000, objective = 7258.644546496024.\n",
      "Iteration 1500/2000, objective = 7175.4145933082345.\n",
      "Iteration 1600/2000, objective = 7098.116379006148.\n",
      "Iteration 1700/2000, objective = 7025.992575250242.\n",
      "Iteration 1800/2000, objective = 6958.42008018845.\n",
      "Iteration 1900/2000, objective = 6894.880263361582.\n",
      "Iteration 2000/2000, objective = 6834.937010641317.\n",
      "Iteration completed after 2000/2000, objective = 6834.937010641317.\n",
      "degree = 3\n",
      "Iteration 100/2000, objective = 11676.496532393356.\n",
      "Iteration 200/2000, objective = 10212.362110914124.\n",
      "Iteration 300/2000, objective = 9537.079871754506.\n",
      "Iteration 400/2000, objective = 9071.502745259102.\n",
      "Iteration 500/2000, objective = 8715.002921282232.\n",
      "Iteration 600/2000, objective = 8425.496975193375.\n",
      "Iteration 700/2000, objective = 8181.501765292163.\n",
      "Iteration 800/2000, objective = 7970.565739702589.\n",
      "Iteration 900/2000, objective = 7784.806255843405.\n",
      "Iteration 1000/2000, objective = 7618.899778239745.\n",
      "Iteration 1100/2000, objective = 7469.070209317999.\n",
      "Iteration 1200/2000, objective = 7332.534726276451.\n",
      "Iteration 1300/2000, objective = 7207.179204289125.\n",
      "Iteration 1400/2000, objective = 7091.357454134359.\n",
      "Iteration 1500/2000, objective = 6983.7613108358255.\n",
      "Iteration 1600/2000, objective = 6883.3333390711405.\n",
      "Iteration 1700/2000, objective = 6789.206281783515.\n",
      "Iteration 1800/2000, objective = 6700.6599085515245.\n",
      "Iteration 1900/2000, objective = 6617.0895409115.\n",
      "Iteration 2000/2000, objective = 6537.982626690809.\n",
      "Iteration completed after 2000/2000, objective = 6537.982626690809.\n",
      "degree = 1\n",
      "Iteration 100/2000, objective = 12183.246638923618.\n",
      "Iteration 200/2000, objective = 11042.804778850428.\n",
      "Iteration 300/2000, objective = 10575.662828085473.\n",
      "Iteration 400/2000, objective = 10278.198735768488.\n",
      "Iteration 500/2000, objective = 10063.451927764314.\n",
      "Iteration 600/2000, objective = 9896.897586135025.\n",
      "Iteration 700/2000, objective = 9761.623419435473.\n",
      "Iteration 800/2000, objective = 9648.174324670455.\n",
      "Iteration 900/2000, objective = 9550.756982398472.\n",
      "Iteration 1000/2000, objective = 9465.57686223328.\n",
      "Iteration 1100/2000, objective = 9390.02021817363.\n",
      "Iteration 1200/2000, objective = 9322.21457661601.\n",
      "Iteration 1300/2000, objective = 9260.775636516686.\n",
      "Iteration 1400/2000, objective = 9204.653205216935.\n",
      "Iteration 1500/2000, objective = 9153.033093287018.\n",
      "Iteration 1600/2000, objective = 9105.272275935688.\n",
      "Iteration 1700/2000, objective = 9060.85468618153.\n",
      "Iteration 1800/2000, objective = 9019.360268502713.\n",
      "Iteration 1900/2000, objective = 8980.44281807877.\n",
      "Iteration 2000/2000, objective = 8943.8137948279.\n",
      "Iteration completed after 2000/2000, objective = 8943.8137948279.\n",
      "degree = 2\n",
      "Iteration 100/2000, objective = 11373.079302777014.\n",
      "Iteration 200/2000, objective = 10132.059737602813.\n",
      "Iteration 300/2000, objective = 9511.650284278818.\n",
      "Iteration 400/2000, objective = 9098.19213727959.\n",
      "Iteration 500/2000, objective = 8790.075667565352.\n",
      "Iteration 600/2000, objective = 8545.33304178106.\n",
      "Iteration 700/2000, objective = 8342.790108513547.\n",
      "Iteration 800/2000, objective = 8170.321371667051.\n",
      "Iteration 900/2000, objective = 8020.348649061084.\n",
      "Iteration 1000/2000, objective = 7887.823837341235.\n",
      "Iteration 1100/2000, objective = 7769.217279960203.\n",
      "Iteration 1200/2000, objective = 7661.965409185092.\n",
      "Iteration 1300/2000, objective = 7564.1484230019205.\n",
      "Iteration 1400/2000, objective = 7474.291903362595.\n",
      "Iteration 1500/2000, objective = 7391.239282872502.\n",
      "Iteration 1600/2000, objective = 7314.066838211165.\n",
      "Iteration 1700/2000, objective = 7242.025276479407.\n",
      "Iteration 1800/2000, objective = 7174.498536556495.\n",
      "Iteration 1900/2000, objective = 7110.974068606644.\n",
      "Iteration 2000/2000, objective = 7051.020963568055.\n",
      "Iteration completed after 2000/2000, objective = 7051.020963568055.\n",
      "degree = 3\n",
      "Iteration 100/2000, objective = 11983.541915579863.\n",
      "Iteration 200/2000, objective = 10431.47079851124.\n",
      "Iteration 300/2000, objective = 9759.283546960356.\n",
      "Iteration 400/2000, objective = 9296.647291601646.\n",
      "Iteration 500/2000, objective = 8943.191673116948.\n",
      "Iteration 600/2000, objective = 8656.792018842443.\n",
      "Iteration 700/2000, objective = 8415.8586863378.\n",
      "Iteration 800/2000, objective = 8207.848468821625.\n",
      "Iteration 900/2000, objective = 8024.817456053938.\n",
      "Iteration 1000/2000, objective = 7861.4087244121765.\n",
      "Iteration 1100/2000, objective = 7713.8337962216765.\n",
      "Iteration 1200/2000, objective = 7579.311691011034.\n",
      "Iteration 1300/2000, objective = 7455.73897223854.\n",
      "Iteration 1400/2000, objective = 7341.48514690656.\n",
      "Iteration 1500/2000, objective = 7235.260176671729.\n",
      "Iteration 1600/2000, objective = 7136.025520159066.\n",
      "Iteration 1700/2000, objective = 7042.932543214621.\n",
      "Iteration 1800/2000, objective = 6955.278744837871.\n",
      "Iteration 1900/2000, objective = 6872.475934938645.\n",
      "Iteration 2000/2000, objective = 6794.026642175962.\n",
      "Iteration completed after 2000/2000, objective = 6794.026642175962.\n"
     ]
    }
   ],
   "source": [
    "# Grid search with multinomial logistic regression to optimise polynomial degree with 4 fold cross validation\n",
    "\n",
    "# Degrees to compare\n",
    "degrees = [1,2,3]\n",
    "\n",
    "# Folds\n",
    "K = 4\n",
    "\n",
    "# Run tests and return best result\n",
    "best_degree, best_logistic_validation_accuracy, best_logistic_weights = cross_validation_logistic(training_data_inputs, training_data_outputs, training_data_labels, degrees, K)"
   ]
  },
  {
   "cell_type": "code",
   "execution_count": 252,
   "metadata": {},
   "outputs": [
    {
     "name": "stdout",
     "output_type": "stream",
     "text": [
      "Best degree accuracy on validation sets: 1.75\n",
      "Best accuracy returned on validation sets: 0.9191250000000001\n"
     ]
    }
   ],
   "source": [
    "print(\"Best degree accuracy on validation sets: {}\".format(best_degree))\n",
    "print(\"Best accuracy returned on validation sets: {}\".format(best_logistic_validation_accuracy))"
   ]
  },
  {
   "cell_type": "code",
   "execution_count": 251,
   "metadata": {},
   "outputs": [
    {
     "name": "stdout",
     "output_type": "stream",
     "text": [
      "Iteration 100/2000, objective = 10261.149160366978.\n",
      "Iteration 200/2000, objective = 10137.11880948045.\n",
      "Iteration 300/2000, objective = 10037.111000835605.\n",
      "Iteration 400/2000, objective = 9951.39619466592.\n",
      "Iteration 500/2000, objective = 9875.5944708006.\n",
      "Iteration 600/2000, objective = 9807.214907664571.\n",
      "Iteration 700/2000, objective = 9744.664505267614.\n",
      "Iteration 800/2000, objective = 9686.84818738065.\n",
      "Iteration 900/2000, objective = 9632.97451635336.\n",
      "Iteration 1000/2000, objective = 9582.449740694381.\n",
      "Iteration 1100/2000, objective = 9534.815192896041.\n",
      "Iteration 1200/2000, objective = 9489.70803947543.\n",
      "Iteration 1300/2000, objective = 9446.83551710171.\n",
      "Iteration 1400/2000, objective = 9405.957390606849.\n",
      "Iteration 1500/2000, objective = 9366.873645408337.\n",
      "Iteration 1600/2000, objective = 9329.415632349097.\n",
      "Iteration 1700/2000, objective = 9293.43955764774.\n",
      "Iteration 1800/2000, objective = 9258.821606071684.\n",
      "Iteration 1900/2000, objective = 9225.454226323654.\n",
      "Iteration 2000/2000, objective = 9193.243259246809.\n",
      "Iteration completed after 2000/2000, objective = 9193.243259246809.\n"
     ]
    }
   ],
   "source": [
    "# Tune weights by applying best weights to whole training dataset\n",
    "\n",
    "def tune_validate_multinomial_regression(training_samples, test_samples, degree):\n",
    "    training_matrix = polynomial_basis(training_samples[0], degree)\n",
    "    \n",
    "    objective = lambda weightmatrix_: multinomial_logistic_regression_cost_function(training_matrix, weightmatrix_, training_samples[1])\n",
    "    gradient = lambda weightmatrix_:  multinomial_logistic_regression_gradient(training_matrix, weightmatrix_, training_samples[1])\n",
    "    \n",
    "    initial_weight_matrix = best_logistic_weights.copy()\n",
    "    optimal_weight_matrix, objective_values = gradient_descent(objective, gradient, initial_weight_matrix, \\\n",
    "                                    step_size=50/(np.linalg.norm(training_matrix, 2) ** 2), \\\n",
    "                                    no_of_iterations=2000, print_output=100)\n",
    "    \n",
    "    test_matrix = polynomial_basis(test_samples[0], degree)\n",
    "    \n",
    "    #test_digits_accuracy, test_confusion_data = classification_accuracy_multinomal(test_samples[1], multinomial_prediction_function(test_matrix, optimal_weight_matrix))\n",
    "    test_accuracy = classification_accuracy(test_samples[1], multinomial_prediction_function(test_matrix, optimal_weight_matrix))\n",
    "\n",
    "    return test_accuracy, optimal_weight_matrix\n",
    "\n",
    "# Run on whole training and test sets\n",
    "tuned_logistic_accuracy, tuned_logistic_weights = tune_validate_multinomial_regression(all_training_data, all_test_data, 2)"
   ]
  },
  {
   "cell_type": "code",
   "execution_count": 253,
   "metadata": {},
   "outputs": [
    {
     "name": "stdout",
     "output_type": "stream",
     "text": [
      "Accuracy on whole test dataset: 0.9226666666666666\n",
      "Accuracy breakdown on each digit in test dataset: [97.20670391 97.67267267 89.86486486 90.26479751 92.47491639 86.55767484\n",
      " 95.2991453  93.38645418 89.35456832 90.1734104 ]\n"
     ]
    },
    {
     "data": {
      "text/plain": [
       "Text(0.5, 15.0, 'Predicted digit')"
      ]
     },
     "execution_count": 253,
     "metadata": {},
     "output_type": "execute_result"
    },
    {
     "data": {
      "image/png": "[encoded data removed]",
      "text/plain": [
       "<Figure size 432x288 with 2 Axes>"
      ]
     },
     "metadata": {
      "needs_background": "light"
     },
     "output_type": "display_data"
    }
   ],
   "source": [
    "# Apply best result to unseen test data\n",
    "test_logistic_data_matrix = polynomial_basis(test_data_inputs, 2)\n",
    "\n",
    "# Compare accuracy returned on all digits and confusion matrix breakdoen on each digit\n",
    "test_logistic_accuracy_digits, test_logistic_confusion_data = classification_accuracy_multinomal(test_data_labels, multinomial_prediction_function(test_logistic_data_matrix, tuned_logistic_weights))\n",
    "test_logistic_accuracy_total = classification_accuracy(test_data_labels, multinomial_prediction_function(test_logistic_data_matrix, tuned_logistic_weights))\n",
    "\n",
    "print(\"Accuracy on whole test dataset: {}\".format(test_logistic_accuracy_total))\n",
    "print(\"Accuracy breakdown on each digit in test dataset: {}\".format(test_logistic_accuracy_digits))\n",
    "sns.heatmap(test_logistic_confusion_data, annot = True, fmt=\"d\", cmap=\"coolwarm\")\n",
    "plt.title('Digit Confusion Matrix', fontsize = 16)\n",
    "plt.ylabel('Real digit', fontsize =14)\n",
    "plt.xlabel('Predicted digit', fontsize =14)"
   ]
  },
  {
   "cell_type": "code",
   "execution_count": 254,
   "metadata": {},
   "outputs": [],
   "source": [
    "#np.savetxt('logistic_weights.csv', tuned_logistic_weights, delimiter=',')"
   ]
  },
  {
   "cell_type": "code",
   "execution_count": 71,
   "metadata": {},
   "outputs": [
    {
     "name": "stdout",
     "output_type": "stream",
     "text": [
      "degree = 2\n",
      "Iteration 100/2000, objective = 11907.476269618039.\n",
      "Iteration 200/2000, objective = 10802.262705567493.\n",
      "Iteration 300/2000, objective = 10286.289395412601.\n",
      "Iteration 400/2000, objective = 9947.567543903311.\n",
      "Iteration 500/2000, objective = 9696.079400684479.\n",
      "Iteration 600/2000, objective = 9495.909275272948.\n",
      "Iteration 700/2000, objective = 9329.371156860381.\n",
      "Iteration 800/2000, objective = 9186.520745914371.\n",
      "Iteration 900/2000, objective = 9061.233751434564.\n",
      "Iteration 1000/2000, objective = 8949.480812718724.\n",
      "Iteration 1100/2000, objective = 8848.474848069169.\n",
      "Iteration 1200/2000, objective = 8756.210929992618.\n",
      "Iteration 1300/2000, objective = 8671.200412319498.\n",
      "Iteration 1400/2000, objective = 8592.308695774038.\n",
      "Iteration 1500/2000, objective = 8518.65175070811.\n",
      "Iteration 1600/2000, objective = 8449.52765485222.\n",
      "Iteration 1700/2000, objective = 8384.369880695655.\n",
      "Iteration 1800/2000, objective = 8322.714572730629.\n",
      "Iteration 1900/2000, objective = 8264.177095564908.\n",
      "Iteration 2000/2000, objective = 8208.43488620573.\n",
      "Iteration completed after 2000/2000, objective = 8208.43488620573.\n",
      "degree = 2\n",
      "Iteration 100/2000, objective = 12067.15911327145.\n",
      "Iteration 200/2000, objective = 10937.542299997247.\n",
      "Iteration 300/2000, objective = 10417.407114686812.\n",
      "Iteration 400/2000, objective = 10075.331544655575.\n",
      "Iteration 500/2000, objective = 9821.270437768275.\n",
      "Iteration 600/2000, objective = 9619.03019463659.\n",
      "Iteration 700/2000, objective = 9450.721821135852.\n",
      "Iteration 800/2000, objective = 9306.277432146431.\n",
      "Iteration 900/2000, objective = 9179.501650636072.\n",
      "Iteration 1000/2000, objective = 9066.325289627253.\n",
      "Iteration 1100/2000, objective = 8963.939252804095.\n",
      "Iteration 1200/2000, objective = 8870.326479467958.\n",
      "Iteration 1300/2000, objective = 8783.991570487417.\n",
      "Iteration 1400/2000, objective = 8703.796067041938.\n",
      "Iteration 1500/2000, objective = 8628.85362754154.\n",
      "Iteration 1600/2000, objective = 8558.460848320323.\n",
      "Iteration 1700/2000, objective = 8492.050173101194.\n",
      "Iteration 1800/2000, objective = 8429.156972328668.\n",
      "Iteration 1900/2000, objective = 8369.395987833455.\n",
      "Iteration 2000/2000, objective = 8312.444130888105.\n",
      "Iteration completed after 2000/2000, objective = 8312.444130888105.\n",
      "degree = 2\n",
      "Iteration 100/2000, objective = 11768.065919016215.\n",
      "Iteration 200/2000, objective = 10723.503001437646.\n",
      "Iteration 300/2000, objective = 10204.307259364616.\n",
      "Iteration 400/2000, objective = 9863.814025255562.\n",
      "Iteration 500/2000, objective = 9611.510308825875.\n",
      "Iteration 600/2000, objective = 9411.066961418028.\n",
      "Iteration 700/2000, objective = 9244.552428737796.\n",
      "Iteration 800/2000, objective = 9101.879636811547.\n",
      "Iteration 900/2000, objective = 8976.840495582093.\n",
      "Iteration 1000/2000, objective = 8865.356125631128.\n",
      "Iteration 1100/2000, objective = 8764.610398777135.\n",
      "Iteration 1200/2000, objective = 8672.58187740813.\n",
      "Iteration 1300/2000, objective = 8587.77320241907.\n",
      "Iteration 1400/2000, objective = 8509.045930443084.\n",
      "Iteration 1500/2000, objective = 8435.515203885303.\n",
      "Iteration 1600/2000, objective = 8366.480099705577.\n",
      "Iteration 1700/2000, objective = 8301.376148001767.\n",
      "Iteration 1800/2000, objective = 8239.742111126003.\n",
      "Iteration 1900/2000, objective = 8181.196210414206.\n",
      "Iteration 2000/2000, objective = 8125.418773825124.\n",
      "Iteration completed after 2000/2000, objective = 8125.418773825124.\n",
      "degree = 2\n",
      "Iteration 100/2000, objective = 12041.838876805414.\n",
      "Iteration 200/2000, objective = 10925.976825609954.\n",
      "Iteration 300/2000, objective = 10402.357494937884.\n",
      "Iteration 400/2000, objective = 10058.97264997727.\n",
      "Iteration 500/2000, objective = 9804.317018888534.\n",
      "Iteration 600/2000, objective = 9601.810767133746.\n",
      "Iteration 700/2000, objective = 9433.437525183117.\n",
      "Iteration 800/2000, objective = 9289.072623101505.\n",
      "Iteration 900/2000, objective = 9162.485961784985.\n",
      "Iteration 1000/2000, objective = 9049.582914602865.\n",
      "Iteration 1100/2000, objective = 8947.534786369812.\n",
      "Iteration 1200/2000, objective = 8854.309540774915.\n",
      "Iteration 1300/2000, objective = 8768.400622147434.\n",
      "Iteration 1400/2000, objective = 8688.661485449602.\n",
      "Iteration 1500/2000, objective = 8614.20007189301.\n",
      "Iteration 1600/2000, objective = 8544.309016639969.\n",
      "Iteration 1700/2000, objective = 8478.41805633114.\n",
      "Iteration 1800/2000, objective = 8416.060718258226.\n",
      "Iteration 1900/2000, objective = 8356.850474092587.\n",
      "Iteration 2000/2000, objective = 8300.463328432757.\n",
      "Iteration completed after 2000/2000, objective = 8300.463328432757.\n"
     ]
    }
   ],
   "source": [
    "# Repeat cross validation with degree 2 using normalised data so all pixel values lie between 0 and 1 to see if any benefit in normalising\n",
    "\n",
    "degrees = [2]\n",
    "K = 4\n",
    "_, best_norm_validation_accuracy, best_norm_logistic_weights = cross_validation(normal_training_data_inputs, training_data_outputs, training_data_labels, degrees, K)"
   ]
  },
  {
   "cell_type": "code",
   "execution_count": 256,
   "metadata": {},
   "outputs": [
    {
     "name": "stdout",
     "output_type": "stream",
     "text": [
      "Best accuracy returned on validation sets: 0.9217291666666667\n"
     ]
    }
   ],
   "source": [
    "print(\"Best accuracy returned on validation sets: {}\".format(best_norm_validation_accuracy))"
   ]
  },
  {
   "cell_type": "code",
   "execution_count": 255,
   "metadata": {},
   "outputs": [
    {
     "name": "stdout",
     "output_type": "stream",
     "text": [
      "Iteration 100/2000, objective = 11466.259719106458.\n",
      "Iteration 200/2000, objective = 11369.409895257388.\n",
      "Iteration 300/2000, objective = 11288.79190076984.\n",
      "Iteration 400/2000, objective = 11216.976136174537.\n",
      "Iteration 500/2000, objective = 11151.067891788656.\n",
      "Iteration 600/2000, objective = 11089.566842300585.\n",
      "Iteration 700/2000, objective = 11031.57243923454.\n",
      "Iteration 800/2000, objective = 10976.49119181086.\n",
      "Iteration 900/2000, objective = 10923.904600567277.\n",
      "Iteration 1000/2000, objective = 10873.501829990219.\n",
      "Iteration 1100/2000, objective = 10825.04239479402.\n",
      "Iteration 1200/2000, objective = 10778.334116357379.\n",
      "Iteration 1300/2000, objective = 10733.219397246567.\n",
      "Iteration 1400/2000, objective = 10689.56628130645.\n",
      "Iteration 1500/2000, objective = 10647.262397571785.\n",
      "Iteration 1600/2000, objective = 10606.21071409203.\n",
      "Iteration 1700/2000, objective = 10566.32646962722.\n",
      "Iteration 1800/2000, objective = 10527.534897254667.\n",
      "Iteration 1900/2000, objective = 10489.769496192504.\n",
      "Iteration 2000/2000, objective = 10452.970693213347.\n",
      "Iteration completed after 2000/2000, objective = 10452.970693213347.\n"
     ]
    }
   ],
   "source": [
    "# Tune weights by applying best weights to whole training dataset\n",
    "\n",
    "def tune_validate_multinomial_regression_norm(training_samples, test_samples, degree):\n",
    "    training_matrix = polynomial_basis(training_samples[0], degree)\n",
    "    \n",
    "    objective = lambda weightmatrix_: multinomial_logistic_regression_cost_function(training_matrix, weightmatrix_, training_samples[1])\n",
    "    gradient = lambda weightmatrix_:  multinomial_logistic_regression_gradient(training_matrix, weightmatrix_, training_samples[1])\n",
    "    \n",
    "    initial_weight_matrix = best_norm_logistic_weights.copy()\n",
    "    optimal_weight_matrix, objective_values = gradient_descent(objective, gradient, initial_weight_matrix, \\\n",
    "                                    step_size=50/(np.linalg.norm(training_matrix, 2) ** 2), \\\n",
    "                                    no_of_iterations=2000, print_output=100)\n",
    "    \n",
    "    test_matrix = polynomial_basis(test_samples[0], degree)\n",
    "    \n",
    "    #test_digits_accuracy, test_confusion_data = classification_accuracy_multinomal(test_samples[1], multinomial_prediction_function(test_matrix, optimal_weight_matrix))\n",
    "    test_accuracy = classification_accuracy(test_samples[1], multinomial_prediction_function(test_matrix, optimal_weight_matrix))\n",
    "\n",
    "    return test_accuracy, optimal_weight_matrix\n",
    "\n",
    "# Run best weights on whole training set calculating accuracy on test set\n",
    "tuned_normal_logistic_accuracy, tuned_norm_logistic_weights = tune_validate_multinomial_regression_norm(all_norm_training_data, all_norm_test_data, 2)"
   ]
  },
  {
   "cell_type": "code",
   "execution_count": 257,
   "metadata": {},
   "outputs": [
    {
     "name": "stdout",
     "output_type": "stream",
     "text": [
      "Accuracy on whole test dataset: 0.9276666666666666\n",
      "Accuracy breakdown on each digit in test dataset: [98.04469274 97.74774775 89.27364865 90.73208723 93.22742475 88.37420527\n",
      " 95.38461538 93.46613546 90.77954736 90.42113955]\n"
     ]
    },
    {
     "data": {
      "text/plain": [
       "Text(0.5, 15.0, 'Predicted digit')"
      ]
     },
     "execution_count": 257,
     "metadata": {},
     "output_type": "execute_result"
    },
    {
     "data": {
      "image/png": "[encoded data removed]",
      "text/plain": [
       "<Figure size 432x288 with 2 Axes>"
      ]
     },
     "metadata": {
      "needs_background": "light"
     },
     "output_type": "display_data"
    }
   ],
   "source": [
    "# Apply weights to unseen test data\n",
    "test_norm_data_matrix = polynomial_basis(normal_test_data_inputs, 2)\n",
    "\n",
    "# Compare accuracy returned on all digits and confusion matrix breakdown on each digit\n",
    "test_norm_accuracy_digits, test_norm_logistic_confusion_data = classification_accuracy_multinomal(test_data_labels, multinomial_prediction_function(test_norm_data_matrix, tuned_norm_logistic_weights))\n",
    "test_norm_accuracy_total = classification_accuracy(test_data_labels, multinomial_prediction_function(test_norm_data_matrix, tuned_norm_logistic_weights))\n",
    "\n",
    "print(\"Accuracy on whole test dataset: {}\".format(test_norm_accuracy_total))\n",
    "print(\"Accuracy breakdown on each digit in test dataset: {}\".format(test_norm_accuracy_digits))\n",
    "sns.heatmap(test_norm_logistic_confusion_data, annot = True, fmt=\"d\", cmap=\"coolwarm\")\n",
    "plt.title('Digit Confusion Matrix', fontsize = 16)\n",
    "plt.ylabel('Real digit', fontsize =14)\n",
    "plt.xlabel('Predicted digit', fontsize =14)"
   ]
  },
  {
   "cell_type": "code",
   "execution_count": 258,
   "metadata": {},
   "outputs": [],
   "source": [
    "#np.savetxt('normalised_logistic_weights.csv', tuned_norm_logistic_weights, delimiter=',')"
   ]
  },
  {
   "cell_type": "markdown",
   "metadata": {},
   "source": [
    "# 2. Logistic Ridge Regression"
   ]
  },
  {
   "cell_type": "code",
   "execution_count": 93,
   "metadata": {},
   "outputs": [
    {
     "name": "stdout",
     "output_type": "stream",
     "text": [
      "Condition number of training data matrix: 1732871441.8705845\n",
      "Condition number of training data matrix with regularisation: 366.8691174246592\n"
     ]
    }
   ],
   "source": [
    "# Compute condition number of training data matrix based on singular values\n",
    "training_data_matrix = polynomial_basis(training_data_inputs, 2)\n",
    "\n",
    "eigenvalues, eigenvectors = np.linalg.eig(training_data_matrix.T @ training_data_matrix)\n",
    "\n",
    "sorted_eigenvalues = np.sort(eigenvalues)\n",
    "matrix_condition_no = np.sqrt(np.abs(sorted_eigenvalues[-1])) / np.sqrt(np.abs(sorted_eigenvalues[0]))\n",
    "\n",
    "print(\"Condition number of training data matrix: {}\".format(matrix_condition_no))\n",
    "\n",
    "# Choose example regularisation parameter to see effect on condition number\n",
    "regularisation_parameter = 1000000\n",
    "eigenvalues_reg, eigenvectors_reg = np.linalg.eig(training_data_matrix.T @ training_data_matrix + regularisation_parameter * np.eye(training_data_matrix.shape[1]))\n",
    "\n",
    "sorted_eigenvalues_reg = np.sort(eigenvalues_reg)\n",
    "matrix_condition_no_reg = np.sqrt(np.abs(sorted_eigenvalues_reg[-1])) / np.sqrt(np.abs(sorted_eigenvalues_reg[0]))\n",
    "\n",
    "print(\"Condition number of training data matrix with regularisation: {}\".format(matrix_condition_no_reg))"
   ]
  },
  {
   "cell_type": "code",
   "execution_count": 84,
   "metadata": {},
   "outputs": [],
   "source": [
    "# Adapted functions for cross validation using ridge regression cost function and degree = 2\n",
    "\n",
    "def validate_ridge_regression(training_samples, test_samples, regularisation_parameter):\n",
    "    training_matrix = polynomial_basis(training_samples[0], 2)\n",
    "    \n",
    "    objective = lambda weightmatrix_: ridge_logistic_regression_cost_function(training_matrix, weightmatrix_, training_samples[1], regularisation_parameter)\n",
    "    gradient = lambda weightmatrix_:  ridge_logistic_regression_gradient(training_matrix, weightmatrix_, training_samples[1], regularisation_parameter)\n",
    "    \n",
    "    initial_weight_matrix = np.zeros((training_matrix.shape[1], training_samples[1].shape[1]))\n",
    "    optimal_weight_matrix, objective_values = gradient_descent(objective, gradient, initial_weight_matrix, \\\n",
    "                                    step_size=50/np.linalg.norm(training_matrix.T @ training_matrix + \\\n",
    "                                    regularisation_parameter * np.eye(training_matrix.shape[1]), 2), \\\n",
    "                                    no_of_iterations=1600, print_output=200)\n",
    "                                                               \n",
    "    test_matrix = polynomial_basis(test_samples[0], 2)\n",
    "    \n",
    "    #test_digits_accuracy, test_confusion_data = classification_accuracy_multinomal(test_samples[1], multinomial_prediction_function(test_matrix, optimal_weight_matrix))\n",
    "    test_accuracy = classification_accuracy(test_samples[1], multinomial_prediction_function(test_matrix, optimal_weight_matrix))\n",
    "\n",
    "    return test_accuracy, optimal_weight_matrix\n",
    "\n",
    "def cross_validation_ridge(training_inputs, training_outputs, training_labels, parameters, K):\n",
    "    no_training_samples = len(training_inputs)\n",
    "    \n",
    "    random_indices = np.random.permutation(no_training_samples)\n",
    "    \n",
    "    foldSize = int(no_training_samples/K) \n",
    "    \n",
    "    optimal_parameters = []\n",
    "    validation_results = []\n",
    "    optimised_weights = []\n",
    "    \n",
    "    for i in range(0, no_training_samples, foldSize):        \n",
    "        \n",
    "        val_fold_inputs = training_inputs[i:i + foldSize]\n",
    "        val_fold_labels = training_labels[i:i + foldSize]\n",
    "        training_folds_inputs = np.concatenate((training_inputs[0:i], training_inputs[i + foldSize:]), axis = 0)\n",
    "        training_folds_outputs = np.concatenate((training_outputs[0:i], training_outputs[i + foldSize:]), axis = 0)\n",
    "\n",
    "        training_data = [training_folds_inputs, training_folds_outputs]\n",
    "        val_data = [val_fold_inputs, val_fold_labels]\n",
    "        \n",
    "        validater = lambda reg_parameter: validate_ridge_regression(training_data, val_data, reg_parameter)\n",
    "        optimal_reg_parameter, validation_accuracy, best_training_weights = grid_search_max(validater, parameters)\n",
    "        optimal_parameters.append(optimal_reg_parameter)\n",
    "        validation_results.append(validation_accuracy)\n",
    "        optimised_weights.append(best_training_weights)\n",
    "    return np.mean(optimal_parameters), np.mean(validation_results), optimised_weights[np.argmax(validation_results)]"
   ]
  },
  {
   "cell_type": "code",
   "execution_count": 85,
   "metadata": {},
   "outputs": [
    {
     "name": "stdout",
     "output_type": "stream",
     "text": [
      "parameter = 1000000\n",
      "Iteration 200/1600, objective = 10772.418388101263.\n",
      "Iteration 400/1600, objective = 10062.77740886525.\n",
      "Iteration 600/1600, objective = 9768.32150403048.\n",
      "Iteration 800/1600, objective = 9609.434707078017.\n",
      "Iteration 1000/1600, objective = 9514.029636660107.\n",
      "Iteration 1200/1600, objective = 9453.137592013136.\n",
      "Iteration 1400/1600, objective = 9412.682981556316.\n",
      "Iteration 1600/1600, objective = 9385.024544636048.\n",
      "Iteration completed after 1600/1600, objective = 9385.024544636048.\n",
      "parameter = 1000000\n",
      "Iteration 200/1600, objective = 10868.15499892306.\n",
      "Iteration 400/1600, objective = 10151.798955527389.\n",
      "Iteration 600/1600, objective = 9850.97529260133.\n",
      "Iteration 800/1600, objective = 9688.744807592419.\n",
      "Iteration 1000/1600, objective = 9591.392991051998.\n",
      "Iteration 1200/1600, objective = 9529.260526913002.\n",
      "Iteration 1400/1600, objective = 9487.960371683166.\n",
      "Iteration 1600/1600, objective = 9459.698552523496.\n",
      "Iteration completed after 1600/1600, objective = 9459.698552523496.\n",
      "parameter = 1000000\n",
      "Iteration 200/1600, objective = 10651.327137733668.\n",
      "Iteration 400/1600, objective = 9931.66625757952.\n",
      "Iteration 600/1600, objective = 9626.127357148136.\n",
      "Iteration 800/1600, objective = 9460.69244659617.\n",
      "Iteration 1000/1600, objective = 9361.081009700658.\n",
      "Iteration 1200/1600, objective = 9297.355837226778.\n",
      "Iteration 1400/1600, objective = 9254.929459314131.\n",
      "Iteration 1600/1600, objective = 9225.864741044617.\n",
      "Iteration completed after 1600/1600, objective = 9225.864741044617.\n",
      "parameter = 1000000\n",
      "Iteration 200/1600, objective = 10868.906038134215.\n",
      "Iteration 400/1600, objective = 10150.152564214444.\n",
      "Iteration 600/1600, objective = 9845.578589220295.\n",
      "Iteration 800/1600, objective = 9680.636994953133.\n",
      "Iteration 1000/1600, objective = 9581.229534578039.\n",
      "Iteration 1200/1600, objective = 9517.537382231083.\n",
      "Iteration 1400/1600, objective = 9475.058555362768.\n",
      "Iteration 1600/1600, objective = 9445.908398951024.\n",
      "Iteration completed after 1600/1600, objective = 9445.908398951024.\n"
     ]
    }
   ],
   "source": [
    "# Grid search with ridge logistic regression to optimise weights with chosen regularisation parameter using 4 fold cross validation\n",
    "reg_ridge_parameter = [1000000]\n",
    "K = 4\n",
    "_, best_ridge_accuracy, best_ridge_weights = cross_validation_ridge(training_data_inputs, training_data_outputs, training_data_labels, reg_ridge_parameter, K)"
   ]
  },
  {
   "cell_type": "code",
   "execution_count": 262,
   "metadata": {},
   "outputs": [
    {
     "name": "stdout",
     "output_type": "stream",
     "text": [
      "Best accuracy returned on validation sets: 0.919125\n"
     ]
    }
   ],
   "source": [
    "print(\"Best accuracy returned on validation sets: {}\".format(best_ridge_accuracy))\n"
   ]
  },
  {
   "cell_type": "code",
   "execution_count": 259,
   "metadata": {},
   "outputs": [
    {
     "name": "stdout",
     "output_type": "stream",
     "text": [
      "Iteration 200/1600, objective = 12569.892291426184.\n",
      "Iteration 400/1600, objective = 12469.11115478467.\n",
      "Iteration 600/1600, objective = 12408.216068684404.\n",
      "Iteration 800/1600, objective = 12367.77655089675.\n",
      "Iteration 1000/1600, objective = 12339.494845940213.\n",
      "Iteration 1200/1600, objective = 12319.03688735212.\n",
      "Iteration 1400/1600, objective = 12303.87879554552.\n",
      "Iteration 1600/1600, objective = 12292.443299370763.\n",
      "Iteration completed after 1600/1600, objective = 12292.443299370763.\n"
     ]
    }
   ],
   "source": [
    "# Tune weights by applying best weights to whole training dataset\n",
    "\n",
    "def tune_validate_ridge_regression(training_samples, test_samples, regularisation_parameter):\n",
    "    training_matrix = polynomial_basis(training_samples[0], 2)\n",
    "    \n",
    "    objective = lambda weightmatrix_: ridge_logistic_regression_cost_function(training_matrix, weightmatrix_, training_samples[1], regularisation_parameter)\n",
    "    gradient = lambda weightmatrix_:  ridge_logistic_regression_gradient(training_matrix, weightmatrix_, training_samples[1], regularisation_parameter)\n",
    "    \n",
    "    initial_weight_matrix = best_ridge_weights.copy()\n",
    "    optimal_weight_matrix, objective_values = gradient_descent(objective, gradient, initial_weight_matrix, \\\n",
    "                                    step_size=50/np.linalg.norm(training_matrix.T @ training_matrix + \\\n",
    "                                    regularisation_parameter * np.eye(training_matrix.shape[1]), 2), \\\n",
    "                                    no_of_iterations=1600, print_output=200)\n",
    "                                                               \n",
    "    test_matrix = polynomial_basis(test_samples[0], 2)\n",
    "    \n",
    "    #test_digits_accuracy, test_confusion_data = classification_accuracy_multinomal(test_samples[1], multinomial_prediction_function(test_matrix, optimal_weight_matrix))\n",
    "    test_accuracy = classification_accuracy(test_samples[1], multinomial_prediction_function(test_matrix, optimal_weight_matrix))\n",
    "\n",
    "    return test_accuracy, optimal_weight_matrix\n",
    "\n",
    "# Run best weights on whole training set calculating accuracy on test set\n",
    "tuned_ridge_accuracy, tuned_ridge_weights = tune_validate_ridge_regression(all_training_data, all_test_data, 1000000)"
   ]
  },
  {
   "cell_type": "code",
   "execution_count": 260,
   "metadata": {},
   "outputs": [
    {
     "name": "stdout",
     "output_type": "stream",
     "text": [
      "Accuracy on whole test dataset: 0.9238333333333333\n",
      "Accuracy breakdown on each digit in test dataset: [97.76536313 97.5975976  89.86486486 90.88785047 93.14381271 86.28519528\n",
      " 95.47008547 93.14741036 89.18692372 90.09083402]\n"
     ]
    },
    {
     "data": {
      "text/plain": [
       "Text(0.5, 15.0, 'Predicted digit')"
      ]
     },
     "execution_count": 260,
     "metadata": {},
     "output_type": "execute_result"
    },
    {
     "data": {
      "image/png": "[encoded data removed]",
      "text/plain": [
       "<Figure size 432x288 with 2 Axes>"
      ]
     },
     "metadata": {
      "needs_background": "light"
     },
     "output_type": "display_data"
    }
   ],
   "source": [
    "# Apply best result to unseen test data\n",
    "test_ridge_data_matrix = polynomial_basis(test_data_inputs, 2)\n",
    "\n",
    "# Compare accuracy returned on all digits and confusion matrix breakdoen on each digit\n",
    "test_ridge_accuracy_digits, test_ridge_confusion_data = classification_accuracy_multinomal(test_data_labels, multinomial_prediction_function(test_ridge_data_matrix, tuned_ridge_weights))\n",
    "test_ridge_accuracy_total = classification_accuracy(test_data_labels, multinomial_prediction_function(test_ridge_data_matrix, tuned_ridge_weights))\n",
    "\n",
    "print(\"Accuracy on whole test dataset: {}\".format(test_ridge_accuracy_total))\n",
    "print(\"Accuracy breakdown on each digit in test dataset: {}\".format(test_ridge_accuracy_digits))\n",
    "sns.heatmap(test_ridge_confusion_data, annot = True, fmt=\"d\", cmap=\"coolwarm\")\n",
    "plt.title('Digit Confusion Matrix', fontsize = 16)\n",
    "plt.ylabel('Real digit', fontsize =14)\n",
    "plt.xlabel('Predicted digit', fontsize =14)"
   ]
  },
  {
   "cell_type": "code",
   "execution_count": 261,
   "metadata": {},
   "outputs": [],
   "source": [
    "#np.savetxt('best_ridge_weights.csv', tuned_ridge_weights, delimiter=',')"
   ]
  },
  {
   "cell_type": "code",
   "execution_count": 104,
   "metadata": {},
   "outputs": [
    {
     "name": "stdout",
     "output_type": "stream",
     "text": [
      "Condition number of normalised training data matrix: 2958922547.287368\n",
      "Condition number of normalised training data matrix with regularisation: 573.3800258687215\n"
     ]
    }
   ],
   "source": [
    "# Compute condition number of normalised training data matrix based on singular values\n",
    "normal_training_data_matrix = polynomial_basis(normal_training_data_inputs, 2)\n",
    "\n",
    "eigenvalues_norm, eigenvectors_norm = np.linalg.eig(normal_training_data_matrix.T @ normal_training_data_matrix)\n",
    "\n",
    "sorted_eigenvalues_norm = np.sort(eigenvalues_norm)\n",
    "matrix_condition_no_norm = np.sqrt(np.abs(sorted_eigenvalues_norm[-1])) / np.sqrt(np.abs(sorted_eigenvalues_norm[0]))\n",
    "\n",
    "print(\"Condition number of normalised training data matrix: {}\".format(matrix_condition_no_norm))\n",
    "\n",
    "# Choose example regularisation parameter to see effect on condition number\n",
    "regularisation_parameter = 10\n",
    "eigenvalues_reg_norm, eigenvectors_reg_norm = np.linalg.eig(normal_training_data_matrix.T @ normal_training_data_matrix + regularisation_parameter * np.eye(normal_training_data_matrix.shape[1]))\n",
    "\n",
    "sorted_eigenvalues_reg_norm = np.sort(eigenvalues_reg_norm)\n",
    "matrix_condition_no_reg_norm = np.sqrt(np.abs(sorted_eigenvalues_reg_norm[-1])) / np.sqrt(np.abs(sorted_eigenvalues_reg_norm[0]))\n",
    "\n",
    "print(\"Condition number of normalised training data matrix with regularisation: {}\".format(matrix_condition_no_reg_norm))"
   ]
  },
  {
   "cell_type": "code",
   "execution_count": 105,
   "metadata": {},
   "outputs": [
    {
     "name": "stdout",
     "output_type": "stream",
     "text": [
      "parameter = 10\n",
      "Iteration 200/1600, objective = 11096.400071913187.\n",
      "Iteration 400/1600, objective = 10364.825147410234.\n",
      "Iteration 600/1600, objective = 10012.596533493244.\n",
      "Iteration 800/1600, objective = 9791.803143599087.\n",
      "Iteration 1000/1600, objective = 9636.74165956818.\n",
      "Iteration 1200/1600, objective = 9520.757478591902.\n",
      "Iteration 1400/1600, objective = 9430.486442027355.\n",
      "Iteration 1600/1600, objective = 9358.30045565812.\n",
      "Iteration completed after 1600/1600, objective = 9358.30045565812.\n",
      "parameter = 10\n",
      "Iteration 200/1600, objective = 11229.314865021492.\n",
      "Iteration 400/1600, objective = 10490.625045549592.\n",
      "Iteration 600/1600, objective = 10134.388587595715.\n",
      "Iteration 800/1600, objective = 9910.85484444727.\n",
      "Iteration 1000/1600, objective = 9753.533856496664.\n",
      "Iteration 1200/1600, objective = 9635.531904141602.\n",
      "Iteration 1400/1600, objective = 9543.4132284622.\n",
      "Iteration 1600/1600, objective = 9469.52625848641.\n",
      "Iteration completed after 1600/1600, objective = 9469.52625848641.\n",
      "parameter = 10\n",
      "Iteration 200/1600, objective = 11012.38070609807.\n",
      "Iteration 400/1600, objective = 10274.122788984994.\n",
      "Iteration 600/1600, objective = 9919.652846272049.\n",
      "Iteration 800/1600, objective = 9697.935546451961.\n",
      "Iteration 1000/1600, objective = 9542.292809644907.\n",
      "Iteration 1200/1600, objective = 9425.76788936944.\n",
      "Iteration 1400/1600, objective = 9334.91136790484.\n",
      "Iteration 1600/1600, objective = 9262.084586085904.\n",
      "Iteration completed after 1600/1600, objective = 9262.084586085904.\n",
      "parameter = 10\n",
      "Iteration 200/1600, objective = 11218.548444578813.\n",
      "Iteration 400/1600, objective = 10474.248270404152.\n",
      "Iteration 600/1600, objective = 10116.162590117108.\n",
      "Iteration 800/1600, objective = 9891.669537891348.\n",
      "Iteration 1000/1600, objective = 9733.843022996021.\n",
      "Iteration 1200/1600, objective = 9615.595970588967.\n",
      "Iteration 1400/1600, objective = 9523.382392412259.\n",
      "Iteration 1600/1600, objective = 9449.488355377158.\n",
      "Iteration completed after 1600/1600, objective = 9449.488355377158.\n"
     ]
    }
   ],
   "source": [
    "# Compare performance with normalised data so pixel values lie 0-1 rather than 0-255\n",
    "reg_ridge_parameter = [10]\n",
    "K = 4\n",
    "_, best_norm_ridge_accuracy, best_norm_ridge_weights = cross_validation_ridge(normal_training_data_inputs, training_data_outputs, training_data_labels, reg_ridge_parameter, K)"
   ]
  },
  {
   "cell_type": "code",
   "execution_count": 271,
   "metadata": {},
   "outputs": [
    {
     "name": "stdout",
     "output_type": "stream",
     "text": [
      "Best accuracy returned on validation sets: 0.9206666666666666\n"
     ]
    }
   ],
   "source": [
    "print(\"Best accuracy returned on validation sets: {}\".format(best_norm_ridge_accuracy))\n"
   ]
  },
  {
   "cell_type": "code",
   "execution_count": 270,
   "metadata": {},
   "outputs": [
    {
     "name": "stdout",
     "output_type": "stream",
     "text": [
      "Iteration 200/1600, objective = 12605.615044522014.\n",
      "Iteration 400/1600, objective = 12493.877403408069.\n",
      "Iteration 600/1600, objective = 12409.453692243747.\n",
      "Iteration 800/1600, objective = 12340.92858386197.\n",
      "Iteration 1000/1600, objective = 12283.514610118838.\n",
      "Iteration 1200/1600, objective = 12234.528951570994.\n",
      "Iteration 1400/1600, objective = 12192.228807897582.\n",
      "Iteration 1600/1600, objective = 12155.38182946337.\n",
      "Iteration completed after 1600/1600, objective = 12155.38182946337.\n"
     ]
    }
   ],
   "source": [
    "# Tune weights by applying best weights to whole training dataset\n",
    "\n",
    "def tune_validate_ridge_regression_norm(training_samples, test_samples, regularisation_parameter):\n",
    "    training_matrix = polynomial_basis(training_samples[0], 2)\n",
    "    \n",
    "    objective = lambda weightmatrix_: ridge_logistic_regression_cost_function(training_matrix, weightmatrix_, training_samples[1], regularisation_parameter)\n",
    "    gradient = lambda weightmatrix_:  ridge_logistic_regression_gradient(training_matrix, weightmatrix_, training_samples[1], regularisation_parameter)\n",
    "    \n",
    "    initial_weight_matrix = best_norm_ridge_weights.copy()\n",
    "    optimal_weight_matrix, objective_values = gradient_descent(objective, gradient, initial_weight_matrix, \\\n",
    "                                    step_size=50/np.linalg.norm(training_matrix.T @ training_matrix + \\\n",
    "                                    regularisation_parameter * np.eye(training_matrix.shape[1]), 2), \\\n",
    "                                    no_of_iterations=1600, print_output=200)\n",
    "                                                               \n",
    "    test_matrix = polynomial_basis(test_samples[0], 2)\n",
    "    \n",
    "    #test_digits_accuracy, test_confusion_data = classification_accuracy_multinomal(test_samples[1], multinomial_prediction_function(test_matrix, optimal_weight_matrix))\n",
    "    test_accuracy = classification_accuracy(test_samples[1], multinomial_prediction_function(test_matrix, optimal_weight_matrix))\n",
    "\n",
    "    return test_accuracy, optimal_weight_matrix\n",
    "\n",
    "# Run best weights on whole training set calculating accuracy on test set\n",
    "tuned_norm_ridge_accuracy, tuned_norm_ridge_weights = tune_validate_ridge_regression_norm(all_norm_training_data, all_norm_test_data, 10)"
   ]
  },
  {
   "cell_type": "code",
   "execution_count": 272,
   "metadata": {},
   "outputs": [
    {
     "name": "stdout",
     "output_type": "stream",
     "text": [
      "Accuracy on whole test dataset: 0.9258333333333333\n",
      "Accuracy breakdown on each digit in test dataset: [97.95158287 97.82282282 89.10472973 90.34267913 93.56187291 87.6475931\n",
      " 95.47008547 93.30677291 90.19279128 90.1734104 ]\n"
     ]
    },
    {
     "data": {
      "text/plain": [
       "Text(0.5, 15.0, 'Predicted digit')"
      ]
     },
     "execution_count": 272,
     "metadata": {},
     "output_type": "execute_result"
    },
    {
     "data": {
      "image/png": "[encoded data removed]",
      "text/plain": [
       "<Figure size 432x288 with 2 Axes>"
      ]
     },
     "metadata": {
      "needs_background": "light"
     },
     "output_type": "display_data"
    }
   ],
   "source": [
    "# Apply best result to unseen test data\n",
    "test_norm_ridge_data_matrix = polynomial_basis(normal_test_data_inputs, 2)\n",
    "\n",
    "# Compare accuracy returned on all digits and confusion matrix breakdoen on each digit\n",
    "test_norm_ridge_accuracy_digits, test_norm_ridge_confusion_data = classification_accuracy_multinomal(test_data_labels, multinomial_prediction_function(test_norm_ridge_data_matrix, tuned_norm_ridge_weights))\n",
    "test_norm_ridge_accuracy_total = classification_accuracy(test_data_labels, multinomial_prediction_function(test_norm_ridge_data_matrix, tuned_norm_ridge_weights))\n",
    "\n",
    "print(\"Accuracy on whole test dataset: {}\".format(test_norm_ridge_accuracy_total))\n",
    "print(\"Accuracy breakdown on each digit in test dataset: {}\".format(test_norm_ridge_accuracy_digits))\n",
    "sns.heatmap(test_norm_ridge_confusion_data, annot = True, fmt=\"d\", cmap=\"coolwarm\")\n",
    "plt.title('Digit Confusion Matrix', fontsize = 16)\n",
    "plt.ylabel('Real digit', fontsize =14)\n",
    "plt.xlabel('Predicted digit', fontsize =14)"
   ]
  },
  {
   "cell_type": "code",
   "execution_count": 273,
   "metadata": {},
   "outputs": [],
   "source": [
    "#np.savetxt('best_norm_ridge_weights.csv', tuned_norm_ridge_weights, delimiter=',')"
   ]
  },
  {
   "cell_type": "markdown",
   "metadata": {},
   "source": [
    "# 3. LASSO-Type Logistic Regression"
   ]
  },
  {
   "cell_type": "code",
   "execution_count": 108,
   "metadata": {},
   "outputs": [],
   "source": [
    "# Functions for LASSO-type logistic regression using degree = 2\n",
    "\n",
    "def validate_lasso_regression(training_samples, test_samples, regularisation_parameter):\n",
    "    \n",
    "    training_matrix = polynomial_basis(training_samples[0], 2)\n",
    "    \n",
    "    objective = lambda weightmatrix_: lasso_logistic_regression_cost_function(training_matrix, weightmatrix_, training_samples[1], \\\n",
    "                                                regularisation_parameter)\n",
    "    gradient = lambda weightmatrix_: multinomial_logistic_regression_gradient(training_matrix, weightmatrix_, training_samples[1])\n",
    "    proximal_map = lambda weightmatrix_: soft_thresholding(weightmatrix_, regularisation_parameter * \\\n",
    "                                                 step_size)\n",
    "    \n",
    "    initial_weight_matrix = np.zeros((training_matrix.shape[1], training_samples[1].shape[1]))\n",
    "    optimal_weight_matrix, objective_values = proximal_gradient_descent(objective, gradient, proximal_map, \\\n",
    "                                                initial_weight_matrix, \\\n",
    "                                                step_size=50/(np.linalg.norm(training_matrix, 2) ** 2), \\\n",
    "                                                no_of_iterations=2000, print_output=100)\n",
    "                                                               \n",
    "    test_matrix = polynomial_basis(test_samples[0], 2)\n",
    "    \n",
    "    #test_digits_accuracy, test_confusion_data = classification_accuracy_multinomal(test_samples[1], multinomial_prediction_function(test_matrix, optimal_weight_matrix))\n",
    "    test_accuracy = classification_accuracy(test_samples[1], multinomial_prediction_function(test_matrix, optimal_weight_matrix))\n",
    "\n",
    "    return test_accuracy, optimal_weight_matrix\n",
    "\n",
    "def cross_validation_lasso(training_inputs, training_outputs, training_labels, parameters, K):\n",
    "    no_training_samples = len(training_inputs)\n",
    "    \n",
    "    random_indices = np.random.permutation(no_training_samples)\n",
    "    \n",
    "    foldSize = int(no_training_samples/K) \n",
    "    \n",
    "    optimal_parameters = []\n",
    "    validation_results = []\n",
    "    optimised_weights = []\n",
    "    \n",
    "    for i in range(0, no_training_samples, foldSize):        \n",
    "        \n",
    "        val_fold_inputs = training_inputs[i:i + foldSize]\n",
    "        val_fold_labels = training_labels[i:i + foldSize]\n",
    "        training_folds_inputs = np.concatenate((training_inputs[0:i], training_inputs[i + foldSize:]), axis = 0)\n",
    "        training_folds_outputs = np.concatenate((training_outputs[0:i], training_outputs[i + foldSize:]), axis = 0)\n",
    "\n",
    "        training_data = [training_folds_inputs, training_folds_outputs]\n",
    "        val_data = [val_fold_inputs, val_fold_labels]\n",
    "        \n",
    "        validater = lambda reg_parameter: validate_lasso_regression(training_data, val_data, reg_parameter)\n",
    "        optimal_reg_parameter, validation_accuracy, best_training_weights = grid_search_max(validater, parameters)\n",
    "        optimal_parameters.append(optimal_reg_parameter)\n",
    "        validation_results.append(validation_accuracy)\n",
    "        optimised_weights.append(best_training_weights)\n",
    "    return np.mean(optimal_parameters), np.mean(validation_results), optimised_weights[np.argmax(validation_results)]"
   ]
  },
  {
   "cell_type": "code",
   "execution_count": 115,
   "metadata": {},
   "outputs": [
    {
     "name": "stdout",
     "output_type": "stream",
     "text": [
      "parameter = 5e-05\n",
      "Iteration 100/2000, objective = 11395.577502915938.\n",
      "Iteration 200/2000, objective = 10133.134045597006.\n",
      "Iteration 300/2000, objective = 9547.976184845507.\n",
      "Iteration 400/2000, objective = 9164.016485552786.\n",
      "Iteration 500/2000, objective = 8881.006593349375.\n",
      "Iteration 600/2000, objective = 8658.41977208857.\n",
      "Iteration 700/2000, objective = 8476.052543270887.\n",
      "Iteration 800/2000, objective = 8322.40087152837.\n",
      "Iteration 900/2000, objective = 8189.978280661052.\n",
      "Iteration 1000/2000, objective = 8073.924334836147.\n",
      "Iteration 1100/2000, objective = 7970.929160788155.\n",
      "Iteration 1200/2000, objective = 7878.44783087555.\n",
      "Iteration 1300/2000, objective = 7794.71122552526.\n",
      "Iteration 1400/2000, objective = 7718.345874964929.\n",
      "Iteration 1500/2000, objective = 7648.313471758548.\n",
      "Iteration 1600/2000, objective = 7583.723988320036.\n",
      "Iteration 1700/2000, objective = 7523.86038488819.\n",
      "Iteration 1800/2000, objective = 7468.1438657974495.\n",
      "Iteration 1900/2000, objective = 7416.08783831487.\n",
      "Iteration 2000/2000, objective = 7367.250906398587.\n",
      "Iteration completed after 2000/2000, objective = 7367.250906398587.\n",
      "parameter = 5e-05\n",
      "Iteration 100/2000, objective = 11529.1393874919.\n",
      "Iteration 200/2000, objective = 10241.081762003438.\n",
      "Iteration 300/2000, objective = 9646.953137056329.\n",
      "Iteration 400/2000, objective = 9256.044223500507.\n",
      "Iteration 500/2000, objective = 8967.849385426218.\n",
      "Iteration 600/2000, objective = 8741.31619375593.\n",
      "Iteration 700/2000, objective = 8555.72630526562.\n",
      "Iteration 800/2000, objective = 8399.163962558132.\n",
      "Iteration 900/2000, objective = 8264.251854921817.\n",
      "Iteration 1000/2000, objective = 8146.055842580704.\n",
      "Iteration 1100/2000, objective = 8041.25966800088.\n",
      "Iteration 1200/2000, objective = 7947.320726884542.\n",
      "Iteration 1300/2000, objective = 7862.364469689408.\n",
      "Iteration 1400/2000, objective = 7784.985660717868.\n",
      "Iteration 1500/2000, objective = 7714.067794451726.\n",
      "Iteration 1600/2000, objective = 7648.669506624576.\n",
      "Iteration 1700/2000, objective = 7588.051833324016.\n",
      "Iteration 1800/2000, objective = 7531.630625551758.\n",
      "Iteration 1900/2000, objective = 7478.9346346038255.\n",
      "Iteration 2000/2000, objective = 7429.5260898839915.\n",
      "Iteration completed after 2000/2000, objective = 7429.5260898839915.\n",
      "parameter = 5e-05\n",
      "Iteration 100/2000, objective = 11404.094156309186.\n",
      "Iteration 200/2000, objective = 10033.850360188784.\n",
      "Iteration 300/2000, objective = 9437.142557533885.\n",
      "Iteration 400/2000, objective = 9043.220722718646.\n",
      "Iteration 500/2000, objective = 8752.531746870909.\n",
      "Iteration 600/2000, objective = 8523.783825621533.\n",
      "Iteration 700/2000, objective = 8336.070142316676.\n",
      "Iteration 800/2000, objective = 8177.511452210741.\n",
      "Iteration 900/2000, objective = 8040.757084499048.\n",
      "Iteration 1000/2000, objective = 7920.891971576699.\n",
      "Iteration 1100/2000, objective = 7814.423920644554.\n",
      "Iteration 1200/2000, objective = 7718.943355467976.\n",
      "Iteration 1300/2000, objective = 7632.498256952155.\n",
      "Iteration 1400/2000, objective = 7553.642470629897.\n",
      "Iteration 1500/2000, objective = 7481.3237580802925.\n",
      "Iteration 1600/2000, objective = 7414.561957622067.\n",
      "Iteration 1700/2000, objective = 7352.637986940069.\n",
      "Iteration 1800/2000, objective = 7294.969153135477.\n",
      "Iteration 1900/2000, objective = 7241.055279314203.\n",
      "Iteration 2000/2000, objective = 7190.475596645094.\n",
      "Iteration completed after 2000/2000, objective = 7190.475596645094.\n",
      "parameter = 5e-05\n",
      "Iteration 100/2000, objective = 11627.244110744845.\n",
      "Iteration 200/2000, objective = 10239.21115848699.\n",
      "Iteration 300/2000, objective = 9644.155840411076.\n",
      "Iteration 400/2000, objective = 9251.668942943383.\n",
      "Iteration 500/2000, objective = 8962.155756627712.\n",
      "Iteration 600/2000, objective = 8734.440814859296.\n",
      "Iteration 700/2000, objective = 8547.685737106576.\n",
      "Iteration 800/2000, objective = 8390.05566346247.\n",
      "Iteration 900/2000, objective = 8254.11704152412.\n",
      "Iteration 1000/2000, objective = 8134.991224267896.\n",
      "Iteration 1100/2000, objective = 8029.208793458187.\n",
      "Iteration 1200/2000, objective = 7934.322213920835.\n",
      "Iteration 1300/2000, objective = 7848.416961263962.\n",
      "Iteration 1400/2000, objective = 7770.106812473997.\n",
      "Iteration 1500/2000, objective = 7698.218673329961.\n",
      "Iteration 1600/2000, objective = 7631.858119396691.\n",
      "Iteration 1700/2000, objective = 7570.2837393205755.\n",
      "Iteration 1800/2000, objective = 7512.944215229767.\n",
      "Iteration 1900/2000, objective = 7459.345210070994.\n",
      "Iteration 2000/2000, objective = 7409.088872895533.\n",
      "Iteration completed after 2000/2000, objective = 7409.088872895533.\n"
     ]
    }
   ],
   "source": [
    "# LASSO-type logistic regression with 4 fold cross validation on training set with regularisation parameter = 0.00005\n",
    "lasso_reg_parameter = [0.00005]\n",
    "K = 4\n",
    "_, best_lasso_accuracy, best_lasso_weights = cross_validation_lasso(training_data_inputs, training_data_outputs, training_data_labels, lasso_reg_parameter, K)"
   ]
  },
  {
   "cell_type": "code",
   "execution_count": 276,
   "metadata": {},
   "outputs": [
    {
     "name": "stdout",
     "output_type": "stream",
     "text": [
      "Best accuracy returned on validation sets: 0.9197083333333333\n"
     ]
    }
   ],
   "source": [
    "print(\"Best accuracy returned on validation sets: {}\".format(best_lasso_accuracy))\n"
   ]
  },
  {
   "cell_type": "code",
   "execution_count": 275,
   "metadata": {},
   "outputs": [
    {
     "name": "stdout",
     "output_type": "stream",
     "text": [
      "Iteration 100/2000, objective = 10611.124154275496.\n",
      "Iteration 200/2000, objective = 10505.979894424023.\n",
      "Iteration 300/2000, objective = 10423.189632052656.\n",
      "Iteration 400/2000, objective = 10353.404487892825.\n",
      "Iteration 500/2000, objective = 10292.453445702935.\n",
      "Iteration 600/2000, objective = 10238.07500913525.\n",
      "Iteration 700/2000, objective = 10188.78761506845.\n",
      "Iteration 800/2000, objective = 10143.599004904543.\n",
      "Iteration 900/2000, objective = 10101.786798370113.\n",
      "Iteration 1000/2000, objective = 10062.826184160605.\n",
      "Iteration 1100/2000, objective = 10026.321238554878.\n",
      "Iteration 1200/2000, objective = 9991.948740815138.\n",
      "Iteration 1300/2000, objective = 9959.440036411856.\n",
      "Iteration 1400/2000, objective = 9928.576028736.\n",
      "Iteration 1500/2000, objective = 9899.21892186979.\n",
      "Iteration 1600/2000, objective = 9871.218073233807.\n",
      "Iteration 1700/2000, objective = 9844.440913939332.\n",
      "Iteration 1800/2000, objective = 9818.784620457898.\n",
      "Iteration 1900/2000, objective = 9794.150757855923.\n",
      "Iteration 2000/2000, objective = 9770.458217674472.\n",
      "Iteration completed after 2000/2000, objective = 9770.458217674472.\n"
     ]
    }
   ],
   "source": [
    "# Tune weights by applying to whole training set\n",
    "\n",
    "def tune_validate_lasso_regression(training_samples, test_samples, regularisation_parameter):\n",
    "    \n",
    "    training_matrix = polynomial_basis(training_samples[0], 2)\n",
    "    \n",
    "    objective = lambda weightmatrix_: lasso_logistic_regression_cost_function(training_matrix, weightmatrix_, training_samples[1], \\\n",
    "                                                regularisation_parameter)\n",
    "    gradient = lambda weightmatrix_: multinomial_logistic_regression_gradient(training_matrix, weightmatrix_, training_samples[1])\n",
    "    proximal_map = lambda weightmatrix_: soft_thresholding(weightmatrix_, regularisation_parameter * \\\n",
    "                                                 step_size)\n",
    "    \n",
    "    initial_weight_matrix = best_lasso_weights.copy()\n",
    "    optimal_weight_matrix, objective_values = proximal_gradient_descent(objective, gradient, proximal_map, \\\n",
    "                                                initial_weight_matrix, \\\n",
    "                                                step_size=50/(np.linalg.norm(training_matrix, 2) ** 2), \\\n",
    "                                                no_of_iterations=2000, print_output=100)\n",
    "                                                               \n",
    "    test_matrix = polynomial_basis(test_samples[0], 2)\n",
    "    \n",
    "    #test_digits_accuracy, test_confusion_data = classification_accuracy_multinomal(test_samples[1], multinomial_prediction_function(test_matrix, optimal_weight_matrix))\n",
    "    test_accuracy = classification_accuracy(test_samples[1], multinomial_prediction_function(test_matrix, optimal_weight_matrix))\n",
    "\n",
    "    return test_accuracy, optimal_weight_matrix\n",
    "\n",
    "# Run best weights on whole training set calculating accuracy on test set\n",
    "tuned_lasso_accuracy, tuned_lasso_weights = tune_validate_lasso_regression(all_training_data, all_test_data, 0.00005)"
   ]
  },
  {
   "cell_type": "code",
   "execution_count": 331,
   "metadata": {},
   "outputs": [
    {
     "name": "stdout",
     "output_type": "stream",
     "text": [
      "Accuracy on whole test dataset: 0.9248333333333333\n",
      "Accuracy breakdown on each digit in test dataset: [97.67225326 97.74774775 89.86486486 90.88785047 92.72575251 86.46684832\n",
      " 95.64102564 93.38645418 89.60603521 90.42113955]\n"
     ]
    },
    {
     "data": {
      "text/plain": [
       "Text(0.5, 15.0, 'Predicted digit')"
      ]
     },
     "execution_count": 331,
     "metadata": {},
     "output_type": "execute_result"
    },
    {
     "data": {
      "image/png": "[encoded data removed]",
      "text/plain": [
       "<Figure size 432x288 with 2 Axes>"
      ]
     },
     "metadata": {
      "needs_background": "light"
     },
     "output_type": "display_data"
    }
   ],
   "source": [
    "# Apply best result to unseen test data\n",
    "test_lasso_data_matrix = polynomial_basis(test_data_inputs, 2)\n",
    "\n",
    "# Compare accuracy returned on all digits and confusion matrix breakdoen on each digit\n",
    "test_lasso_accuracy_digits, test_lasso_confusion_data = classification_accuracy_multinomal(test_data_labels, multinomial_prediction_function(test_lasso_data_matrix, tuned_lasso_weights))\n",
    "test_lasso_accuracy_total = classification_accuracy(test_data_labels, multinomial_prediction_function(test_lasso_data_matrix, tuned_lasso_weights))\n",
    "\n",
    "print(\"Accuracy on whole test dataset: {}\".format(test_lasso_accuracy_total))\n",
    "print(\"Accuracy breakdown on each digit in test dataset: {}\".format(test_lasso_accuracy_digits))\n",
    "sns.heatmap(test_lasso_confusion_data, annot = True, fmt=\"d\", cmap=\"coolwarm\")\n",
    "plt.title('Digit Confusion Matrix', fontsize = 16)\n",
    "plt.ylabel('Real digit', fontsize =14)\n",
    "plt.xlabel('Predicted digit', fontsize =14)"
   ]
  },
  {
   "cell_type": "code",
   "execution_count": 319,
   "metadata": {},
   "outputs": [
    {
     "name": "stdout",
     "output_type": "stream",
     "text": [
      "parameter = 5e-05\n",
      "Iteration 100/2000, objective = 11908.027173921528.\n",
      "Iteration 200/2000, objective = 10802.726152376092.\n",
      "Iteration 300/2000, objective = 10286.827198055975.\n",
      "Iteration 400/2000, objective = 9948.162838274093.\n",
      "Iteration 500/2000, objective = 9696.72569889835.\n",
      "Iteration 600/2000, objective = 9496.604042712814.\n",
      "Iteration 700/2000, objective = 9330.1125532231.\n",
      "Iteration 800/2000, objective = 9187.307305410905.\n",
      "Iteration 900/2000, objective = 9062.064828433486.\n",
      "Iteration 1000/2000, objective = 8950.355995913795.\n",
      "Iteration 1100/2000, objective = 8849.39367410622.\n",
      "Iteration 1200/2000, objective = 8757.173117532195.\n",
      "Iteration 1300/2000, objective = 8672.205388663637.\n",
      "Iteration 1400/2000, objective = 8593.356145540265.\n",
      "Iteration 1500/2000, objective = 8519.74114351186.\n",
      "Iteration 1600/2000, objective = 8450.658861298933.\n",
      "Iteration 1700/2000, objective = 8385.542616818779.\n",
      "Iteration 1800/2000, objective = 8323.928119904669.\n",
      "Iteration 1900/2000, objective = 8265.430845081668.\n",
      "Iteration 2000/2000, objective = 8209.728418043213.\n",
      "Iteration completed after 2000/2000, objective = 8209.728418043213.\n",
      "parameter = 5e-05\n",
      "Iteration 100/2000, objective = 12067.203076511056.\n",
      "Iteration 200/2000, objective = 10938.001660361128.\n",
      "Iteration 300/2000, objective = 10417.945749745408.\n",
      "Iteration 400/2000, objective = 10075.934964162292.\n",
      "Iteration 500/2000, objective = 9821.931867063597.\n",
      "Iteration 600/2000, objective = 9619.745340818457.\n",
      "Iteration 700/2000, objective = 9451.487719516137.\n",
      "Iteration 800/2000, objective = 9307.092782912234.\n",
      "Iteration 900/2000, objective = 9180.365436695369.\n",
      "Iteration 1000/2000, objective = 9067.236794037572.\n",
      "Iteration 1100/2000, objective = 8964.897618697367.\n",
      "Iteration 1200/2000, objective = 8871.330819124209.\n",
      "Iteration 1300/2000, objective = 8785.040870327124.\n",
      "Iteration 1400/2000, objective = 8704.889482691753.\n",
      "Iteration 1500/2000, objective = 8629.990563015046.\n",
      "Iteration 1600/2000, objective = 8559.6404395052.\n",
      "Iteration 1700/2000, objective = 8493.272040472664.\n",
      "Iteration 1800/2000, objective = 8430.420255563378.\n",
      "Iteration 1900/2000, objective = 8370.700316947119.\n",
      "Iteration 2000/2000, objective = 8313.789372998739.\n",
      "Iteration completed after 2000/2000, objective = 8313.789372998739.\n",
      "parameter = 5e-05\n",
      "Iteration 100/2000, objective = 11768.300133297664.\n",
      "Iteration 200/2000, objective = 10723.97239407949.\n",
      "Iteration 300/2000, objective = 10204.85545435464.\n",
      "Iteration 400/2000, objective = 9864.42354483459.\n",
      "Iteration 500/2000, objective = 9612.174947406615.\n",
      "Iteration 600/2000, objective = 9411.783268448067.\n",
      "Iteration 700/2000, objective = 9245.317963682817.\n",
      "Iteration 800/2000, objective = 9102.692416804568.\n",
      "Iteration 900/2000, objective = 8977.69885737725.\n",
      "Iteration 1000/2000, objective = 8866.259390155885.\n",
      "Iteration 1100/2000, objective = 8765.557828517009.\n",
      "Iteration 1200/2000, objective = 8673.572470714573.\n",
      "Iteration 1300/2000, objective = 8588.806716138832.\n",
      "Iteration 1400/2000, objective = 8510.122192123898.\n",
      "Iteration 1500/2000, objective = 8436.633777530591.\n",
      "Iteration 1600/2000, objective = 8367.640322796275.\n",
      "Iteration 1700/2000, objective = 8302.577677562984.\n",
      "Iteration 1800/2000, objective = 8240.9844594389.\n",
      "Iteration 1900/2000, objective = 8182.4788706708305.\n",
      "Iteration 2000/2000, objective = 8126.741468805777.\n",
      "Iteration completed after 2000/2000, objective = 8126.741468805777.\n",
      "parameter = 5e-05\n",
      "Iteration 100/2000, objective = 12042.70445770001.\n",
      "Iteration 200/2000, objective = 10926.447272682604.\n",
      "Iteration 300/2000, objective = 10402.903992419515.\n",
      "Iteration 400/2000, objective = 10059.580039867342.\n",
      "Iteration 500/2000, objective = 9804.97817114247.\n",
      "Iteration 600/2000, objective = 9602.52168554566.\n",
      "Iteration 700/2000, objective = 9434.197164649153.\n",
      "Iteration 800/2000, objective = 9289.878925416026.\n",
      "Iteration 900/2000, objective = 9163.337278886498.\n",
      "Iteration 1000/2000, objective = 9050.478883642005.\n",
      "Iteration 1100/2000, objective = 8948.474914515415.\n",
      "Iteration 1200/2000, objective = 8855.293853396674.\n",
      "Iteration 1300/2000, objective = 8769.428310056801.\n",
      "Iteration 1400/2000, objective = 8689.731856419856.\n",
      "Iteration 1500/2000, objective = 8615.312612706208.\n",
      "Iteration 1600/2000, objective = 8545.463134104622.\n",
      "Iteration 1700/2000, objective = 8479.613263692292.\n",
      "Iteration 1800/2000, objective = 8417.296474268129.\n",
      "Iteration 1900/2000, objective = 8358.12645797043.\n",
      "Iteration 2000/2000, objective = 8301.779428113545.\n",
      "Iteration completed after 2000/2000, objective = 8301.779428113545.\n"
     ]
    }
   ],
   "source": [
    "# Repeat above test on normalised data inputs\n",
    "lasso_reg_parameter = [0.00005]\n",
    "K = 4\n",
    "_, best_lasso_norm_accuracy, best_lasso_norm_weights = cross_validation_lasso(normal_training_data_inputs, training_data_outputs, training_data_labels, lasso_reg_parameter, K)"
   ]
  },
  {
   "cell_type": "code",
   "execution_count": 320,
   "metadata": {},
   "outputs": [
    {
     "name": "stdout",
     "output_type": "stream",
     "text": [
      "Best accuracy returned on validation sets: 0.9217083333333334\n"
     ]
    }
   ],
   "source": [
    "print(\"Best accuracy returned on validation sets: {}\".format(best_lasso_norm_accuracy))"
   ]
  },
  {
   "cell_type": "code",
   "execution_count": 321,
   "metadata": {},
   "outputs": [
    {
     "name": "stdout",
     "output_type": "stream",
     "text": [
      "Iteration 100/2000, objective = 11467.682009301465.\n",
      "Iteration 200/2000, objective = 11370.893955377605.\n",
      "Iteration 300/2000, objective = 11290.335815002307.\n",
      "Iteration 400/2000, objective = 11218.577687230372.\n",
      "Iteration 500/2000, objective = 11152.725128405635.\n",
      "Iteration 600/2000, objective = 11091.278352959202.\n",
      "Iteration 700/2000, objective = 11033.336803668974.\n",
      "Iteration 800/2000, objective = 10978.307195446045.\n",
      "Iteration 900/2000, objective = 10925.77123925652.\n",
      "Iteration 1000/2000, objective = 10875.418266307563.\n",
      "Iteration 1100/2000, objective = 10827.007649935425.\n",
      "Iteration 1200/2000, objective = 10780.34732583599.\n",
      "Iteration 1300/2000, objective = 10735.280058791577.\n",
      "Iteration 1400/2000, objective = 10691.673685743252.\n",
      "Iteration 1500/2000, objective = 10649.415689287856.\n",
      "Iteration 1600/2000, objective = 10608.409371705851.\n",
      "Iteration 1700/2000, objective = 10568.569975029406.\n",
      "Iteration 1800/2000, objective = 10529.822780311984.\n",
      "Iteration 1900/2000, objective = 10492.101243647625.\n",
      "Iteration 2000/2000, objective = 10455.345790227742.\n",
      "Iteration completed after 2000/2000, objective = 10455.345790227742.\n"
     ]
    }
   ],
   "source": [
    "# Tune weights by applying to whole training set\n",
    "\n",
    "def tune_validate_lasso_regression_norm(training_samples, test_samples, regularisation_parameter):\n",
    "    \n",
    "    training_matrix = polynomial_basis(training_samples[0], 2)\n",
    "    \n",
    "    objective = lambda weightmatrix_: lasso_logistic_regression_cost_function(training_matrix, weightmatrix_, training_samples[1], \\\n",
    "                                                regularisation_parameter)\n",
    "    gradient = lambda weightmatrix_: multinomial_logistic_regression_gradient(training_matrix, weightmatrix_, training_samples[1])\n",
    "    proximal_map = lambda weightmatrix_: soft_thresholding(weightmatrix_, regularisation_parameter * \\\n",
    "                                                 step_size)\n",
    "    \n",
    "    initial_weight_matrix = best_lasso_norm_weights.copy()\n",
    "    optimal_weight_matrix, objective_values = proximal_gradient_descent(objective, gradient, proximal_map, \\\n",
    "                                                initial_weight_matrix, \\\n",
    "                                                step_size=50/(np.linalg.norm(training_matrix, 2) ** 2), \\\n",
    "                                                no_of_iterations=2000, print_output=100)\n",
    "                                                               \n",
    "    test_matrix = polynomial_basis(test_samples[0], 2)\n",
    "    \n",
    "    #test_digits_accuracy, test_confusion_data = classification_accuracy_multinomal(test_samples[1], multinomial_prediction_function(test_matrix, optimal_weight_matrix))\n",
    "    test_accuracy = classification_accuracy(test_samples[1], multinomial_prediction_function(test_matrix, optimal_weight_matrix))\n",
    "\n",
    "    return test_accuracy, optimal_weight_matrix\n",
    "\n",
    "# Run best weights on whole training set calculating accuracy on test set\n",
    "tuned_lasso_norm_accuracy, tuned_lasso_norm_weights = tune_validate_lasso_regression_norm(all_norm_training_data, all_norm_test_data, 0.00005)"
   ]
  },
  {
   "cell_type": "code",
   "execution_count": 323,
   "metadata": {},
   "outputs": [
    {
     "name": "stdout",
     "output_type": "stream",
     "text": [
      "Accuracy on whole test dataset: 0.9276666666666666\n",
      "Accuracy breakdown on each digit in test dataset: [98.04469274 97.74774775 89.27364865 90.73208723 93.22742475 88.37420527\n",
      " 95.38461538 93.46613546 90.77954736 90.42113955]\n"
     ]
    },
    {
     "data": {
      "text/plain": [
       "Text(0.5, 15.0, 'Predicted digit')"
      ]
     },
     "execution_count": 323,
     "metadata": {},
     "output_type": "execute_result"
    },
    {
     "data": {
      "image/png": "[encoded data removed]",
      "text/plain": [
       "<Figure size 432x288 with 2 Axes>"
      ]
     },
     "metadata": {
      "needs_background": "light"
     },
     "output_type": "display_data"
    }
   ],
   "source": [
    "# Apply best result to unseen test data\n",
    "test_lasso_norm_data_matrix = polynomial_basis(normal_test_data_inputs, 2)\n",
    "\n",
    "# Compare accuracy returned on all digits and confusion matrix breakdoen on each digit\n",
    "test_lasso_norm_accuracy_digits, test_lasso_norm_confusion_data = classification_accuracy_multinomal(test_data_labels, multinomial_prediction_function(test_lasso_norm_data_matrix, tuned_lasso_norm_weights))\n",
    "test_lasso_norm_accuracy_total = classification_accuracy(test_data_labels, multinomial_prediction_function(test_lasso_norm_data_matrix, tuned_lasso_norm_weights))\n",
    "\n",
    "print(\"Accuracy on whole test dataset: {}\".format(test_lasso_norm_accuracy_total))\n",
    "print(\"Accuracy breakdown on each digit in test dataset: {}\".format(test_lasso_norm_accuracy_digits))\n",
    "sns.heatmap(test_lasso_norm_confusion_data, annot = True, fmt=\"d\", cmap=\"coolwarm\")\n",
    "plt.title('Digit Confusion Matrix', fontsize = 16)\n",
    "plt.ylabel('Real digit', fontsize =14)\n",
    "plt.xlabel('Predicted digit', fontsize =14)"
   ]
  },
  {
   "cell_type": "code",
   "execution_count": 278,
   "metadata": {},
   "outputs": [],
   "source": [
    "#np.savetxt('best_lasso_weights.csv', tuned_lasso_weights, delimiter=',')"
   ]
  },
  {
   "cell_type": "code",
   "execution_count": 324,
   "metadata": {},
   "outputs": [],
   "source": [
    "#np.savetxt('best_lasso_norm_weights.csv', tuned_lasso_norm_weights, delimiter=',')"
   ]
  },
  {
   "cell_type": "markdown",
   "metadata": {},
   "source": [
    "# 4. LASSO Coordinate Descent"
   ]
  },
  {
   "cell_type": "code",
   "execution_count": 118,
   "metadata": {},
   "outputs": [],
   "source": [
    "# Functions required for LASSO coordinate descent\n",
    "\n",
    "def lasso_cost_function(data_matrix, weights, outputs, regularisation_parameter):\n",
    "    return mean_squared_error(data_matrix, weights, outputs) + regularisation_parameter \\\n",
    "            * np.sum(np.abs(weights))\n",
    "\n",
    "def mean_squared_error(data_matrix, weights, outputs):\n",
    "    return np.mean((data_matrix @ weights - outputs) ** 2) / 2\n",
    "\n",
    "def lasso_coordinate_descent(data_matrix, initial_weights, outputs, regularisation_parameter, \\\n",
    "                             maximum_no_of_epochs=20, print_output=10):\n",
    "    \n",
    "    weights = np.copy(initial_weights)\n",
    "    row_of_squared_norms = np.linalg.norm(data_matrix, axis=0) ** 2\n",
    "    no_of_samples = data_matrix.shape[0]\n",
    "\n",
    "    objective_values = []\n",
    "    objective_values.append(lasso_cost_function(data_matrix, weights, outputs, regularisation_parameter))\n",
    "    residual = outputs - data_matrix @ weights\n",
    "    \n",
    "    for counter in range(maximum_no_of_epochs):\n",
    "        for index in range(data_matrix.shape[1]):\n",
    "            if row_of_squared_norms[index] != 0: #Ignore columns where all pixel values are zero so not dividing by 0 norm\n",
    "            \n",
    "                residual = residual + (data_matrix[:, index] * weights[index].reshape(-1, 1)).T\n",
    "                argument = np.nan_to_num((data_matrix[:, index] @ residual) / row_of_squared_norms[index])\n",
    "                threshold = np.nan_to_num(no_of_samples * regularisation_parameter / row_of_squared_norms[index])            \n",
    "                weights[index] = soft_thresholding(argument, threshold)\n",
    "                residual = residual - (data_matrix[:, index] * weights[index].reshape(-1, 1)).T\n",
    "            \n",
    "        objective_values.append(lasso_cost_function(data_matrix, weights, outputs, regularisation_parameter))\n",
    "        if (counter + 1) % print_output == 0:\n",
    "            print(\"Epoch {k}/{m}, objective = {o}.\".format(k=counter+1, \\\n",
    "                    m=maximum_no_of_epochs, o=objective_values[counter]))\n",
    "    print(\"LASSO coordinate descent completed after {k}/{m} epochs, objective = {o}.\".format(k=counter + 1, \\\n",
    "                m=maximum_no_of_epochs, o=objective_values[counter]))\n",
    "    \n",
    "    return weights, objective_values"
   ]
  },
  {
   "cell_type": "code",
   "execution_count": 128,
   "metadata": {},
   "outputs": [
    {
     "name": "stdout",
     "output_type": "stream",
     "text": [
      "Epoch 2/40, objective = 0.02981785985012501.\n",
      "Epoch 4/40, objective = 0.022199469833510975.\n",
      "Epoch 6/40, objective = 0.020788872971755502.\n",
      "Epoch 8/40, objective = 0.020156145195058296.\n",
      "Epoch 10/40, objective = 0.019743067836164228.\n",
      "Epoch 12/40, objective = 0.019436828442282995.\n",
      "Epoch 14/40, objective = 0.019195164388274035.\n",
      "Epoch 16/40, objective = 0.018995380142536343.\n",
      "Epoch 18/40, objective = 0.018822425840032263.\n",
      "Epoch 20/40, objective = 0.018668551571103066.\n",
      "Epoch 22/40, objective = 0.01853204016903094.\n",
      "Epoch 24/40, objective = 0.018413018793810593.\n",
      "Epoch 26/40, objective = 0.018310347492170163.\n",
      "Epoch 28/40, objective = 0.018221174832466235.\n",
      "Epoch 30/40, objective = 0.018142035264098202.\n",
      "Epoch 32/40, objective = 0.01807001335644406.\n",
      "Epoch 34/40, objective = 0.018002931608503334.\n",
      "Epoch 36/40, objective = 0.017939742038971973.\n",
      "Epoch 38/40, objective = 0.017880417212287687.\n",
      "Epoch 40/40, objective = 0.017825532131270815.\n",
      "LASSO coordinate descent completed after 40/40 epochs, objective = 0.017825532131270815.\n"
     ]
    }
   ],
   "source": [
    "# Iterate all weights across 10 complete epochs\n",
    "\n",
    "coord_reg_parameter = 1e-5\n",
    "\n",
    "train_coord_data_matrix = polynomial_basis(training_data_inputs, 2)\n",
    "initial_coord_weights = np.zeros((train_coord_data_matrix.shape[1], training_data_outputs.shape[1]))\n",
    "\n",
    "maximum_no_of_epochs = 40\n",
    "\n",
    "lasso_coord_weights, lasso_coord_objective_values = lasso_coordinate_descent(train_coord_data_matrix, initial_coord_weights, \\\n",
    "                                        training_data_outputs, coord_reg_parameter, \\\n",
    "                                        maximum_no_of_epochs, print_output=2)"
   ]
  },
  {
   "cell_type": "code",
   "execution_count": 129,
   "metadata": {},
   "outputs": [
    {
     "name": "stdout",
     "output_type": "stream",
     "text": [
      "Accuracy on whole test dataset: 0.8618333333333333\n",
      "Accuracy breakdown on each digit in test dataset: [96.36871508 96.996997   81.41891892 83.80062305 84.86622074 73.93278837\n",
      " 92.64957265 85.73705179 82.0620285  83.15441784]\n"
     ]
    },
    {
     "data": {
      "text/plain": [
       "Text(0.5, 15.0, 'Predicted digit')"
      ]
     },
     "execution_count": 129,
     "metadata": {},
     "output_type": "execute_result"
    },
    {
     "data": {
      "image/png": "[encoded data removed]",
      "text/plain": [
       "<Figure size 432x288 with 2 Axes>"
      ]
     },
     "metadata": {
      "needs_background": "light"
     },
     "output_type": "display_data"
    }
   ],
   "source": [
    "# Apply best result to unseen test data\n",
    "test_coord_data_matrix = polynomial_basis(test_data_inputs, 2)\n",
    "\n",
    "# Compare accuracy returned on all digits and confusion matrix breakdoen on each digit\n",
    "test_coord_accuracy_digits, test_coord_confusion_data = classification_accuracy_multinomal(test_data_labels, multinomial_prediction_function(test_coord_data_matrix, lasso_coord_weights))\n",
    "test_coord_accuracy_total = classification_accuracy(test_data_labels, multinomial_prediction_function(test_coord_data_matrix, lasso_coord_weights))\n",
    "\n",
    "print(\"Accuracy on whole test dataset: {}\".format(test_coord_accuracy_total))\n",
    "print(\"Accuracy breakdown on each digit in test dataset: {}\".format(test_coord_accuracy_digits))\n",
    "sns.heatmap(test_coord_confusion_data, annot = True, fmt=\"d\", cmap=\"coolwarm\")\n",
    "plt.title('Digit Confusion Matrix', fontsize = 16)\n",
    "plt.ylabel('Real digit', fontsize =14)\n",
    "plt.xlabel('Predicted digit', fontsize =14)"
   ]
  },
  {
   "cell_type": "code",
   "execution_count": 325,
   "metadata": {},
   "outputs": [
    {
     "name": "stdout",
     "output_type": "stream",
     "text": [
      "Epoch 2/40, objective = 0.03201188582513152.\n",
      "Epoch 4/40, objective = 0.026707125575669507.\n",
      "Epoch 6/40, objective = 0.024941948893178384.\n",
      "Epoch 8/40, objective = 0.024123154919225166.\n",
      "Epoch 10/40, objective = 0.023637045773718002.\n",
      "Epoch 12/40, objective = 0.023276474871041192.\n",
      "Epoch 14/40, objective = 0.022990983841997475.\n",
      "Epoch 16/40, objective = 0.022753791639288187.\n",
      "Epoch 18/40, objective = 0.022565564127644128.\n",
      "Epoch 20/40, objective = 0.02242446470466975.\n",
      "Epoch 22/40, objective = 0.02231213506265424.\n",
      "Epoch 24/40, objective = 0.022219676432060746.\n",
      "Epoch 26/40, objective = 0.02214238298412037.\n",
      "Epoch 28/40, objective = 0.022072799850971204.\n",
      "Epoch 30/40, objective = 0.022011194012447728.\n",
      "Epoch 32/40, objective = 0.021962715789700344.\n",
      "Epoch 34/40, objective = 0.02192596251850453.\n",
      "Epoch 36/40, objective = 0.021898263907493793.\n",
      "Epoch 38/40, objective = 0.021874835625307763.\n",
      "Epoch 40/40, objective = 0.021853755843075345.\n",
      "LASSO coordinate descent completed after 40/40 epochs, objective = 0.021853755843075345.\n"
     ]
    }
   ],
   "source": [
    "# Repeat test for normalised training data\n",
    "\n",
    "coord_reg_parameter = 1e-5\n",
    "\n",
    "train_coord_norm_data_matrix = polynomial_basis(normal_training_data_inputs, 2)\n",
    "initial_coord_norm_weights = np.zeros((train_coord_norm_data_matrix.shape[1], training_data_outputs.shape[1]))\n",
    "\n",
    "maximum_no_of_epochs = 40\n",
    "\n",
    "lasso_coord_norm_weights, lasso_coord_norm_objective_values = lasso_coordinate_descent(train_coord_norm_data_matrix, initial_coord_norm_weights, \\\n",
    "                                        training_data_outputs, coord_reg_parameter, \\\n",
    "                                        maximum_no_of_epochs, print_output=2)"
   ]
  },
  {
   "cell_type": "code",
   "execution_count": 327,
   "metadata": {},
   "outputs": [
    {
     "name": "stdout",
     "output_type": "stream",
     "text": [
      "Accuracy on whole test dataset: 0.8531666666666666\n",
      "Accuracy breakdown on each digit in test dataset: [96.55493482 95.7957958  81.41891892 82.24299065 85.86956522 74.75022707\n",
      " 92.05128205 87.72908367 76.44593462 79.68620974]\n"
     ]
    },
    {
     "data": {
      "text/plain": [
       "Text(0.5, 15.0, 'Predicted digit')"
      ]
     },
     "execution_count": 327,
     "metadata": {},
     "output_type": "execute_result"
    },
    {
     "data": {
      "image/png": "[encoded data removed]",
      "text/plain": [
       "<Figure size 432x288 with 2 Axes>"
      ]
     },
     "metadata": {
      "needs_background": "light"
     },
     "output_type": "display_data"
    }
   ],
   "source": [
    "# Apply best result to unseen test data\n",
    "test_coord_norm_data_matrix = polynomial_basis(normal_test_data_inputs, 2)\n",
    "\n",
    "# Compare accuracy returned on all digits and confusion matrix breakdoen on each digit\n",
    "test_coord_norm_accuracy_digits, test_coord_norm_confusion_data = classification_accuracy_multinomal(test_data_labels, multinomial_prediction_function(test_coord_norm_data_matrix, lasso_coord_norm_weights))\n",
    "test_coord_norm_accuracy_total = classification_accuracy(test_data_labels, multinomial_prediction_function(test_coord_norm_data_matrix, lasso_coord_norm_weights))\n",
    "\n",
    "print(\"Accuracy on whole test dataset: {}\".format(test_coord_norm_accuracy_total))\n",
    "print(\"Accuracy breakdown on each digit in test dataset: {}\".format(test_coord_norm_accuracy_digits))\n",
    "sns.heatmap(test_coord_norm_confusion_data, annot = True, fmt=\"d\", cmap=\"coolwarm\")\n",
    "plt.title('Digit Confusion Matrix', fontsize = 16)\n",
    "plt.ylabel('Real digit', fontsize =14)\n",
    "plt.xlabel('Predicted digit', fontsize =14)"
   ]
  },
  {
   "cell_type": "code",
   "execution_count": 130,
   "metadata": {},
   "outputs": [],
   "source": [
    "#np.savetxt('best_coord_descent_weights.csv', lasso_coord_weights, delimiter=',')"
   ]
  },
  {
   "cell_type": "code",
   "execution_count": 328,
   "metadata": {},
   "outputs": [],
   "source": [
    "#np.savetxt('best_coord_descent_norm_weights.csv', lasso_coord_norm_weights, delimiter=',')"
   ]
  },
  {
   "cell_type": "markdown",
   "metadata": {},
   "source": [
    "# 5. K-Nearest Neighbour"
   ]
  },
  {
   "cell_type": "code",
   "execution_count": 136,
   "metadata": {},
   "outputs": [],
   "source": [
    "# Functions for KNN adapted from courseworks\n",
    "\n",
    "def tensor_broadcasting(argument1, argument2):\n",
    "    return np.sqrt(np.sum((argument1[:,np.newaxis,:]-argument2[np.newaxis,:,:])**2, axis=2))\n",
    "\n",
    "def nearest_neighbour_classification(inputs, dataset, no_of_neighbours):\n",
    "    points, known_labels = dataset\n",
    "    no_of_inputs = inputs.shape[0]\n",
    "    no_of_points = points.shape[0] \n",
    "    no_of_classes = 1 + np.max(known_labels) \n",
    "  \n",
    "    distances = tensor_broadcasting(inputs, points) \n",
    "\n",
    "    sorted_indices = np.argsort(distances, axis=1)\n",
    "    sorted_labels = np.take_along_axis(np.broadcast_to(known_labels, (no_of_inputs, no_of_points)), \\\n",
    "                                          sorted_indices, 1)\n",
    "    rho = np.zeros((no_of_inputs, no_of_neighbours, no_of_classes)) \n",
    "    for counter in range(no_of_classes):\n",
    "        rho[:, :, counter] = sorted_labels[:, :no_of_neighbours] == counter \n",
    "\n",
    "    recovered_labels = np.argmax(np.mean(rho, 1), 1) \n",
    "    return recovered_labels\n",
    "\n",
    "def grid_search_knn_reduced(function, grid, training_data):\n",
    "    no_grid_point = len(grid)\n",
    "    accuracy_values = []\n",
    "    for counter in range(no_grid_point):\n",
    "        print(\"parameter = {}\".format(grid[counter]))\n",
    "        accuracy_values.append(function(grid[counter]))    \n",
    "    return grid[np.argmax(accuracy_values)], np.max(accuracy_values), training_data\n",
    "\n",
    "def cross_validation_knn_reduced(training_inputs, training_labels, parameters, K):\n",
    "    \n",
    "    no_training_samples = len(training_inputs)\n",
    "    \n",
    "    random_indices = np.random.permutation(no_training_samples)\n",
    "    \n",
    "    foldSize = int(no_training_samples/K) \n",
    "    \n",
    "    optimal_parameters = []\n",
    "    validation_results = []\n",
    "    best_training_set = []\n",
    "    \n",
    "    for i in range(0, no_training_samples, foldSize):        \n",
    "        \n",
    "        print(\"Training Samples \"+str(i+foldSize))\n",
    "        \n",
    "        # Training fold a quarter of training samples\n",
    "        training_fold_inputs = training_inputs[i:i + foldSize]\n",
    "        training_fold_labels = training_labels[i:i + foldSize]\n",
    "        val_fold_inputs = np.concatenate((training_inputs[0:i], training_inputs[i + foldSize:]), axis = 0)\n",
    "        val_fold_labels = np.concatenate((training_labels[0:i], training_labels[i + foldSize:]), axis = 0)\n",
    "\n",
    "        # Select 500 samples not used for training as validation samples\n",
    "        training_data = [training_fold_inputs, training_fold_labels]\n",
    "        val_data = [val_fold_inputs[:500], val_fold_labels[:500]]\n",
    "        \n",
    "        knn_classifier = lambda no_of_neighbours: classification_accuracy(val_data[1], \\\n",
    "                        nearest_neighbour_classification(val_data[0], training_data, no_of_neighbours))\n",
    "        \n",
    "        optimal_no_of_neighbours, accuracy, current_training_data = grid_search_knn_reduced(knn_classifier, parameters, training_data)\n",
    "        optimal_parameters.append(optimal_no_of_neighbours)\n",
    "        validation_results.append(accuracy)\n",
    "        if(accuracy >= max(validation_results)):\n",
    "            best_training_set = current_training_data\n",
    "    \n",
    "    return np.mean(optimal_parameters), np.mean(validation_results), best_training_set"
   ]
  },
  {
   "cell_type": "code",
   "execution_count": 137,
   "metadata": {},
   "outputs": [
    {
     "name": "stdout",
     "output_type": "stream",
     "text": [
      "Training Samples 12000\n",
      "parameter = 5\n",
      "parameter = 10\n",
      "Training Samples 24000\n",
      "parameter = 5\n",
      "parameter = 10\n",
      "Training Samples 36000\n",
      "parameter = 5\n",
      "parameter = 10\n",
      "Training Samples 48000\n",
      "parameter = 5\n",
      "parameter = 10\n"
     ]
    }
   ],
   "source": [
    "# Underlying inputs int8 (upto 255 values) so change type to int64 so can subtract without looping back to 255\n",
    "training_knn_data_inputs = training_data_inputs.astype(int)\n",
    "test_knn_data_inputs = test_data_inputs.astype(int)\n",
    "\n",
    "K = 4\n",
    "no_of_neighbours = [5, 10]\n",
    "optimal_no_of_neighbours, optimal_knn_classification_accuracy, best_training_set = cross_validation_knn_reduced(training_knn_data_inputs, training_data_labels, no_of_neighbours, K)"
   ]
  },
  {
   "cell_type": "code",
   "execution_count": 143,
   "metadata": {},
   "outputs": [
    {
     "name": "stdout",
     "output_type": "stream",
     "text": [
      "Best number of neighbours: 5.0\n",
      "Best classification accuracy on validation sets: 0.9405\n"
     ]
    }
   ],
   "source": [
    "np.savetxt('best_knn_training_set.csv', best_training_set[0], delimiter=',')\n",
    "np.savetxt('best_knn_training_labels.csv', best_training_set[1], fmt = '%i', delimiter=',')\n",
    "print(\"Best number of neighbours: {}\".format(optimal_no_of_neighbours))\n",
    "print(\"Best classification accuracy on validation sets: {}\".format(optimal_knn_classification_accuracy))"
   ]
  },
  {
   "cell_type": "code",
   "execution_count": 145,
   "metadata": {},
   "outputs": [
    {
     "name": "stdout",
     "output_type": "stream",
     "text": [
      "Batch: 1\n",
      "Batch: 2\n",
      "Batch: 3\n",
      "Batch: 4\n",
      "Batch: 5\n",
      "Batch: 6\n",
      "Batch: 7\n",
      "Batch: 8\n",
      "Batch: 9\n",
      "Batch: 10\n",
      "Batch: 11\n",
      "Batch: 12\n",
      "Batch: 13\n",
      "Batch: 14\n",
      "Batch: 15\n",
      "Batch: 16\n",
      "Batch: 17\n",
      "Batch: 18\n",
      "Batch: 19\n",
      "Batch: 20\n",
      "Batch: 21\n",
      "Batch: 22\n",
      "Batch: 23\n"
     ]
    }
   ],
   "source": [
    "# Calculate KNN labels of test labels in steps to not crash kernel\n",
    "rounded_best_no_of_neighbours = round(optimal_no_of_neighbours)\n",
    "no_test_samples = len(test_data_inputs)\n",
    "recovered_knn_labels = []\n",
    "for i in range(0, no_test_samples-500, 500):\n",
    "    print(\"Batch: \"+ str(1+int(i/500)))\n",
    "    label_batch = nearest_neighbour_classification(test_data_inputs[i:i+500], best_training_set, rounded_best_no_of_neighbours)\n",
    "    recovered_knn_labels.append(label_batch)"
   ]
  },
  {
   "cell_type": "code",
   "execution_count": 148,
   "metadata": {},
   "outputs": [
    {
     "name": "stdout",
     "output_type": "stream",
     "text": [
      "Adding last missing batch of 500 samples\n"
     ]
    }
   ],
   "source": [
    "# Accidentally missed one batch above\n",
    "print(\"Adding last missing batch of 500 samples\")\n",
    "missing_batch = nearest_neighbour_classification(test_data_inputs[no_test_samples-500:no_test_samples], best_training_set, rounded_best_no_of_neighbours)\n",
    "recovered_knn_labels.append(missing_batch)"
   ]
  },
  {
   "cell_type": "code",
   "execution_count": 155,
   "metadata": {},
   "outputs": [
    {
     "name": "stdout",
     "output_type": "stream",
     "text": [
      "Accuracy on whole test dataset: 0.9499166666666666\n",
      "Accuracy breakdown on each digit in test dataset: [99.16201117 99.17417417 92.65202703 93.22429907 94.81605351 93.73297003\n",
      " 98.54700855 94.82071713 90.10896899 93.72419488]\n"
     ]
    },
    {
     "data": {
      "text/plain": [
       "Text(0.5, 15.0, 'Predicted digit')"
      ]
     },
     "execution_count": 155,
     "metadata": {},
     "output_type": "execute_result"
    },
    {
     "data": {
      "image/png": "[encoded data removed]",
      "text/plain": [
       "<Figure size 432x288 with 2 Axes>"
      ]
     },
     "metadata": {
      "needs_background": "light"
     },
     "output_type": "display_data"
    }
   ],
   "source": [
    "recovered_test_knn_labels = np.concatenate(recovered_knn_labels, axis = 0)\n",
    "\n",
    "# Compare accuracy returned on all digits and confusion matrix breakdoen on each digit\n",
    "test_knn_accuracy_digits, test_knn_confusion_data = classification_accuracy_multinomal(test_data_labels, recovered_test_knn_labels)\n",
    "test_knn_accuracy_total = classification_accuracy(test_data_labels, recovered_test_knn_labels)\n",
    "\n",
    "print(\"Accuracy on whole test dataset: {}\".format(test_knn_accuracy_total))\n",
    "print(\"Accuracy breakdown on each digit in test dataset: {}\".format(test_knn_accuracy_digits))\n",
    "sns.heatmap(test_knn_confusion_data, annot = True, fmt=\"d\", cmap=\"coolwarm\")\n",
    "plt.title('Digit Confusion Matrix', fontsize = 16)\n",
    "plt.ylabel('Real digit', fontsize =14)\n",
    "plt.xlabel('Predicted digit', fontsize =14)"
   ]
  },
  {
   "cell_type": "markdown",
   "metadata": {},
   "source": [
    "# Comparison of different models tested"
   ]
  },
  {
   "cell_type": "code",
   "execution_count": 333,
   "metadata": {},
   "outputs": [
    {
     "data": {
      "text/plain": [
       "Text(0, 0.5, '% Accuracy returned on test set')"
      ]
     },
     "execution_count": 333,
     "metadata": {},
     "output_type": "execute_result"
    },
    {
     "data": {
      "image/png": "[encoded data removed]",
      "text/plain": [
       "<Figure size 432x288 with 1 Axes>"
      ]
     },
     "metadata": {
      "needs_background": "light"
     },
     "output_type": "display_data"
    }
   ],
   "source": [
    "# Plot accuracy of each model tested on same 12,0000 sample test set\n",
    "\n",
    "model_accuracies = {'Logistic Regression':test_logistic_accuracy_total*100, 'Logistic Regression \\n(normalised data)': test_norm_accuracy_total*100, \\\n",
    "                   'Logistic Ridge \\nRegression':test_ridge_accuracy_total*100, 'Logistic Ridge \\n Regression (normalised)':test_norm_ridge_accuracy_total*100, \\\n",
    "                    'LASSO Logistic \\nRegression':test_lasso_accuracy_total*100, 'LASSO Logistic \\nRegression (normalised)':test_lasso_norm_accuracy_total*100, \\\n",
    "                    'LASSO Coordinate \\nDescent':test_coord_accuracy_total*100, 'LASSO Coordinate \\nDescent (normalised)':test_coord_norm_accuracy_total*100,\n",
    "                    'K-Nearest Neighbour':test_knn_accuracy_total*100}\n",
    "\n",
    "#Plot of number of count of each digit in dataset\n",
    "sns.histplot(x = model_accuracies.keys(), weights = model_accuracies.values(), palette = \"pastel\",hue=model_accuracies.keys(), legend = False, discrete=True)\n",
    "#plt.title('Accuracy of each model used on test set', fontsize = 16)\n",
    "plt.xticks(rotation = 80)\n",
    "plt.yticks(np.arange(0,110,10))\n",
    "#plt.xlabel('Model used', fontsize =14)\n",
    "plt.ylabel('% Accuracy returned on test set', fontsize =14)"
   ]
  },
  {
   "cell_type": "code",
   "execution_count": 311,
   "metadata": {},
   "outputs": [
    {
     "name": "stdout",
     "output_type": "stream",
     "text": [
      "Min sum of pixels in training set: 5086\n",
      "Max sum of pixels in training set: 79483\n",
      "Min number of empty pixels in training set: 433\n",
      "Max number of empty pixels in training set: 750\n"
     ]
    }
   ],
   "source": [
    "# Attempts to fill 0 pixels on all samples with additional information like scaled number of zero pixels in each\n",
    "# image and scaled sum of pixel values in image. Tests did not result in an increase in classification acuuracy\n",
    "# so not pursued further\n",
    "\n",
    "# Scale values 0-255 so same range as pixel values\n",
    "print(\"Min sum of pixels in training set: {}\".format(np.min(np.sum(training_data_inputs, axis = 1))))\n",
    "print(\"Max sum of pixels in training set: {}\".format(np.max(np.sum(training_data_inputs, axis = 1))))\n",
    "print(\"Min number of empty pixels in training set: {}\".format(np.min(np.count_nonzero(training_data_inputs == 0, axis = 1))))\n",
    "print(\"Max number of empty pixels in training set: {}\".format(np.max(np.count_nonzero(training_data_inputs == 0, axis = 1))))\n",
    "\n",
    "sum_rows_train = np.sum(training_data_inputs, axis = 1)\n",
    "sum_rows_train[sum_rows_train < 5000] = 5000\n",
    "sum_rows_train[sum_rows_train > 80000] = 80000\n",
    "\n",
    "zeros_rows_train = np.count_nonzero(training_data_inputs == 0, axis = 1)\n",
    "zeros_rows_train[zeros_rows_train < 430] = 430\n",
    "zeros_rows_train[zeros_rows_train > 750] = 750\n",
    "\n",
    "sum_rows_test = np.sum(test_data_inputs, axis = 1)\n",
    "sum_rows_test[sum_rows_test < 5000] = 5000\n",
    "sum_rows_test[sum_rows_test > 80000] = 80000\n",
    "\n",
    "zeros_rows_test = np.count_nonzero(test_data_inputs == 0, axis = 1)\n",
    "zeros_rows_test[zeros_rows_test < 430] = 430\n",
    "zeros_rows_test[zeros_rows_test > 750] = 750\n",
    "\n",
    "training_inputs_extra = np.copy(training_data_inputs.astype(int))\n",
    "training_inputs_extra[training_inputs_extra < 100] = 0\n",
    "training_inputs_extra[training_inputs_extra > 100] = 255\n",
    "\n",
    "test_inputs_extra = np.copy(test_data_inputs.astype(int))\n",
    "test_inputs_extra[test_inputs_extra < 100] = 0\n",
    "test_inputs_extra[test_inputs_extra > 100] = 255\n",
    "\n",
    "extra_training_data = [training_inputs_extra, training_data_outputs]\n",
    "extra_test_data = [test_inputs_extra, test_data_labels]"
   ]
  },
  {
   "cell_type": "code",
   "execution_count": 306,
   "metadata": {},
   "outputs": [
    {
     "name": "stdout",
     "output_type": "stream",
     "text": [
      "Iteration 100/2000, objective = 16731.11013703335.\n",
      "Iteration 200/2000, objective = 15012.427006422258.\n",
      "Iteration 300/2000, objective = 14356.265520281248.\n",
      "Iteration 400/2000, objective = 13975.150282078774.\n",
      "Iteration 500/2000, objective = 13699.245694123481.\n",
      "Iteration 600/2000, objective = 13485.495007492576.\n",
      "Iteration 700/2000, objective = 13312.537156956763.\n",
      "Iteration 800/2000, objective = 13168.259413038817.\n",
      "Iteration 900/2000, objective = 13045.14986505067.\n",
      "Iteration 1000/2000, objective = 12938.240137760931.\n",
      "Iteration 1100/2000, objective = 12844.081615893938.\n",
      "Iteration 1200/2000, objective = 12760.189052415992.\n",
      "Iteration 1300/2000, objective = 12684.716804001771.\n",
      "Iteration 1400/2000, objective = 12616.259955360953.\n",
      "Iteration 1500/2000, objective = 12553.726697484242.\n",
      "Iteration 1600/2000, objective = 12496.253424996808.\n",
      "Iteration 1700/2000, objective = 12443.146517366644.\n",
      "Iteration 1800/2000, objective = 12393.841373428186.\n",
      "Iteration 1900/2000, objective = 12347.872936330068.\n",
      "Iteration 2000/2000, objective = 12304.854069727247.\n",
      "Iteration completed after 2000/2000, objective = 12304.854069727247.\n"
     ]
    }
   ],
   "source": [
    "# Run on whole training and test sets\n",
    "extra_logistic_accuracy, extra_logistic_weights = validate_multinomial_regression(extra_training_data, extra_test_data, 2)"
   ]
  },
  {
   "cell_type": "code",
   "execution_count": 342,
   "metadata": {},
   "outputs": [
    {
     "name": "stdout",
     "output_type": "stream",
     "text": [
      "Classification accuracy on test set: 0.9134166666666667\n"
     ]
    }
   ],
   "source": [
    "# Result of adding extra information to unused pixels not increased accuracy so is not pursued further\n",
    "print(\"Classification accuracy on test set: {}\".format(extra_logistic_accuracy))"
   ]
  },
  {
   "cell_type": "code",
   "execution_count": 46,
   "metadata": {},
   "outputs": [
    {
     "data": {
      "text/plain": [
       "0.9296666666666666"
      ]
     },
     "execution_count": 46,
     "metadata": {},
     "output_type": "execute_result"
    }
   ],
   "source": [
    "#classification_accuracy(test_data_labels, np.argmax(softmax_function(model_function(test_data_inputs)), axis =1))\n"
   ]
  },
  {
   "cell_type": "markdown",
   "metadata": {
    "deletable": false,
    "editable": false,
    "nbgrader": {
     "cell_type": "markdown",
     "checksum": "96d581f44d3ec35e6124a992c1c895ac",
     "grade": false,
     "grade_id": "cell-ae67818ad4f4e5d7",
     "locked": true,
     "schema_version": 3,
     "solution": false,
     "task": false
    }
   },
   "source": [
    "Specify the code for your best data model (linear, polynomial or else) applied to your best weights and assign the result to the output of the function **model_function**. The data model has to be created from the argument _inputs_, which is a two-dimensional array where the first dimension equals the number of samples and the second dimension the dimension of the data (784 in case of MNIST). If, for example, your model is a linear basis model applied to a weight matrix _best_weight_matrix_, then your code could look like:\n",
    "\n",
    "```\n",
    "def model_function(inputs, best_weight_matrix):\n",
    "    return polynomial_basis(inputs, 1) @ best_weight_matrix\n",
    "```"
   ]
  },
  {
   "cell_type": "code",
   "execution_count": 34,
   "metadata": {
    "deletable": false,
    "nbgrader": {
     "cell_type": "code",
     "checksum": "8d2e6423a8f730e83447fe6590cf5c09",
     "grade": false,
     "grade_id": "cell-d1751b92b149be1b",
     "locked": false,
     "schema_version": 3,
     "solution": true,
     "task": false
    }
   },
   "outputs": [],
   "source": [
    "'''Specify your model function. The output has to be a two-dimensional array\n",
    "    You are allowed to include additional input arguments.'''\n",
    "def model_function(inputs):\n",
    "\n",
    "    best_weight_matrix = np.genfromtxt('best_lasso_norm_weights.csv', delimiter=',')\n",
    "    \n",
    "    max_value_inputs = np.amax(inputs, axis=1)[:, np.newaxis]\n",
    "    min_value_inputs = np.amin(inputs, axis=1)[:, np.newaxis]\n",
    "    normalized_matrix_inputs = (inputs - min_value_inputs)/(max_value_inputs-min_value_inputs)\n",
    "    \n",
    "    return polynomial_basis(normalized_matrix_inputs, 2) @ best_weight_matrix\n"
   ]
  },
  {
   "cell_type": "markdown",
   "metadata": {
    "deletable": false,
    "editable": false,
    "nbgrader": {
     "cell_type": "markdown",
     "checksum": "87eceb699c2ee18fc35f993e4e1415d5",
     "grade": false,
     "grade_id": "cell-41aef5fe41114aae",
     "locked": true,
     "schema_version": 3,
     "solution": false,
     "task": false
    }
   },
   "source": [
    "The code in the next cell will then evaluate the classification performance of your best classifier when applied to hidden data that is similar (but different) to the MNIST training dataset. The best classification performance will be awarded **three extra marks** (capped at 100). "
   ]
  },
  {
   "cell_type": "code",
   "execution_count": 349,
   "metadata": {
    "deletable": false,
    "editable": false,
    "nbgrader": {
     "cell_type": "code",
     "checksum": "2b8cdb2d64d0b8bc862f5d1a978d5a4c",
     "grade": false,
     "grade_id": "cell-7d9f3270c59caca4",
     "locked": true,
     "schema_version": 3,
     "solution": false,
     "task": false
    }
   },
   "outputs": [],
   "source": [
    "### CODE HIDDEN ###"
   ]
  },
  {
   "cell_type": "markdown",
   "metadata": {
    "deletable": false,
    "editable": false,
    "nbgrader": {
     "cell_type": "markdown",
     "checksum": "dbb06ce796df75a4b1f095cfaf5edd24",
     "grade": false,
     "grade_id": "cell-4f318e920d827dde",
     "locked": true,
     "schema_version": 3,
     "solution": false,
     "task": false
    }
   },
   "source": [
    "This completes the MTH786 coding project requirements. Please do not forget to write a detailed report on your findings (at most 8 pages) with $\\LaTeX$ and your favourite editor. If no editor is at hand, please feel free to use online editors such as [Overleaf](https://www.overleaf.com)."
   ]
  }
 ],
 "metadata": {
  "kernelspec": {
   "display_name": "Python 3 (ipykernel)",
   "language": "python",
   "name": "python3"
  },
  "language_info": {
   "codemirror_mode": {
    "name": "ipython",
    "version": 3
   },
   "file_extension": ".py",
   "mimetype": "text/x-python",
   "name": "python",
   "nbconvert_exporter": "python",
   "pygments_lexer": "ipython3",
   "version": "3.9.13"
  }
 },
 "nbformat": 4,
 "nbformat_minor": 2
}
