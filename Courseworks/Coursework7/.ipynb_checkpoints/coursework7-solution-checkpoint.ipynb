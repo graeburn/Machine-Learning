{
 "cells": [
  {
   "cell_type": "markdown",
   "metadata": {},
   "source": [
    "# MTH786 - Coursework 7 - Part I\n",
    "\n",
    "This is an exemplary solution notebook for the first computational & theoretical exercise of [Coursework 7](https://qmplus.qmul.ac.uk/pluginfile.php/2480275/mod_resource/content/2/coursework07.pdf) of the module MTH786U/P, Machine Learning with Python.\n",
    "\n",
    "Auhtor: [Martin Benning](mailto:m.benning@qmul.ac.uk)\n",
    "\n",
    "Date: 01.12.2020\n",
    "\n",
    "As usual, we begin by loading the NumPy and Matplotlib libraries and by setting the random seed to a fixed value."
   ]
  },
  {
   "cell_type": "code",
   "execution_count": 1,
   "metadata": {},
   "outputs": [],
   "source": [
    "%matplotlib inline\n",
    "import numpy as np\n",
    "import matplotlib.pyplot as plt"
   ]
  },
  {
   "cell_type": "markdown",
   "metadata": {},
   "source": [
    "## Nearest neighbour classification\n",
    "\n",
    "The goal of this exercise is to classify the correct sex of an individual based on their height and weight information. We download and visualise the height- and weight-information of numerous individuals from the *height-weight-genders.csv*-dataset. In order to do so, we download *coursework6.zip* from the QM+ module page and import the **load_data** function from the file *coursework6.py*. We use this function to load the data via the command **height, weight, sex = load_data()**. Note that in contrast to last week, we also require the third component of the data that contains the biological sex of each individual. We sort the data points in terms of their height for later visualisations, and visualise them."
   ]
  },
  {
   "cell_type": "code",
   "execution_count": 2,
   "metadata": {},
   "outputs": [
    {
     "data": {
      "image/png": "[encoded data removed]",
      "text/plain": [
       "<Figure size 432x288 with 1 Axes>"
      ]
     },
     "metadata": {
      "needs_background": "light"
     },
     "output_type": "display_data"
    }
   ],
   "source": [
    "from coursework6 import load_data\n",
    "height, weight, binary_sex = load_data()\n",
    "indices = np.argsort(height)\n",
    "height = height[indices]\n",
    "weight = weight[indices]\n",
    "binary_sex = binary_sex[indices]\n",
    "plt.plot(height[binary_sex==0], weight[binary_sex==0], 'b.', linewidth=1)\n",
    "plt.plot(height[binary_sex==1], weight[binary_sex==1], 'r.', linewidth=1) #Red overlaps blue points so vary opacity or use other tools to draw\n",
    "plt.xlabel('Height in metres', fontsize=16)\n",
    "plt.xticks(fontsize=16)\n",
    "plt.ylabel('Weight in kilogram', fontsize=16)\n",
    "plt.yticks(fontsize=16)\n",
    "plt.tight_layout;"
   ]
  },
  {
   "cell_type": "markdown",
   "metadata": {},
   "source": [
    "Ww write a function **nearest_neighbour_classification** that performs nearest neighbour classification as introduced in the lecture notes and that takes three arguments *inputs*, *dataset* and *no_of_neighbours*. The argument *inputs* contains a NumPy array of input samples to be classified. The argument *dataset* contains a list of data points for which we know the correct classification, and the argument *no_of_neighbours* specifies how many neighbours we take into account to determine the class labels for the inputs. Use the Euclidean norm to measure the distance between samples."
   ]
  },
  {
   "cell_type": "code",
   "execution_count": 3,
   "metadata": {},
   "outputs": [],
   "source": [
    "# Two methods for pairwise distances between arrays. tensor faster and cdist is fastest of all. Loops slowest.\n",
    "def pairwise_distances(argument1, argument2):\n",
    "    rows, cols = np.indices((argument1.shape[0], argument2.shape[0])) #Create array of correct number indices\n",
    "    distances = np.sqrt(np.sum((argument1[rows, :] - argument2[cols, :])**2, axis=2))\n",
    "    return distances\n",
    "\n",
    "def tensor_broadcasting(argument1, argument2): #newaxis expands array around an axis to create a new matrix\n",
    "    return np.sqrt(np.sum((argument1[:,np.newaxis,:]-argument2[np.newaxis,:,:])**2, axis=2))\n",
    "\n",
    "def nearest_neighbour_classification(inputs, dataset, no_of_neighbours):\n",
    "    points, known_labels = dataset\n",
    "    no_of_inputs = inputs.shape[0] #Points to label\n",
    "    no_of_points = points.shape[0] #Points in labelled set\n",
    "    no_of_classes = 1 + np.max(known_labels) #max=1 so 2 labels 0,1\n",
    "    # Compute the pairwise distances\n",
    "#    distances = pairwise_distances(inputs, points) #Different option for pairwise distances show different speed calculating. for loops very slow\n",
    "    # Alternative\n",
    "    distances = tensor_broadcasting(inputs, points) #Tensor approach faster\n",
    "    # Sort indices and labels\n",
    "    sorted_indices = np.argsort(distances, axis=1) #Sort distances wrt points and use to  specify axis in next line\n",
    "    sorted_labels = np.take_along_axis(np.broadcast_to(known_labels, (no_of_inputs, no_of_points)), \\\n",
    "                                          sorted_indices, 1)\n",
    "    #print(sorted_labels.shape)\n",
    "    # Compute probabilities for each label based on labels of nearest neighbours\n",
    "    rho = np.zeros((no_of_inputs, no_of_neighbours, no_of_classes)) #Initialize matrix right size but containing zeros\n",
    "    for counter in range(no_of_classes):\n",
    "        rho[:, :, counter] = sorted_labels[:, :no_of_neighbours] == counter #Fill with values for each class and reduce from 3 to 2d\n",
    "    # Identify the correct label based on the previous probabilities\n",
    "    recovered_labels = np.argmax(np.mean(rho, 1), 1) #Actual rho is calculated here across number neighbours and max taken from classes returned so reduce from 2 to 1d. Here axis=1\n",
    "    return recovered_labels\n",
    "\n",
    "def classification_accuracy(estimated_labels, true_labels):\n",
    "    equal_labels = estimated_labels == true_labels\n",
    "    return np.mean(equal_labels)"
   ]
  },
  {
   "cell_type": "markdown",
   "metadata": {},
   "source": [
    "We generate two random subsets from our data; one that we use as our dataset for which we know the labels, the other as the input samples for which we want to estimate the correct class. We take both height and weight information into account to classify a sample. We compare the computed class labels with the true class labels."
   ]
  },
  {
   "cell_type": "code",
   "execution_count": 36,
   "metadata": {},
   "outputs": [
    {
     "name": "stdout",
     "output_type": "stream",
     "text": [
      "The recovered labels for the input samples are [1 0 0 1 0 0 1 0 0 0], the true labels are [1 0 0 1 0 0 1 1 1 0].\n",
      "0.8\n"
     ]
    }
   ],
   "source": [
    "# Example for 10 samples\n",
    "random_indices = np.random.permutation(len(binary_sex))\n",
    "no_of_inputs = 10\n",
    "no_of_points = 9990\n",
    "no_of_neighbours = 100\n",
    "inputs = np.c_[height[random_indices[:no_of_inputs]], weight[random_indices[:no_of_inputs]]]\n",
    "true_outputs = binary_sex[random_indices[:no_of_inputs]]\n",
    "dataset = [np.c_[height[random_indices[no_of_inputs:(no_of_inputs + no_of_points)]], \\\n",
    "                 weight[random_indices[no_of_inputs:(no_of_inputs + no_of_points)]]], \\\n",
    "           binary_sex[random_indices[no_of_inputs:(no_of_inputs + no_of_points)]]]\n",
    "recovered_labels = nearest_neighbour_classification(inputs, dataset, no_of_neighbours)\n",
    "print(\"The recovered labels for the input samples are {r}, the true labels are {t}.\".format(r = \\\n",
    "            recovered_labels, t = true_outputs))\n",
    "print(classification_accuracy(recovered_labels, true_outputs)) #Accuracy correct"
   ]
  },
  {
   "cell_type": "markdown",
   "metadata": {},
   "source": [
    "We determine an optimal parameter *no_of_neighbours* based on $K$-fold cross validation and grid search."
   ]
  },
  {
   "cell_type": "code",
   "execution_count": 5,
   "metadata": {},
   "outputs": [],
   "source": [
    "def grid_search(function, grid):\n",
    "    no_grid_point = len(grid)\n",
    "    function_values = []\n",
    "    for counter in range(no_grid_point):\n",
    "        function_values.append(function(grid[counter]))    \n",
    "    return grid[np.argmax(function_values)], np.max(function_values) #Now maximising otherwise same code as before\n",
    "\n",
    "def cross_validation(data, parameters, K):\n",
    "    inputs, labels = data\n",
    "    no_samples = len(labels)\n",
    "    indices = np.random.permutation(no_samples)\n",
    "    inputs = inputs[indices].reshape(K, -1, 2)\n",
    "    labels = labels[indices].reshape(K, -1)\n",
    "    list_of_optimal_neighbours = []\n",
    "    classification_accuracies = []\n",
    "    for counter in range(K):        \n",
    "        validation_inputs = inputs[counter].reshape(-1, 2)        \n",
    "        validation_labels = labels[counter].reshape(-1)                \n",
    "        training_inputs = np.delete(inputs, counter, axis=0).reshape(-1, 2)\n",
    "        training_labels = np.delete(labels, counter, axis=0).reshape(-1)\n",
    "        training_data = [training_inputs, training_labels]\n",
    "        classifier = lambda no_of_neighbours: classification_accuracy(nearest_neighbour_classification( \\\n",
    "                        validation_inputs, training_data, no_of_neighbours), validation_labels)\n",
    "        optimal_no_of_neighbours, accuracy = grid_search(classifier, parameters)\n",
    "        list_of_optimal_neighbours.append(optimal_no_of_neighbours)\n",
    "        classification_accuracies.append(accuracy)\n",
    "    return np.mean(optimal_no_of_neighbours), np.mean(classification_accuracies)"
   ]
  },
  {
   "cell_type": "markdown",
   "metadata": {},
   "source": [
    "We evaluate the cross valdiation for a range of different choices of the number of nearest neighbours."
   ]
  },
  {
   "cell_type": "code",
   "execution_count": 6,
   "metadata": {},
   "outputs": [
    {
     "name": "stdout",
     "output_type": "stream",
     "text": [
      "The best average no. of nearest neighbours for K = 4 is 11.0.\n",
      "The best classification accuracy on average is 91.08000000000001 %.\n"
     ]
    }
   ],
   "source": [
    "data = [np.c_[height, weight], binary_sex]\n",
    "K = 4 #Here make 4 sets and use 1 for validation each time\n",
    "#parameters = np.r_[np.arange(1, 21, 1), np.array([100, 200, 500]), np.arange(1000, 10001, 500)] \n",
    "#parameters = np.r_[np.arange(1, 21, 1), np.array([100, 200, 500])] \n",
    "#parameters = np.array([1, 2, 3, 4, 5])\n",
    "parameters = np.arange(1, 100, 10) #Even with 10 parameters will take a while\n",
    "optimal_no_of_neighbours, optimal_classification_accuracy = cross_validation(data, parameters, K)\n",
    "print(\"The best average no. of nearest neighbours for K = {k} is {n}.\\nThe best classification\".format(k = \\\n",
    "        K, n = optimal_no_of_neighbours), \"accuracy on average is {a} %.\".format(a = \\\n",
    "        100*optimal_classification_accuracy))"
   ]
  },
  {
   "cell_type": "markdown",
   "metadata": {},
   "source": [
    "We classify data points on a regular grid of data points that we can use for our visualiton."
   ]
  },
  {
   "cell_type": "code",
   "execution_count": 7,
   "metadata": {},
   "outputs": [],
   "source": [
    "heights = np.linspace(0, 2, 200) #Create grids in these ranges. Slow to calculate due to large grid size\n",
    "weights = np.linspace(1, 150, 150)\n",
    "height_grid, weight_grid = np.meshgrid(heights, weights, sparse=False, indexing='xy')\n",
    "grid_inputs = np.c_[height_grid.reshape(-1, 1), weight_grid.reshape(-1, 1)]\n",
    "grid_labels = nearest_neighbour_classification(grid_inputs, data, np.round(optimal_no_of_neighbours).astype(int))"
   ]
  },
  {
   "cell_type": "markdown",
   "metadata": {},
   "source": [
    "We visualise our results with with *imshow* from Matplotlib's Pyplot."
   ]
  },
  {
   "cell_type": "code",
   "execution_count": 8,
   "metadata": {},
   "outputs": [
    {
     "data": {
      "text/plain": [
       "<matplotlib.image.AxesImage at 0x113a0d080>"
      ]
     },
     "execution_count": 8,
     "metadata": {},
     "output_type": "execute_result"
    },
    {
     "data": {
      "image/png": "[encoded data removed]",
      "text/plain": [
       "<Figure size 432x288 with 1 Axes>"
      ]
     },
     "metadata": {
      "needs_background": "light"
     },
     "output_type": "display_data"
    }
   ],
   "source": [
    "plt.imshow(-grid_labels.reshape(150, 200), cmap='jet', extent=[0, 200, 1, 150], aspect=\"auto\")"
   ]
  },
  {
   "cell_type": "markdown",
   "metadata": {},
   "source": [
    "## Logistic regression\n",
    "\n",
    "We get\n",
    "\n",
    "$$ \\frac{\\partial (-\\log \\rho[y | X, W])}{\\partial w_k} = \\sum_{i=1}^s \\text{softmax}(f(x_i, W))_k x_i - \\sum_{i=1}^s 1_{y_i = k}x_i, $$\n",
    "\n",
    "where $f$ is the linear model as specified in the lecture notes."
   ]
  }
 ],
 "metadata": {
  "kernelspec": {
   "display_name": "Python 3",
   "language": "python",
   "name": "python3"
  },
  "language_info": {
   "codemirror_mode": {
    "name": "ipython",
    "version": 3
   },
   "file_extension": ".py",
   "mimetype": "text/x-python",
   "name": "python",
   "nbconvert_exporter": "python",
   "pygments_lexer": "ipython3",
   "version": "3.7.3"
  }
 },
 "nbformat": 4,
 "nbformat_minor": 4
}
