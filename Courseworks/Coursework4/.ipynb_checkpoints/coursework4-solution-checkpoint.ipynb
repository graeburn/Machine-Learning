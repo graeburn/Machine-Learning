{
 "cells": [
  {
   "cell_type": "markdown",
   "metadata": {},
   "source": [
    "# MTH786 - Coursework 4\n",
    "\n",
    "This is an exemplary solution notebook for the computational exercises of [Coursework 4](https://qmplus.qmul.ac.uk/pluginfile.php/2220881/mod_resource/content/4/coursework04.pdf) of the module MTH786U/P, Machine Learning with Python.\n",
    "\n",
    "Auhtor: [Martin Benning](mailto:m.benning@qmul.ac.uk)\n",
    "\n",
    "Date: 19.10.2020\n",
    "\n",
    "We begin by loading the NumPy and Matplotlib libraries."
   ]
  },
  {
   "cell_type": "code",
   "execution_count": 1,
   "metadata": {},
   "outputs": [],
   "source": [
    "%matplotlib inline\n",
    "import numpy as np\n",
    "import matplotlib.pyplot as plt"
   ]
  },
  {
   "cell_type": "markdown",
   "metadata": {},
   "source": [
    "## Polynomial regression in practice\n",
    "\n",
    "Here we solve the first six exercises for polynomial regression. We begin with the first exercise of implementing a function in Python that computes (and outputs) the polynomial data matrix $\\Phi(X)$ defined as\n",
    "\n",
    "$$ \\Phi(X) := \\left( \\begin{matrix}\n",
    "1 & x_1 & \\cdots & x_1^d \\\\\n",
    "1 & x_2 & \\cdots & x_2^d \\\\\n",
    "\\vdots & \\vdots & & \\vdots\\\\\n",
    "1 & x_s & \\cdots & x_s^d \\\\\n",
    "\\end{matrix} \\right) $$\n",
    "\n",
    "for $s$ inputs $\\{ x_i \\}_{i = 1}^s$. The function call should be of the form ***polynomial\\_basis(inputs, degree)***, where *inputs* is a [NumPy](https://numpy.org) array of inputs $x_1, \\ldots, x_s$ and *degree* is the degree of the polynomial. "
   ]
  },
  {
   "cell_type": "code",
   "execution_count": 2,
   "metadata": {},
   "outputs": [],
   "source": [
    "def polynomial_basis(inputs, degree=1):\n",
    "    basis_matrix = np.ones((len(inputs), 1)) # Correct shape matrix all containing 1\n",
    "    for counter in range(1, degree + 1):\n",
    "        basis_matrix = np.c_[basis_matrix, np.power(inputs, counter)] # Concatenate columns np.c_\n",
    "    return basis_matrix"
   ]
  },
  {
   "cell_type": "markdown",
   "metadata": {},
   "source": [
    "For the second exercise, we generate $s$ equidistant inputs $\\{ x_i \\}_{i = 1}^s$ in the interval $[0, 1]$ with the NumPy-command [***linspace***](https://numpy.org/doc/stable/reference/generated/numpy.linspace.html). We will denote $s$ as *no_of_samples* and set this value to $s = 1000$. This is only an example that can easily be altered. "
   ]
  },
  {
   "cell_type": "code",
   "execution_count": 4,
   "metadata": {},
   "outputs": [],
   "source": [
    "no_of_samples = 1000\n",
    "x = np.linspace(0, 1, no_of_samples)"
   ]
  },
  {
   "cell_type": "markdown",
   "metadata": {},
   "source": [
    "Next, we create two polynomial basis matrices with the previously generated inputs and the function ***polynomial_basis*** for degrees $d = 1$ and $d = 3$."
   ]
  },
  {
   "cell_type": "code",
   "execution_count": 7,
   "metadata": {},
   "outputs": [],
   "source": [
    "linear_basis = polynomial_basis(x)\n",
    "cubic_basis = polynomial_basis(x, degree=3)"
   ]
  },
  {
   "cell_type": "markdown",
   "metadata": {},
   "source": [
    "Having created a linear and a cubic basis matrix, we apply our matrices to the weights $w_1 = \\left( \\begin{matrix}\n",
    "2/5 & -4/5\n",
    "\\end{matrix} \\right)^\\top$ and $w_3 = \\left( \\begin{matrix}\n",
    "0 & 32/3 & -32 & 64/3\n",
    "\\end{matrix} \\right)^\\top$ from [Coursework 2](https://qmplus.qmul.ac.uk/pluginfile.php/2220874/mod_resource/content/6/coursework02.pdf) and store our results in arrays *y1* and *y2*."
   ]
  },
  {
   "cell_type": "code",
   "execution_count": 5,
   "metadata": {},
   "outputs": [],
   "source": [
    "weights1 = 1/5 * np.array([[2], [-4]]) # Write weights as column vector as row vector by default\n",
    "weights2 = 1/3 * np.array([[0], [32], [-96], [64]])\n",
    "y1 = linear_basis @ weights1 # @ one method for matrix multiplication\n",
    "y2 = cubic_basis @ weights2"
   ]
  },
  {
   "cell_type": "markdown",
   "metadata": {},
   "source": [
    "We visualise our results with tools from the Matplotlib library."
   ]
  },
  {
   "cell_type": "code",
   "execution_count": 6,
   "metadata": {},
   "outputs": [
    {
     "data": {
      "image/png": "[encoded data removed]",
      "text/plain": [
       "<Figure size 432x288 with 1 Axes>"
      ]
     },
     "metadata": {
      "needs_background": "light"
     },
     "output_type": "display_data"
    }
   ],
   "source": [
    "plt.plot(x, y1, '--', linewidth=2, label='$d = 1$')\n",
    "plt.plot(x, y2, linewidth=2, label='$d = 3$')\n",
    "plt.legend( prop={'size': 16})\n",
    "plt.xlabel('$x$-axis', fontsize=16)\n",
    "plt.xticks(fontsize=16)\n",
    "plt.ylabel('$y$-axis', fontsize=16)\n",
    "plt.yticks(fontsize=16)\n",
    "plt.tight_layout;"
   ]
  },
  {
   "cell_type": "markdown",
   "metadata": {},
   "source": [
    "We conclude this exercise by writing a function ***regression*** that takes two arguments *data_matrix* and *data_samples* and which computes and returns the solution $\\hat w$ of the normal equation $\\Phi(X)^\\top \\Phi(X) \\hat w = \\Phi(X) y$. Here $\\Phi(X)$ is the mathematical representation of *data_matrix* and $y$ is the mathematical representation of *data_samples*."
   ]
  },
  {
   "cell_type": "code",
   "execution_count": null,
   "metadata": {},
   "outputs": [],
   "source": [
    "def regression(data_matrix, data_samples):\n",
    "    gram_matrix = data_matrix.T @ data_matrix # .T to take transpose\n",
    "    right_hand_side = data_matrix.T @ data_samples\n",
    "    return np.linalg.solve(gram_matrix, right_hand_side)"
   ]
  },
  {
   "cell_type": "markdown",
   "metadata": {},
   "source": [
    "Last but not least, we test our function ***regression*** by computing weights for the degrees $d = 1$ and data *y1*, and $d = 3$ and data *y2*."
   ]
  },
  {
   "cell_type": "code",
   "execution_count": 8,
   "metadata": {},
   "outputs": [
    {
     "name": "stdout",
     "output_type": "stream",
     "text": [
      "The recovered weights are [[ 0.4 -0.8]] \n",
      "and [[ 1.87100113e-13  1.06666667e+01 -3.20000000e+01  2.13333333e+01]].\n"
     ]
    }
   ],
   "source": [
    "recovered_weights1 = regression(linear_basis, y1)\n",
    "recovered_weights2 = regression(cubic_basis, y2)\n",
    "print(\"The recovered weights are {w1} \\nand {w2}.\".format(w1 = recovered_weights1.T, w2 = recovered_weights2.T))"
   ]
  },
  {
   "cell_type": "markdown",
   "metadata": {},
   "source": [
    "## Model selection: information criteria\n",
    "\n",
    "In this exercise we want to demonstrate how the quality of models can be compared with the help of the Kullback-Leibler (KL) divergence. The KL divergence for two probabilities $p$ and $q$ is defined as\n",
    "\n",
    "$$ \\text{KL}(p, q) := \\sum_{i = 1}^s p_i \\log\\left(\\frac{p_i}{q_i}\\right) \\, , $$\n",
    "\n",
    "with the convention $0 \\log(0) = 0$. We begin with our first exercise of taking the inputs $\\{ x_i \\}_{i = 1}^s$ from the previous exercises and computing outputs $\\{ y_i \\}_{i = 1}^s$ that satisfy $y_i = \\sin(2\\pi x_i)$. We store our result in a variable *y*."
   ]
  },
  {
   "cell_type": "code",
   "execution_count": 9,
   "metadata": {},
   "outputs": [],
   "source": [
    "y = np.sin(2*np.pi*x)"
   ]
  },
  {
   "cell_type": "markdown",
   "metadata": {},
   "source": [
    "Next, we compute the [histograms](https://en.wikipedia.org/wiki/Histogram) of *y*, *y1* and *y2* with the NumPy function [*histogram*](https://numpy.org/doc/stable/reference/generated/numpy.histogram.html). Here, *y1* and *y2* are the arrays of the same name from the previous section on polynomial regression in practice. We set the number of histogram bins *no_of_bins* to twenty and the histogram range *histogram_range* to one. Please feel free to experiment with other choices."
   ]
  },
  {
   "cell_type": "code",
   "execution_count": 10,
   "metadata": {},
   "outputs": [
    {
     "data": {
      "image/png": "[encoded data removed]",
      "text/plain": [
       "<Figure size 432x288 with 1 Axes>"
      ]
     },
     "metadata": {
      "needs_background": "light"
     },
     "output_type": "display_data"
    }
   ],
   "source": [
    "no_of_bins = 20\n",
    "histogram_range=1\n",
    "hist, _ = np.histogram(y, bins=no_of_bins, range=(-histogram_range,histogram_range))\n",
    "hist = np.double(hist)\n",
    "plt.hist(y, bins=no_of_bins, range=(-histogram_range,histogram_range));"
   ]
  },
  {
   "cell_type": "code",
   "execution_count": 11,
   "metadata": {},
   "outputs": [
    {
     "data": {
      "image/png": "[encoded data removed]",
      "text/plain": [
       "<Figure size 432x288 with 1 Axes>"
      ]
     },
     "metadata": {
      "needs_background": "light"
     },
     "output_type": "display_data"
    }
   ],
   "source": [
    "hist1, _ = np.histogram(y1, bins=no_of_bins, range=(-histogram_range,histogram_range))\n",
    "hist1 = np.double(hist1)\n",
    "plt.hist(y1, bins=no_of_bins, range=(-histogram_range,histogram_range));"
   ]
  },
  {
   "cell_type": "code",
   "execution_count": 12,
   "metadata": {},
   "outputs": [
    {
     "data": {
      "image/png": "[encoded data removed]",
      "text/plain": [
       "<Figure size 432x288 with 1 Axes>"
      ]
     },
     "metadata": {
      "needs_background": "light"
     },
     "output_type": "display_data"
    }
   ],
   "source": [
    "hist2, _ = np.histogram(y2, bins=no_of_bins, range=(-histogram_range,histogram_range))\n",
    "hist2 = np.double(hist2)\n",
    "plt.hist(y2, bins=no_of_bins, range=(-histogram_range,histogram_range));"
   ]
  },
  {
   "cell_type": "markdown",
   "metadata": {},
   "source": [
    "Next, we write a function ***kullback_leibler_divergence(p, q)*** that takes two arrays *p* and *q* of the same length and computes their KL divergence as defined in the KL equation earlier."
   ]
  },
  {
   "cell_type": "code",
   "execution_count": 13,
   "metadata": {},
   "outputs": [],
   "source": [
    "def kullback_leibler_divergence(p, q):\n",
    "    summand = np.zeros_like(p) # Array of zeros the same shape so can check where p non-zero\n",
    "    summand[p != 0] = p[p != 0] * np.log(p[p != 0]/q[p != 0])\n",
    "    return np.sum(summand)"
   ]
  },
  {
   "cell_type": "markdown",
   "metadata": {},
   "source": [
    "Compute the KL divergences between *y* and *y1* as well as *y* and *y2*."
   ]
  },
  {
   "cell_type": "code",
   "execution_count": 22,
   "metadata": {},
   "outputs": [
    {
     "name": "stdout",
     "output_type": "stream",
     "text": [
      "The KL divergence between hist and hist1 is inf.\n",
      "\n",
      "The KL divergence between hist and hist2 is 177.0942570983347.\n"
     ]
    },
    {
     "name": "stderr",
     "output_type": "stream",
     "text": [
      "/anaconda3/lib/python3.7/site-packages/ipykernel_launcher.py:3: RuntimeWarning: divide by zero encountered in true_divide\n",
      "  This is separate from the ipykernel package so we can avoid doing imports until\n"
     ]
    }
   ],
   "source": [
    "# Strictly probabilities are normalised values though still works\n",
    "print(\"The KL divergence between hist and hist1 is {kl1}.\".format(kl1=kullback_leibler_divergence(hist, hist1)) \\\n",
    "      + \"\\n\\nThe KL divergence between hist and hist2 is {kl2}.\".format(kl2=kullback_leibler_divergence( \\\n",
    "        hist, hist2)))"
   ]
  },
  {
   "cell_type": "markdown",
   "metadata": {},
   "source": [
    "Evaluating the KL divergence for those two examples already shows a problem with the KL divergence in practice: if $q$ contains values that are zero, we inevitably divide by zero as we see from the RuntimeWarning. In the previous case, we can circumvent this issue by changing the order of the arguments *hist* and *hist1*."
   ]
  },
  {
   "cell_type": "code",
   "execution_count": 15,
   "metadata": {},
   "outputs": [
    {
     "name": "stdout",
     "output_type": "stream",
     "text": [
      "The KL divergence between hist1 and hist is 1333.8473029401744.\n"
     ]
    }
   ],
   "source": [
    "print(\"The KL divergence between hist1 and hist is {kl1}.\".format(kl1=kullback_leibler_divergence(hist1, hist)))"
   ]
  },
  {
   "cell_type": "markdown",
   "metadata": {},
   "source": [
    "A more important problem, however, is that we need to know the histogram of the true model function $f(x) = \\sin(2\\pi x)$, which is usually not available in practice. In this artificial example we know this histogram, which is why we can say whether the linear or the cubic basis model is a better model. Since the KL divergence between the histograms of *y* and *y2* is much lower than the KL divergence between the histograms of *y* and *y1*, we see that the cubic basis model is a better model approximation in terms of the KL divergence. Our next exercise is to show that the generalised KL divergence is a Bregman distance/divergence for the negative entropy function $E(p) := \\sum_{i = 1}^s p_i \\log(p_i) $, i.e.\n",
    "\n",
    "$$ \\text{KL}(p, q) + \\sum_{i = 1}^s [ q_i - p_i ]  = D_E(p, q) \\, , $$\n",
    "\n",
    "by using the definition of the Bregman distance/divergence from the lecture notes. Starting with the definition of the Bregman distance, we observe\n",
    "\n",
    "\\begin{align*}\n",
    "D_E(p, q) &= E(p) - E(q) - \\langle \\nabla E(q), p - q \\rangle \\, ,\\\\\n",
    "&= \\sum_{i = 1}^s p_i \\log(p_i) - \\sum_{i = 1}^s q_i \\log(q_i) - \\sum_{i = 1}^s (\\log(q_i) + 1)(p_i - q_i) \\, ,\\\\\n",
    "&= \\sum_{i = 1}^s p_i \\log(p_i) - \\sum_{i = 1}^s q_i \\log(q_i) + \\sum_{i = 1}^s q_i \\log(q_i) - \\sum_{i = 1}^s p_i \\log(q_i) + \\sum_{i = 1}^s \\left[q_i - p_i\\right] \\, , \\\\\n",
    "&= \\sum_{i = 1}^s p_i \\log\\left( \\frac{p_i}{q_i} \\right) + \\sum_{i = 1}^s \\left[q_i - p_i\\right] \\, ,\\\\\n",
    "&= \\text{KL}(p, q) + \\sum_{i = 1}^s [ q_i - p_i ] \\, .\n",
    "\\end{align*}\n",
    "\n",
    "This verifies the statement. From the previous computational example we had already seen that the KL divergence is not symmetric. Computing $\\text{KL}(p, q) + \\text{KL}(q, p)$ therefore yields\n",
    "\n",
    "\\begin{align*}\n",
    "\\text{KL}(p, q) + \\text{KL}(q, p) &= \\sum_{i = 1}^s p_i \\log\\left( \\frac{p_i}{q_i} \\right) + \\sum_{i = 1}^s q_i \\log\\left( \\frac{q_i}{p_i} \\right) \\, ,\\\\\n",
    "&= \\sum_{i = 1}^s \\left[ p_i \\log( p_i ) - p_i \\log( q_i ) + q_i \\log(q_i) - q_i \\log(p_i) \\right] \\, ,\\\\\n",
    "&= \\sum_{i = 1}^s \\left[ (p_i - q_i) \\log( p_i ) - (p_i -  q_i) \\log(q_i) \\right] \\, ,\\\\\n",
    "&= \\sum_{i = 1}^s (p_i - q_i) \\left( \\log( p_i ) - \\log(q_i) \\right) \\, , \\\\\n",
    "&= \\langle p - q, \\log(p) - \\log(q) \\rangle \\, .\n",
    "\\end{align*}\n",
    "\n",
    "An alternative information criterion is the Burbea-Rao distance with respect to the negative entropy function. For this function, the Burbea-Rao distance reads\n",
    "\n",
    "\\begin{align*}\n",
    "\\text{BR}(p, q) &= \\frac{E(p) + E(q)}{2} - E\\left( \\frac{p + q}{2} \\right) \\, , \\\\\n",
    "&= \\frac{1}{2} \\sum_{i = 1}^s \\left[ p_i \\log(p_i) + q_i \\log(q_i) - (p_i + q_i)\\log\\left(\\frac{p_i + q_i}{2} \\right) \\right] \\, ,\\\\\n",
    "&= \\frac{1}{2} \\sum_{i = 1}^s \\left[ p_i \\log\\left(\\frac{2p_i}{p_i + q_i}\\right) + q_i \\log\\left(\\frac{2q_i}{p_i + q_i}\\right) \\right] \\, .\n",
    "\\end{align*}\n",
    "\n",
    "For our final exercise, we write a Python function ***burbea_rao*** and repeat the comparison of histograms, but this time with the Burbea-Rao distance instead of the KL divergence. Advantages are the symmetry of the Burbea-Rao distance and that we do not necessarily need to divide by zero at any stage (although with the following naïve implementation we still do - it does not cause any harm, though."
   ]
  },
  {
   "cell_type": "code",
   "execution_count": 16,
   "metadata": {},
   "outputs": [],
   "source": [
    "def negative_entropy(argument):\n",
    "    summand = np.zeros_like(argument)\n",
    "    summand[argument != 0] = argument[argument != 0]*np.log(argument[argument != 0])\n",
    "    return summand\n",
    "\n",
    "def burbea_rao(p, q):\n",
    "    part1 = negative_entropy(p)\n",
    "    part2 = negative_entropy(q)\n",
    "    part3 = negative_entropy((p + q)/2)\n",
    "    return np.sum((part1 + part2)/2 - part3)\n",
    "\n",
    "def burbea_rao_alternative(p, q):\n",
    "    part1 = p*np.log(2*p/(p + q))\n",
    "    part1[p == 0] = 0\n",
    "    part2 = q*np.log(2*q/(p + q))\n",
    "    part2[q == 0] = 0\n",
    "    return 1/2*np.sum(part1 + part2)"
   ]
  },
  {
   "cell_type": "markdown",
   "metadata": {},
   "source": [
    "We conclude this coursework by evaluating the Burbea-Rao distance for the same histogram combinations."
   ]
  },
  {
   "cell_type": "code",
   "execution_count": 17,
   "metadata": {},
   "outputs": [
    {
     "name": "stdout",
     "output_type": "stream",
     "text": [
      "The Burbea-Rao distance between hist and hist1 is 368.7072725667639.\n",
      "\n",
      "The Burbea-Rao distance between hist and hist2 is 6.276044687685157.\n"
     ]
    }
   ],
   "source": [
    "print(\"The Burbea-Rao distance between hist and hist1 is {br1}.\".format(br1=burbea_rao(hist, hist1)) \\\n",
    "      + \"\\n\\nThe Burbea-Rao distance between hist and hist2 is {br2}.\".format(br2=burbea_rao(hist, hist2)))"
   ]
  },
  {
   "cell_type": "markdown",
   "metadata": {},
   "source": [
    "We see that the cubic model is still a much better fit compared to the linear model."
   ]
  },
  {
   "cell_type": "code",
   "execution_count": null,
   "metadata": {},
   "outputs": [],
   "source": []
  }
 ],
 "metadata": {
  "kernelspec": {
   "display_name": "Python 3",
   "language": "python",
   "name": "python3"
  },
  "language_info": {
   "codemirror_mode": {
    "name": "ipython",
    "version": 3
   },
   "file_extension": ".py",
   "mimetype": "text/x-python",
   "name": "python",
   "nbconvert_exporter": "python",
   "pygments_lexer": "ipython3",
   "version": "3.7.3"
  }
 },
 "nbformat": 4,
 "nbformat_minor": 4
}
