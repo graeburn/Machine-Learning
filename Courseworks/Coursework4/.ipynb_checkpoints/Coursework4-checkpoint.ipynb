{
 "cells": [
  {
   "cell_type": "code",
   "execution_count": 1,
   "metadata": {},
   "outputs": [],
   "source": [
    "from __future__ import print_function  # needed for Python 2\n",
    "from __future__ import division        # needed for Python 2\n",
    "\n",
    "import numpy as np\n",
    "import matplotlib.pyplot as plt"
   ]
  },
  {
   "cell_type": "code",
   "execution_count": 2,
   "metadata": {},
   "outputs": [],
   "source": [
    "# Polynomial regression in practice"
   ]
  },
  {
   "cell_type": "code",
   "execution_count": 3,
   "metadata": {},
   "outputs": [],
   "source": [
    "# Compute polynomial data matrix Phi\n",
    "def polynomial_basis(inputArray,degree):\n",
    "    \n",
    "    Phi = np.empty(shape=[len(inputArray),degree+1])\n",
    "    \n",
    "    for i in range(0,len(inputArray)):\n",
    "        for j in range(0,degree+1):\n",
    "            Phi[i][j] = inputArray[i]**j\n",
    "    return Phi\n"
   ]
  },
  {
   "cell_type": "code",
   "execution_count": 4,
   "metadata": {},
   "outputs": [
    {
     "name": "stdout",
     "output_type": "stream",
     "text": [
      "[0.  0.2 0.4 0.6 0.8 1. ]\n"
     ]
    }
   ],
   "source": [
    "#Generate s equidistant inputs\n",
    "s = 6\n",
    "inputArray = np.linspace(0,1, num = s)\n",
    "print(inputArray)"
   ]
  },
  {
   "cell_type": "code",
   "execution_count": 5,
   "metadata": {},
   "outputs": [
    {
     "name": "stdout",
     "output_type": "stream",
     "text": [
      "[[1.    0.    0.    0.   ]\n",
      " [1.    0.2   0.04  0.008]\n",
      " [1.    0.4   0.16  0.064]\n",
      " [1.    0.6   0.36  0.216]\n",
      " [1.    0.8   0.64  0.512]\n",
      " [1.    1.    1.    1.   ]]\n"
     ]
    }
   ],
   "source": [
    "basis_matrix1 = polynomial_basis(inputArray,1)\n",
    "basis_matrix3 = polynomial_basis(inputArray,3)\n",
    "print(basis_matrix3)"
   ]
  },
  {
   "cell_type": "code",
   "execution_count": 6,
   "metadata": {},
   "outputs": [
    {
     "name": "stdout",
     "output_type": "stream",
     "text": [
      "[ 0.4   0.24  0.08 -0.08 -0.24 -0.4 ]\n",
      "[ 0.00000000e+00  1.02400000e+00  5.12000000e-01 -5.12000000e-01\n",
      " -1.02400000e+00 -1.77635684e-15]\n"
     ]
    }
   ],
   "source": [
    "w1 = np.array([2/5,-4/5])\n",
    "w3 = np.array([0, 32/3, -32, 64/3])\n",
    "\n",
    "y1 = np.matmul(basis_matrix1,w1.transpose())\n",
    "y3 = np.matmul(basis_matrix3,w3.transpose())\n",
    "print(y1)\n",
    "print(y3)"
   ]
  },
  {
   "cell_type": "code",
   "execution_count": 7,
   "metadata": {},
   "outputs": [
    {
     "data": {
      "image/png": "[encoded data removed]",
      "text/plain": [
       "<Figure size 432x288 with 1 Axes>"
      ]
     },
     "metadata": {
      "needs_background": "light"
     },
     "output_type": "display_data"
    }
   ],
   "source": [
    "plt.plot(inputArray, y1)\n",
    "plt.plot(inputArray, y3)\n",
    "plt.xlabel('x')\n",
    "plt.ylabel('y')\n",
    "plt.show()"
   ]
  },
  {
   "cell_type": "code",
   "execution_count": 8,
   "metadata": {},
   "outputs": [],
   "source": [
    "\n",
    "# Compute weights solution\n",
    "def regression(data_matrix,data_samples):\n",
    "    \n",
    "    a = np.matmul(data_matrix.transpose(),data_matrix)\n",
    "    b = np.matmul(data_matrix.transpose(), data_samples.transpose())\n",
    "    weights = np.linalg.solve(a, b)\n",
    "    return weights"
   ]
  },
  {
   "cell_type": "code",
   "execution_count": 9,
   "metadata": {},
   "outputs": [
    {
     "name": "stdout",
     "output_type": "stream",
     "text": [
      "[ 0.4 -0.8]\n",
      "[ 1.89478063e-14  1.06666667e+01 -3.20000000e+01  2.13333333e+01]\n"
     ]
    }
   ],
   "source": [
    "\n",
    "# Check reproduce original weights\n",
    "print(regression(basis_matrix1, y1))\n",
    "print(regression(basis_matrix3, y3))"
   ]
  },
  {
   "cell_type": "code",
   "execution_count": null,
   "metadata": {},
   "outputs": [],
   "source": []
  },
  {
   "cell_type": "code",
   "execution_count": 10,
   "metadata": {},
   "outputs": [],
   "source": [
    "# Model selection: information criteria"
   ]
  },
  {
   "cell_type": "code",
   "execution_count": 11,
   "metadata": {},
   "outputs": [
    {
     "name": "stdout",
     "output_type": "stream",
     "text": [
      "[ 0.00000000e+00  9.51056516e-01  5.87785252e-01 -5.87785252e-01\n",
      " -9.51056516e-01 -2.44929360e-16]\n"
     ]
    }
   ],
   "source": [
    "y = np.sin(2*np.pi*inputArray)\n",
    "print(y)"
   ]
  },
  {
   "cell_type": "code",
   "execution_count": 12,
   "metadata": {},
   "outputs": [
    {
     "name": "stdout",
     "output_type": "stream",
     "text": [
      "[0.5  0.25 0.25 0.5 ]\n",
      "[0.5  0.25 0.25 0.5 ]\n",
      "[0.25 0.5  0.5  0.25]\n"
     ]
    }
   ],
   "source": [
    "# Histogram returns the values of the histogram and the bin edges. \n",
    "# Can specify no_bins and value range to restrict values to (range = (-1,1))\n",
    "no_bins = 4\n",
    "\n",
    "hist_y,bin_edges_y = np.histogram(y, bins = no_bins)\n",
    "p_y = hist_y/no_bins\n",
    "print(hist_y/no_bins)\n",
    "\n",
    "hist_y1,bin_edges_y1 = np.histogram(y1,bins = no_bins)\n",
    "p_y1 = hist_y1/no_bins\n",
    "print(hist_y1/no_bins)\n",
    "\n",
    "hist_y3,bin_edges_y3 = np.histogram(y3,bins = no_bins)\n",
    "p_y3 = hist_y3/no_bins\n",
    "print(hist_y3/no_bins)"
   ]
  },
  {
   "cell_type": "code",
   "execution_count": 13,
   "metadata": {},
   "outputs": [],
   "source": [
    "# Compute KL divergence\n",
    "def kullback_leibler_divergence(p,q):\n",
    "\n",
    "    r_Array = p[np.nonzero(p)]*np.log(p[np.nonzero(p)]/q[np.nonzero(p)])\n",
    "    KL = np.sum(r_Array)\n",
    "\n",
    "    return KL"
   ]
  },
  {
   "cell_type": "code",
   "execution_count": 14,
   "metadata": {},
   "outputs": [
    {
     "name": "stdout",
     "output_type": "stream",
     "text": [
      "0.0\n",
      "0.34657359027997264\n"
     ]
    }
   ],
   "source": [
    "# Use probabilities based on histogram values (not y values)\n",
    "print(kullback_leibler_divergence(p_y, p_y1))\n",
    "print(kullback_leibler_divergence(p_y,p_y3))\n",
    "\n",
    "# Will give an an error if any of q probabilties are 0!"
   ]
  },
  {
   "cell_type": "code",
   "execution_count": 15,
   "metadata": {},
   "outputs": [],
   "source": [
    "# Compute Burbea-Rao distance\n",
    "def burbea_rao_distance(p,q):\n",
    "\n",
    "    BR = 1/2*(np.sum(p*np.log(p)) + np.sum(q*np.log(q))) - 1/2*np.sum((p+q)*np.log((p+q)/2))\n",
    "\n",
    "    return BR"
   ]
  },
  {
   "cell_type": "code",
   "execution_count": 16,
   "metadata": {},
   "outputs": [
    {
     "name": "stdout",
     "output_type": "stream",
     "text": [
      "0.0\n",
      "0.08494951839769871\n"
     ]
    }
   ],
   "source": [
    "# Use probabilities based on histogram values (not y values)\n",
    "print(burbea_rao_distance(p_y, p_y1))\n",
    "print(burbea_rao_distance(p_y,p_y3))\n",
    "\n",
    "# Will not give an an error if any of q probabilties are 0!"
   ]
  },
  {
   "cell_type": "code",
   "execution_count": null,
   "metadata": {},
   "outputs": [],
   "source": []
  },
  {
   "cell_type": "code",
   "execution_count": null,
   "metadata": {},
   "outputs": [],
   "source": []
  },
  {
   "cell_type": "code",
   "execution_count": null,
   "metadata": {},
   "outputs": [],
   "source": []
  }
 ],
 "metadata": {
  "kernelspec": {
   "display_name": "Python 3 (ipykernel)",
   "language": "python",
   "name": "python3"
  },
  "language_info": {
   "codemirror_mode": {
    "name": "ipython",
    "version": 3
   },
   "file_extension": ".py",
   "mimetype": "text/x-python",
   "name": "python",
   "nbconvert_exporter": "python",
   "pygments_lexer": "ipython3",
   "version": "3.9.13"
  }
 },
 "nbformat": 4,
 "nbformat_minor": 2
}
