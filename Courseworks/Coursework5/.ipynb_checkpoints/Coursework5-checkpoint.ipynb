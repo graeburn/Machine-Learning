{
 "cells": [
  {
   "cell_type": "code",
   "execution_count": 1,
   "metadata": {},
   "outputs": [],
   "source": [
    "from __future__ import print_function  # needed for Python 2\n",
    "from __future__ import division        # needed for Python 2\n",
    "\n",
    "import numpy as np\n",
    "import matplotlib.pyplot as plt"
   ]
  },
  {
   "cell_type": "code",
   "execution_count": 2,
   "metadata": {},
   "outputs": [],
   "source": [
    "# Model selection: cross validation"
   ]
  },
  {
   "cell_type": "code",
   "execution_count": 3,
   "metadata": {},
   "outputs": [],
   "source": [
    "#Generate s equidistant inputs\n",
    "s = 100\n",
    "inputArray = np.linspace(0,1, num = s)"
   ]
  },
  {
   "cell_type": "code",
   "execution_count": 4,
   "metadata": {},
   "outputs": [],
   "source": [
    "y = np.sin(2*np.pi*inputArray)"
   ]
  },
  {
   "cell_type": "code",
   "execution_count": 5,
   "metadata": {},
   "outputs": [],
   "source": [
    "# Create 100 noise elements with mean 0 and sd 0.1\n",
    "noise = np.random.normal(0,0.1,100)\n",
    "\n",
    "# Create perturbed y values\n",
    "y_peturb = y + noise"
   ]
  },
  {
   "cell_type": "code",
   "execution_count": 6,
   "metadata": {},
   "outputs": [
    {
     "data": {
      "image/png": "[encoded data removed]",
      "text/plain": [
       "<Figure size 432x288 with 1 Axes>"
      ]
     },
     "metadata": {
      "needs_background": "light"
     },
     "output_type": "display_data"
    }
   ],
   "source": [
    "plt.plot(inputArray, y_peturb, 'o')\n",
    "plt.xlabel('x')\n",
    "plt.ylabel('y')\n",
    "plt.show()"
   ]
  },
  {
   "cell_type": "code",
   "execution_count": 7,
   "metadata": {},
   "outputs": [],
   "source": [
    "# Create random cross-validation training and test sets (80:20)\n",
    "# Want matching x and y_peturb values\n",
    "random_order_s_values = np.random.permutation(s)\n",
    "training_indices, test_indices = random_order_s_values[:int(0.8*s)], random_order_s_values[int(0.8*s):]\n",
    "\n",
    "training_x, test_x = np.take(inputArray, training_indices), np.take(inputArray, test_indices)\n",
    "training_y, test_y = np.take(y_peturb, training_indices), np.take(y_peturb,test_indices)\n"
   ]
  },
  {
   "cell_type": "code",
   "execution_count": 29,
   "metadata": {},
   "outputs": [],
   "source": [
    "# From last week to calculate weights for regression function\n",
    "\n",
    "# Compute polynomial data matrix Phi\n",
    "def polynomial_basis(inputArray,degree):\n",
    "    \n",
    "    Phi = np.empty(shape=[len(inputArray),degree+1])\n",
    "    \n",
    "    for i in range(0,len(inputArray)):\n",
    "        for j in range(0,degree+1):\n",
    "            Phi[i][j] = inputArray[i]**j\n",
    "    return Phi\n",
    "\n",
    "# Calculate Phi matrix for training set and different d\n",
    "basis_matrix1 = polynomial_basis(training_x,1)\n",
    "basis_matrix2 = polynomial_basis(training_x,2)\n",
    "basis_matrix3 = polynomial_basis(training_x,3)\n",
    "basis_matrix4 = polynomial_basis(training_x,4)\n",
    "basis_matrix5 = polynomial_basis(training_x,5)\n",
    "basis_matrix6 = polynomial_basis(training_x,6)\n",
    "basis_matrix7 = polynomial_basis(training_x,7)\n",
    "basis_matrix8 = polynomial_basis(training_x,8)\n",
    "\n",
    "# Compute weights solution algorithm\n",
    "def regression(data_matrix,data_samples):\n",
    "    \n",
    "    a = np.matmul(data_matrix.transpose(),data_matrix)\n",
    "    b = np.matmul(data_matrix.transpose(), data_samples.transpose())\n",
    "    weights = np.linalg.solve(a, b)\n",
    "    return weights\n",
    "\n",
    "# Compute Output of polynomial regression function from applying to validation set\n",
    "basis_matrix1_val = polynomial_basis(test_x,1)\n",
    "basis_matrix2_val = polynomial_basis(test_x,2)\n",
    "basis_matrix3_val = polynomial_basis(test_x,3)\n",
    "basis_matrix4_val = polynomial_basis(test_x,4)\n",
    "basis_matrix5_val = polynomial_basis(test_x,5)\n",
    "basis_matrix6_val = polynomial_basis(test_x,6)\n",
    "basis_matrix7_val = polynomial_basis(test_x,7)\n",
    "basis_matrix8_val = polynomial_basis(test_x,8)\n",
    "\n",
    "y1 = np.matmul(basis_matrix1_val, regression(basis_matrix1, training_y).transpose())\n",
    "y2 = np.matmul(basis_matrix2_val, regression(basis_matrix2, training_y).transpose())\n",
    "y3 = np.matmul(basis_matrix3_val, regression(basis_matrix3, training_y).transpose())\n",
    "y4 = np.matmul(basis_matrix4_val, regression(basis_matrix4, training_y).transpose())\n",
    "y5 = np.matmul(basis_matrix5_val, regression(basis_matrix5, training_y).transpose())\n",
    "y6 = np.matmul(basis_matrix6_val, regression(basis_matrix6, training_y).transpose())\n",
    "y7 = np.matmul(basis_matrix7_val, regression(basis_matrix7, training_y).transpose())\n",
    "y8 = np.matmul(basis_matrix8_val, regression(basis_matrix8, training_y).transpose())"
   ]
  },
  {
   "cell_type": "code",
   "execution_count": 30,
   "metadata": {},
   "outputs": [],
   "source": [
    "# Compute Validation error function \n",
    "def val_error(polynomial_output, output_samples):\n",
    "    \n",
    "    error = (1/(2*len(output_samples)))*np.sum((polynomial_output - output_samples)**2)\n",
    "    return error"
   ]
  },
  {
   "cell_type": "code",
   "execution_count": 31,
   "metadata": {},
   "outputs": [
    {
     "name": "stdout",
     "output_type": "stream",
     "text": [
      "0.12574950621587347\n",
      "0.12615196178600604\n",
      "0.0063281052689681885\n",
      "0.006346867003366748\n",
      "0.004890828073078394\n",
      "0.004862124278278811\n",
      "0.0049931713417635136\n",
      "0.005124496381290802\n"
     ]
    }
   ],
   "source": [
    "# Compute validation error using 20% validation set\n",
    "\n",
    "val_error1 = val_error(y1, test_y)\n",
    "print(val_error1)\n",
    "val_error2 = val_error(y2, test_y)\n",
    "print(val_error2)\n",
    "val_error3 = val_error(y3, test_y)\n",
    "print(val_error3)\n",
    "val_error4 = val_error(y4, test_y)\n",
    "print(val_error4)\n",
    "val_error5 = val_error(y5, test_y)\n",
    "print(val_error5)\n",
    "val_error6 = val_error(y6, test_y)\n",
    "print(val_error6)\n",
    "val_error7 = val_error(y7, test_y)\n",
    "print(val_error7)\n",
    "val_error8 = val_error(y8, test_y)\n",
    "print(val_error8)"
   ]
  },
  {
   "cell_type": "code",
   "execution_count": 32,
   "metadata": {},
   "outputs": [],
   "source": [
    "def crossValidate(dataset_x, dataset_y, folds, d):\n",
    "    \n",
    "    # Shuffle values so different each time run\n",
    "    random_order_indices = np.random.permutation(len(dataset_y))\n",
    "    dataset_val_x, dataset_val_y = np.take(dataset_x, random_order_indices), np.take(dataset_y,random_order_indices)\n",
    "    \n",
    "    sum = 0\n",
    "    \n",
    "    foldSize = int(len(dataset_y)/folds) # foldsize\n",
    "    \n",
    "    for i in range(0,len(dataset_y),foldSize): # will run 10 times for 10-folds\n",
    "        \n",
    "        val_fold_x = dataset_val_x[i:i + foldSize]\n",
    "        val_fold_y = dataset_val_y[i:i + foldSize]\n",
    "        training_folds_x = np.append(dataset_val_x[0:i],dataset_val_x[i + foldSize:])\n",
    "        training_folds_y = np.append(dataset_val_y[0:i],dataset_val_y[i + foldSize:])\n",
    "        \n",
    "        basis_matrix_training = polynomial_basis(training_folds_x,d)\n",
    "        weights = regression(basis_matrix_training, training_folds_y)\n",
    "        \n",
    "        basis_matrix_val = polynomial_basis(val_fold_x,d)\n",
    "        regression_y = np.matmul(basis_matrix_val, weights.transpose())\n",
    "        validation_error = val_error(regression_y, val_fold_y)\n",
    "        \n",
    "        sum+= validation_error\n",
    "    \n",
    "    average_val_error = sum/folds\n",
    "    \n",
    "    return average_val_error"
   ]
  },
  {
   "cell_type": "code",
   "execution_count": 34,
   "metadata": {},
   "outputs": [
    {
     "name": "stdout",
     "output_type": "stream",
     "text": [
      "d=1\n",
      "0.12695132379782292\n",
      "0.12367546847241871\n",
      "0.11200697778664671\n",
      "0.12686059942194688\n",
      "0.11289032900756421\n",
      "0.12169396014791795\n",
      "d=2\n",
      "0.1436376317002844\n",
      "0.12323623926225606\n",
      "0.12247997119879755\n",
      "0.13324775603033773\n",
      "0.11695154064472776\n",
      "0.12901196687280947\n",
      "d=3\n",
      "0.007528381950451062\n",
      "0.007369225570338602\n",
      "0.007014657822401518\n",
      "0.007580155798693656\n",
      "0.007036140232929618\n",
      "0.007713416177169725\n",
      "d=4\n",
      "0.007357034450515564\n",
      "0.007964899395583782\n",
      "0.006966657295086038\n",
      "0.007692353765518518\n",
      "0.0071490003303757\n",
      "0.00808895968957301\n",
      "d=5\n",
      "0.005393860843730915\n",
      "0.005280150502736622\n",
      "0.005079093677857788\n",
      "0.0057110622148229566\n",
      "0.0048833521300045025\n",
      "0.005369648675257025\n",
      "d=6\n",
      "0.005549201234174039\n",
      "0.005524263193821247\n",
      "0.005058083553001042\n",
      "0.005380391798612211\n",
      "0.005203344137785109\n",
      "0.00636416114076665\n",
      "d=7\n",
      "0.006090057381415394\n",
      "0.005766289728432922\n",
      "0.0054553902834181284\n",
      "0.006183207520900854\n",
      "0.005125944597013826\n",
      "0.005616357074114278\n",
      "d=8\n",
      "0.006066915326814648\n",
      "0.006338691694662272\n",
      "0.005341478084954453\n",
      "0.00574263593496108\n",
      "0.005325240590374435\n",
      "0.005628316452542994\n"
     ]
    }
   ],
   "source": [
    "# Calculate for d=1 to 8 with K=6 to 11 folds\n",
    "\n",
    "# d=1\n",
    "print(\"d=1\")\n",
    "print(crossValidate(training_x,training_y,6,1))\n",
    "print(crossValidate(training_x,training_y,7,1))\n",
    "print(crossValidate(training_x,training_y,8,1))\n",
    "print(crossValidate(training_x,training_y,9,1))\n",
    "print(crossValidate(training_x,training_y,10,1))\n",
    "print(crossValidate(training_x,training_y,11,1))\n",
    "\n",
    "# d=2\n",
    "print(\"d=2\")\n",
    "print(crossValidate(training_x,training_y,6,2))\n",
    "print(crossValidate(training_x,training_y,7,2))\n",
    "print(crossValidate(training_x,training_y,8,2))\n",
    "print(crossValidate(training_x,training_y,9,2))\n",
    "print(crossValidate(training_x,training_y,10,2))\n",
    "print(crossValidate(training_x,training_y,11,2))\n",
    "\n",
    "# d=3\n",
    "print(\"d=3\")\n",
    "print(crossValidate(training_x,training_y,6,3))\n",
    "print(crossValidate(training_x,training_y,7,3))\n",
    "print(crossValidate(training_x,training_y,8,3))\n",
    "print(crossValidate(training_x,training_y,9,3))\n",
    "print(crossValidate(training_x,training_y,10,3))\n",
    "print(crossValidate(training_x,training_y,11,3))\n",
    "\n",
    "# d=4\n",
    "print(\"d=4\")\n",
    "print(crossValidate(training_x,training_y,6,4))\n",
    "print(crossValidate(training_x,training_y,7,4))\n",
    "print(crossValidate(training_x,training_y,8,4))\n",
    "print(crossValidate(training_x,training_y,9,4))\n",
    "print(crossValidate(training_x,training_y,10,4))\n",
    "print(crossValidate(training_x,training_y,11,4))\n",
    "\n",
    "# d=5\n",
    "print(\"d=5\")\n",
    "print(crossValidate(training_x,training_y,6,5))\n",
    "print(crossValidate(training_x,training_y,7,5))\n",
    "print(crossValidate(training_x,training_y,8,5))\n",
    "print(crossValidate(training_x,training_y,9,5))\n",
    "print(crossValidate(training_x,training_y,10,5))\n",
    "print(crossValidate(training_x,training_y,11,5))\n",
    "\n",
    "# d=6\n",
    "print(\"d=6\")\n",
    "print(crossValidate(training_x,training_y,6,6))\n",
    "print(crossValidate(training_x,training_y,7,6))\n",
    "print(crossValidate(training_x,training_y,8,6))\n",
    "print(crossValidate(training_x,training_y,9,6))\n",
    "print(crossValidate(training_x,training_y,10,6))\n",
    "print(crossValidate(training_x,training_y,11,6))\n",
    "\n",
    "# d=7\n",
    "print(\"d=7\")\n",
    "print(crossValidate(training_x,training_y,6,7))\n",
    "print(crossValidate(training_x,training_y,7,7))\n",
    "print(crossValidate(training_x,training_y,8,7))\n",
    "print(crossValidate(training_x,training_y,9,7))\n",
    "print(crossValidate(training_x,training_y,10,7))\n",
    "print(crossValidate(training_x,training_y,11,7))\n",
    "\n",
    "# d=8\n",
    "print(\"d=8\")\n",
    "print(crossValidate(training_x,training_y,6,8))\n",
    "print(crossValidate(training_x,training_y,7,8))\n",
    "print(crossValidate(training_x,training_y,8,8))\n",
    "print(crossValidate(training_x,training_y,9,8))\n",
    "print(crossValidate(training_x,training_y,10,8))\n",
    "print(crossValidate(training_x,training_y,11,8))"
   ]
  },
  {
   "cell_type": "code",
   "execution_count": 35,
   "metadata": {},
   "outputs": [
    {
     "data": {
      "image/png": "[encoded data removed]",
      "text/plain": [
       "<Figure size 432x288 with 1 Axes>"
      ]
     },
     "metadata": {
      "needs_background": "light"
     },
     "output_type": "display_data"
    }
   ],
   "source": [
    "# Apply d=5 on test data\n",
    "basis_matrix6 = polynomial_basis(training_x,6)\n",
    "weights_final = regression(basis_matrix6, training_y)\n",
    "\n",
    "basis_matrix_test = polynomial_basis(test_x,6)\n",
    "test_function_values_y = np.matmul(basis_matrix_test, weights_final.transpose())\n",
    "\n",
    "plt.plot(inputArray, y, label='true function')\n",
    "plt.plot(test_x, test_y,'o',label='test samples')\n",
    "plt.plot(test_x,test_function_values_y,'o',label='polynomial function')\n",
    "plt.xlabel('x')\n",
    "plt.ylabel('y')\n",
    "plt.legend()\n",
    "plt.show()"
   ]
  },
  {
   "cell_type": "code",
   "execution_count": null,
   "metadata": {},
   "outputs": [],
   "source": []
  },
  {
   "cell_type": "code",
   "execution_count": null,
   "metadata": {},
   "outputs": [],
   "source": []
  },
  {
   "cell_type": "code",
   "execution_count": null,
   "metadata": {},
   "outputs": [],
   "source": []
  }
 ],
 "metadata": {
  "kernelspec": {
   "display_name": "Python 3 (ipykernel)",
   "language": "python",
   "name": "python3"
  },
  "language_info": {
   "codemirror_mode": {
    "name": "ipython",
    "version": 3
   },
   "file_extension": ".py",
   "mimetype": "text/x-python",
   "name": "python",
   "nbconvert_exporter": "python",
   "pygments_lexer": "ipython3",
   "version": "3.9.13"
  }
 },
 "nbformat": 4,
 "nbformat_minor": 2
}
